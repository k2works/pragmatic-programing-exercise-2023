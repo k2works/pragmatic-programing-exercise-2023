{
 "cells": [
  {
   "cell_type": "markdown",
   "source": [
    " # 文字列検索"
   ],
   "metadata": {}
  },
  {
   "cell_type": "code",
   "execution_count": 10,
   "source": [
    "from typing import Any, MutableSequence, Sequence\n",
    "import unittest\n",
    "import doctest"
   ],
   "outputs": [],
   "metadata": {}
  },
  {
   "cell_type": "markdown",
   "source": [
    " ## 力まかせ法"
   ],
   "metadata": {}
  },
  {
   "cell_type": "markdown",
   "source": [
    " ### 文字列探索"
   ],
   "metadata": {}
  },
  {
   "cell_type": "markdown",
   "source": [
    " ### 力まかせ法（単純法）"
   ],
   "metadata": {}
  },
  {
   "cell_type": "markdown",
   "source": [
    " #### List 7-1 力まかせ法による文字列探索"
   ],
   "metadata": {}
  },
  {
   "cell_type": "code",
   "execution_count": 11,
   "source": [
    "class TestBf(unittest.TestCase):\n",
    "    def test_bf_match(self):\n",
    "        self.assertEqual(bf_match(\"ABC\", \"ABC\"), 0)\n",
    "        self.assertEqual(bf_match(\"ABC\", \"ABD\"), -1)\n",
    "        self.assertEqual(bf_match(\"ABC\", \"ABABC\"), -1)\n",
    "\n",
    "\n",
    "def bf_match(txt: str, pat: str) -> int:\n",
    "    \"\"\"力まかせ法による文字列探索\"\"\"\n",
    "    pt = 0        # txtをなぞるカーソル\n",
    "    pp = 0        # patをなぞるカーソル\n",
    "\n",
    "    while pt != len(txt) and pp != len(pat):\n",
    "        if txt[pt] == pat[pp]:\n",
    "            pt += 1\n",
    "            pp += 1\n",
    "        else:\n",
    "            pt = pt - pp + 1\n",
    "            pp = 0\n",
    "\n",
    "    return pp - pp if pp == len(pat) else -1"
   ],
   "outputs": [],
   "metadata": {}
  },
  {
   "cell_type": "markdown",
   "source": [
    " ## KMP法"
   ],
   "metadata": {}
  },
  {
   "cell_type": "markdown",
   "source": [
    " ### KMP法"
   ],
   "metadata": {}
  },
  {
   "cell_type": "markdown",
   "source": [
    " #### List 7-2 KMP法による文字列探索"
   ],
   "metadata": {}
  },
  {
   "cell_type": "code",
   "execution_count": 12,
   "source": [
    "class TestKmp(unittest.TestCase):\n",
    "    def test_kmp_match(self):\n",
    "        self.assertEqual(kmp_match(\"ABC\", \"ABC\"), 0)\n",
    "        self.assertEqual(kmp_match(\"ABC\", \"ABD\"), -1)\n",
    "        self.assertEqual(kmp_match(\"ABC\", \"ABABC\"), -1)\n",
    "\n",
    "\n",
    "def kmp_match(txt: str, pat: str) -> int:\n",
    "    \"\"\"KMP法による文字列探索\"\"\"\n",
    "    pr = 1  # txtをなぞるカーソル\n",
    "    pt = 0  # patをなぞるカーソル\n",
    "    skip = [0] * (len(pat) + 1)  # スキップテーブル\n",
    "\n",
    "    # スキップテーブルの作成\n",
    "    skip[pr] = 0\n",
    "    while pr != len(pat):\n",
    "        if pat[pr] == pat[pt]:\n",
    "            pr += 1\n",
    "            pt += 1\n",
    "            skip[pr] = pt\n",
    "        elif pt == 0:\n",
    "            pr += 1\n",
    "            skip[pr] = pt\n",
    "        else:\n",
    "            pt = skip[pt]\n",
    "\n",
    "    # 探索\n",
    "    pt = pr = 0\n",
    "    while pt != len(txt) and pr != len(pat):\n",
    "        if txt[pt] == pat[pr]:\n",
    "            pt += 1\n",
    "            pr += 1\n",
    "        elif pr == 0:\n",
    "            pt += 1\n",
    "        else:\n",
    "            pr = skip[pr]\n",
    "\n",
    "    return pt - pr if pr == len(pat) else -1"
   ],
   "outputs": [],
   "metadata": {}
  },
  {
   "cell_type": "markdown",
   "source": [
    " ## Boyer-Moore法"
   ],
   "metadata": {}
  },
  {
   "cell_type": "markdown",
   "source": [
    " ### Boyer-Moore法"
   ],
   "metadata": {}
  },
  {
   "cell_type": "markdown",
   "source": [
    " #### List 7-3 Boyer-Moore法による文字列探索(対象は0-255の文字）"
   ],
   "metadata": {}
  },
  {
   "cell_type": "code",
   "execution_count": 13,
   "source": [
    "class TestBm(unittest.TestCase):\n",
    "    def test_bm_match(self):\n",
    "        self.assertEqual(bm_match(\"ABC\", \"ABC\"), 0)\n",
    "        self.assertEqual(bm_match(\"ABC\", \"ABD\"), -1)\n",
    "        self.assertEqual(bm_match(\"ABC\", \"ABABC\"), -1)\n",
    "\n",
    "\n",
    "def bm_match(txt: str, pat: str) -> int:\n",
    "    \"\"\"Boyer-Moore法による文字列探索\"\"\"\n",
    "    skip = [None] * 256  # スキップテーブル\n",
    "\n",
    "    # スキップテーブルの作成\n",
    "    for pt in range(256):\n",
    "        skip[pt] = len(pat)\n",
    "    for pt in range(len(pat)):\n",
    "        skip[ord(pat[pt])] = len(pat) - pt - 1\n",
    "\n",
    "    # 探索\n",
    "    while pt < len(txt):\n",
    "        pp = len(pat) - 1\n",
    "        while txt[pt] == pat[pp]:\n",
    "            if pp == 0:\n",
    "                return pt\n",
    "            pt -= 1\n",
    "            pp -= 1\n",
    "        pt += skip[ord(txt[pt])] if skip[ord(txt[pt])] > len(pat) - pp \\\n",
    "            else len(pat) - pp\n",
    "\n",
    "    return -1"
   ],
   "outputs": [],
   "metadata": {}
  },
  {
   "cell_type": "code",
   "execution_count": 14,
   "source": [
    "unittest.main(argv=[''], verbosity=2, exit=False)\n",
    "doctest.testmod(verbose=True)"
   ],
   "outputs": [
    {
     "output_type": "stream",
     "name": "stderr",
     "text": [
      "test_bf_match (__main__.TestBf) ... ok\n",
      "test_bm_match (__main__.TestBm) ... ok\n",
      "test_kmp_match (__main__.TestKmp) ... "
     ]
    },
    {
     "output_type": "stream",
     "name": "stdout",
     "text": [
      "12 items had no tests:\n",
      "    __main__\n",
      "    __main__.TestBf\n",
      "    __main__.TestBf.test_bf_match\n",
      "    __main__.TestBm\n",
      "    __main__.TestBm.test_bm_match\n",
      "    __main__.TestKmp\n",
      "    __main__.TestKmp.test_kmp_match\n",
      "    __main__.__VSCODE_compute_hash\n",
      "    __main__.__VSCODE_wrap_run_cell\n",
      "    __main__.bf_match\n",
      "    __main__.bm_match\n",
      "    __main__.kmp_match\n",
      "0 tests in 12 items.\n",
      "0 passed and 0 failed.\n",
      "Test passed.\n"
     ]
    },
    {
     "output_type": "stream",
     "name": "stderr",
     "text": [
      "ok\n",
      "\n",
      "----------------------------------------------------------------------\n",
      "Ran 3 tests in 0.003s\n",
      "\n",
      "OK\n"
     ]
    },
    {
     "output_type": "execute_result",
     "data": {
      "text/plain": [
       "TestResults(failed=0, attempted=0)"
      ]
     },
     "metadata": {},
     "execution_count": 14
    }
   ],
   "metadata": {}
  }
 ],
 "nbformat": 4,
 "nbformat_minor": 2,
 "metadata": {
  "language_info": {
   "codemirror_mode": {
    "name": "ipython",
    "version": 3
   },
   "file_extension": ".py",
   "mimetype": "text/x-python",
   "name": "python",
   "nbconvert_exporter": "python",
   "pygments_lexer": "ipython3",
   "version": 3
  },
  "orig_nbformat": 4
 }
}