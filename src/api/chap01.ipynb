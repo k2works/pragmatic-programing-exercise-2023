{
 "cells": [
  {
   "cell_type": "markdown",
   "source": [
    " # 基本的なアルゴリズム"
   ],
   "metadata": {}
  },
  {
   "cell_type": "code",
   "execution_count": 2,
   "source": [
    "import unittest\n",
    "import doctest"
   ],
   "outputs": [],
   "metadata": {}
  },
  {
   "cell_type": "markdown",
   "source": [
    " ## アルゴリズムとは"
   ],
   "metadata": {}
  },
  {
   "cell_type": "markdown",
   "source": [
    " ### ３値の最大値"
   ],
   "metadata": {}
  },
  {
   "cell_type": "markdown",
   "source": [
    " #### List 1- 1 ３つの整数値を読み込んで最大値を求めて表示"
   ],
   "metadata": {}
  },
  {
   "cell_type": "markdown",
   "source": [
    " ```python\n",
    " print('三つの整数値を読み込んで最大値を求めて表示')\n",
    " a = int(input('整数aの値 : '))\n",
    " b = int(input('整数bの値 : '))\n",
    " c = int(input('整数cの値 : '))\n",
    "\n",
    " maximum = a\n",
    " if b > maximum:\n",
    "    maximum = b\n",
    " if c > maximum:\n",
    "    maximum = c\n",
    " ```\n",
    " print(f'最大値は{maximum}です。')"
   ],
   "metadata": {}
  },
  {
   "cell_type": "markdown",
   "source": [
    " #### List 1-2 三つの整数値を求めて表示（すべての大小関係に対して確認）"
   ],
   "metadata": {}
  },
  {
   "cell_type": "code",
   "execution_count": 3,
   "source": [
    "class TestMax3(unittest.TestCase):\n",
    "    def test_max(self):\n",
    "        for a, b, c, ans in [\n",
    "            (3, 2, 1, 3),\n",
    "            (3, 2, 2, 3),\n",
    "            (3, 1, 2, 3),\n",
    "            (3, 2, 3, 3),\n",
    "            (2, 1, 3, 3),\n",
    "            (3, 3, 2, 3),\n",
    "            (3, 3, 3, 3),\n",
    "            (2, 2, 3, 3),\n",
    "            (2, 3, 1, 3),\n",
    "            (2, 3, 2, 3),\n",
    "            (1, 3, 2, 3),\n",
    "            (2, 3, 3, 3),\n",
    "            (1, 2, 3, 3),\n",
    "        ]:\n",
    "            with self.subTest(a=a,  b=b, c=c, ans=ans):\n",
    "                self.assertEqual(max3(a, b, c), ans)\n",
    "\n",
    "\n",
    "def max3(a, b, c):\n",
    "    \"\"\"三つの整数値を読み込んで最大値を求めて表示\n",
    "    >>> max3(1, 3, 2)\n",
    "    3\n",
    "    \"\"\"\n",
    "    maximum = a\n",
    "    if b > maximum:\n",
    "        maximum = b\n",
    "    if c > maximum:\n",
    "        maximum = c\n",
    "\n",
    "    return maximum"
   ],
   "outputs": [],
   "metadata": {}
  },
  {
   "cell_type": "markdown",
   "source": [
    " #### List 1C-1 三つの整数値を読み込んで中央値を求めて表示"
   ],
   "metadata": {}
  },
  {
   "cell_type": "code",
   "execution_count": 4,
   "source": [
    "class TestMed3(unittest.TestCase):\n",
    "    def test_med3(self):\n",
    "        for a, b, c, expected in [\n",
    "            (3, 2, 1, 2),\n",
    "            (3, 2, 2, 2),\n",
    "            (3, 1, 2, 2),\n",
    "            (3, 2, 3, 3),\n",
    "            (2, 1, 3, 2),\n",
    "            (3, 3, 2, 3),\n",
    "            (3, 3, 3, 3),\n",
    "            (2, 2, 3, 2),\n",
    "            (2, 3, 1, 2),\n",
    "            (2, 3, 2, 2),\n",
    "            (1, 3, 2, 2),\n",
    "            (2, 3, 3, 3),\n",
    "            (1, 2, 3, 2),\n",
    "        ]:\n",
    "            with self.subTest(a=a,  b=b, c=c, expected=expected):\n",
    "                self.assertEqual(expected, med3(a, b, c))\n",
    "\n",
    "\n",
    "def med3(a, b, c):\n",
    "    \"\"\"a,b,cの中央値を求めて返却\n",
    "    >>> med3(1, 3, 2)\n",
    "    2\n",
    "    \"\"\"\n",
    "    if a >= b:\n",
    "        if b >= c:\n",
    "            return b\n",
    "        elif a <= c:\n",
    "            return a\n",
    "        else:\n",
    "            return c\n",
    "    elif a > c:\n",
    "        return a\n",
    "    elif b > c:\n",
    "        return c\n",
    "    else:\n",
    "        return b"
   ],
   "outputs": [],
   "metadata": {}
  },
  {
   "cell_type": "markdown",
   "source": [
    " ### 条件判定と分岐"
   ],
   "metadata": {}
  },
  {
   "cell_type": "markdown",
   "source": [
    " #### List 1-3 読み込んだ整数値の符号を表示\n",
    " ```python\n",
    " n = int(input('整数を入力してください：'))\n",
    "\n",
    " if n > 0:\n",
    "     print('その値は正です。')\n",
    " elif n < 0:\n",
    "     print('その値は負です。')\n",
    " else:\n",
    "     print('その値は0です。')\n",
    " ```"
   ],
   "metadata": {}
  },
  {
   "cell_type": "markdown",
   "source": [
    " #### List 1-4 整数値の判定（その１）\n",
    " ```python\n",
    " n = int(input('整数：'))\n",
    " if n == 0:\n",
    "     print('A')\n",
    " elif n == 2:\n",
    "     print('B')\n",
    " else:\n",
    "     print('C')\n",
    " ```"
   ],
   "metadata": {}
  },
  {
   "cell_type": "markdown",
   "source": [
    " #### List 1-5 整数値の判定（その２）\n",
    " ```python\n",
    " n = int(input('整数：'))\n",
    " if n == 0:\n",
    "     print('A')\n",
    " elif n == 1:\n",
    "     print('B')\n",
    " elif n == 2:\n",
    "     print('C')\n",
    " ```"
   ],
   "metadata": {}
  },
  {
   "cell_type": "markdown",
   "source": [
    " #### List 1-6 整数値の判定（その２の正体）\n",
    " ```python\n",
    " n = int(input('整数：'))\n",
    " if n == 1:\n",
    "     print('A')\n",
    " elif n == 2:\n",
    "     print('B')\n",
    " elif n == 3:\n",
    "     print('C')\n",
    " else:\n",
    "     pass\n",
    " ```"
   ],
   "metadata": {}
  },
  {
   "cell_type": "code",
   "execution_count": 5,
   "source": [
    "class TestJudgeSign(unittest.TestCase):\n",
    "    def test_judge_sign(self):\n",
    "        self.assertEqual(judge_sign(17), 'その値は正です。')\n",
    "        self.assertEqual(judge_sign(-5), 'その値は負です。')\n",
    "        self.assertEqual(judge_sign(0), 'その値は0です。')\n",
    "\n",
    "\n",
    "def judge_sign(n):\n",
    "    \"\"\" 読み込んだ整数値の符号を表示\n",
    "    >>> judge_sign(17)\n",
    "    'その値は正です。'\n",
    "    \"\"\"\n",
    "    if n > 0:\n",
    "        return ('その値は正です。')\n",
    "    elif n < 0:\n",
    "        return ('その値は負です。')\n",
    "    else:\n",
    "        return ('その値は0です。')"
   ],
   "outputs": [],
   "metadata": {}
  },
  {
   "cell_type": "markdown",
   "source": [
    " ### フローチャート（流れ図）の記号"
   ],
   "metadata": {}
  },
  {
   "cell_type": "markdown",
   "source": [
    " ## 繰り返し"
   ],
   "metadata": {}
  },
  {
   "cell_type": "markdown",
   "source": [
    " ### 1からnまでの整数の総和を求める"
   ],
   "metadata": {}
  },
  {
   "cell_type": "markdown",
   "source": [
    " #### List 1-7 1からnまでの総和を求める（while文）\n",
    " ```python\n",
    " print('1からnまでの総和を求めます。')\n",
    " n = int(input('nの値：'))\n",
    " sum = 0\n",
    " i = 1\n",
    " while i <= n:\n",
    "     sum += i\n",
    "     i += 1\n",
    " print(f'1から{n}までの総和は{sum}です。')\n",
    " ```"
   ],
   "metadata": {}
  },
  {
   "cell_type": "markdown",
   "source": [
    " ### for文による繰返し"
   ],
   "metadata": {}
  },
  {
   "cell_type": "markdown",
   "source": [
    " #### List 1-8 1からnまでの総和を求める（for文）\n",
    " ```python\n",
    " print('1からnまでの総和を求めます。')\n",
    " n = int(input('nの値：'))\n",
    "\n",
    " sum = 0\n",
    " for i in range(1, n + 1):\n",
    "     sum += i\n",
    "\n",
    " print(f'1から{n}までの総和は{sum}です。')\n",
    " ```"
   ],
   "metadata": {}
  },
  {
   "cell_type": "markdown",
   "source": [
    " ### 2値のソートと2値の交換"
   ],
   "metadata": {}
  },
  {
   "cell_type": "markdown",
   "source": [
    " #### List 1-9 aからbまでの総和を求める（for文）\n",
    " ```python\n",
    " print('aからbまでの総和を求めます。')\n",
    " a = int(input('整数a：'))\n",
    " b = int(input('整数b：'))\n",
    "\n",
    " if a > b:\n",
    "     a, b = b, a\n",
    "\n",
    " sum = 0\n",
    " for i in range(a, b + 1):\n",
    "     sum += i\n",
    "\n",
    " print(f'{a}から{b}までの総和は{sum}です。')\n",
    " ```"
   ],
   "metadata": {}
  },
  {
   "cell_type": "code",
   "execution_count": 6,
   "source": [
    "class TestSum1ToNWhile(unittest.TestCase):\n",
    "    def test_sum_1_to_n_while(self):\n",
    "        self.assertEqual(sum_1_to_n_while(5), 15)\n",
    "\n",
    "    def test_sum_1_to_n_for(self):\n",
    "        self.assertEqual(sum_1_to_n_for(5), 15)\n",
    "\n",
    "\n",
    "def sum_1_to_n_while(n):\n",
    "    \"\"\" while文による繰り返し\n",
    "    >>> sum_1_to_n_while(5)\n",
    "    15\n",
    "    \"\"\"\n",
    "    sum = 0\n",
    "    i = 1\n",
    "    while i <= n:\n",
    "        sum += i\n",
    "        i += 1\n",
    "    return sum\n",
    "\n",
    "\n",
    "def sum_1_to_n_for(n):\n",
    "    \"\"\" for文による繰り返し\n",
    "    >>> sum_1_to_n_while(5)\n",
    "    15\n",
    "    \"\"\"\n",
    "    sum = 0\n",
    "    for i in range(1, n + 1):\n",
    "        sum += i\n",
    "\n",
    "    return sum"
   ],
   "outputs": [],
   "metadata": {}
  },
  {
   "cell_type": "markdown",
   "source": [
    " ### 繰り返しの過程における条件判定（その１）"
   ],
   "metadata": {}
  },
  {
   "cell_type": "markdown",
   "source": [
    " #### List 1-10 aからbまでの総和を求める（求める過程の式も表示：その１）\n",
    " ```python\n",
    " print('aからbまでの総和を求めます。')\n",
    " a = int(input('整数a：'))\n",
    " b = int(input('整数b：'))\n",
    "\n",
    " if a > b:\n",
    "     a, b = b, a\n",
    "\n",
    " sum = 0\n",
    " for i in range(a, b + 1):\n",
    "     if i < b:\n",
    "         print(f'{i} + ', end='')\n",
    "     else:\n",
    "         print(f'{i} = ', end='')\n",
    "     sum += i\n",
    "\n",
    " print(sum)\n",
    " ```"
   ],
   "metadata": {}
  },
  {
   "cell_type": "code",
   "execution_count": 7,
   "source": [
    "class TestSumVerbose(unittest.TestCase):\n",
    "    def test_sum_verbose_1(self):\n",
    "        self.assertEqual(sum_verbose_1(3, 3), '3 = 3')\n",
    "        self.assertEqual(sum_verbose_1(3, 4), '3 + 4 = 7')\n",
    "        self.assertEqual(sum_verbose_1(3, 7), '3 + 4 + 5 + 6 + 7 = 25')\n",
    "\n",
    "    def test_sum_verbose_2(self):\n",
    "        self.assertEqual(sum_verbose_2(3, 3), '3 = 3')\n",
    "        self.assertEqual(sum_verbose_2(3, 4), '3 + 4 = 7')\n",
    "        self.assertEqual(sum_verbose_2(3, 7), '3 + 4 + 5 + 6 + 7 = 25')\n",
    "\n",
    "\n",
    "def sum_verbose_1(a, b):\n",
    "    \"\"\" aからbまでの総和を求める\n",
    "    >>> sum_verbose_1(3,4)\n",
    "    '3 + 4 = 7'\n",
    "    \"\"\"\n",
    "\n",
    "    if a > b:\n",
    "        a, b = b, a\n",
    "\n",
    "    sum = 0\n",
    "    result = ''\n",
    "    for i in range(a, b + 1):\n",
    "        if i < b:\n",
    "            result += f'{i} + '\n",
    "        else:\n",
    "            result += f'{i} ='\n",
    "        sum += i\n",
    "    result += f' {sum}'\n",
    "    return result\n",
    "\n",
    "\n",
    "def sum_verbose_2(a, b):\n",
    "    \"\"\" aからbまでの総和を求める\n",
    "    >>> sum_verbose_2(3,4)\n",
    "    '3 + 4 = 7'\n",
    "    \"\"\"\n",
    "    if a > b:\n",
    "        a, b = b, a\n",
    "\n",
    "    sum = 0\n",
    "    result = ''\n",
    "    for i in range(a, b):\n",
    "        result += f'{i} + '\n",
    "        sum += i\n",
    "    sum += b\n",
    "    result += f'{b} = {sum}'\n",
    "    return result"
   ],
   "outputs": [],
   "metadata": {}
  },
  {
   "cell_type": "markdown",
   "source": [
    " #### List 1-11 aからbまでの総和を求める（求める過程の式も表示：その２）\n",
    "\n",
    "  ```python\n",
    " print('aからbまでの総和を求めます。')\n",
    " a = int(input('整数a：'))\n",
    " b = int(input('整数b：'))\n",
    "\n",
    " if a > b:\n",
    "     a, b = b, a\n",
    "\n",
    " sum = 0\n",
    " for i in range(a, b + 1):\n",
    "     print(f'{i} + ', end='')\n",
    "     sum += i\n",
    "\n",
    " print(f'{b} = ', end='')\n",
    " sum += b\n",
    "\n",
    " print(sum)\n",
    " ```"
   ],
   "metadata": {}
  },
  {
   "cell_type": "markdown",
   "source": [
    " ### 繰り返しの過程における条件判定（その２）"
   ],
   "metadata": {}
  },
  {
   "cell_type": "markdown",
   "source": [
    " #### List 1-12 記号文字+と-を交互に表示（その１）\n",
    " ```python\n",
    " print('記号文字+と-を交互に表示します。')\n",
    " n = int(input('全部で何個：'))\n",
    "\n",
    " for i in range(n):\n",
    "     if i % 2:\n",
    "         print('-', end='')\n",
    "     else:\n",
    "         print('+', end='')\n",
    " print()\n",
    " ```\n",
    " #### List 1-13 記号文字+と-を交互に表示（その２）\n",
    " ```python\n",
    " print('記号文字+と-を交互に表示します。')\n",
    " n = int(input('全部で何個：'))\n",
    "\n",
    " for _ in range(n // 2):\n",
    "     print('+-', end='')\n",
    "\n",
    " if n % 2:\n",
    "     print('+', end='')\n",
    " print()\n",
    " ```"
   ],
   "metadata": {}
  },
  {
   "cell_type": "code",
   "execution_count": 8,
   "source": [
    "class TestAlternative(unittest.TestCase):\n",
    "    def test_alternative_1(self):\n",
    "        self.assertEqual(alternative_1(12), '+-+-+-+-+-+-')\n",
    "\n",
    "    def test_alternative_2(self):\n",
    "        self.assertEqual(alternative_2(12), '+-+-+-+-+-+-')\n",
    "\n",
    "\n",
    "def alternative_1(n):\n",
    "    \"\"\" 記号文字+と-を交互に表示（その１）\n",
    "    >>> alternative_1(12)\n",
    "    '+-+-+-+-+-+-'\n",
    "    \"\"\"\n",
    "    result = ''\n",
    "\n",
    "    for i in range(n):\n",
    "        if i % 2:\n",
    "            result += '-'\n",
    "        else:\n",
    "            result += '+'\n",
    "\n",
    "    return result\n",
    "\n",
    "\n",
    "def alternative_2(n):\n",
    "    \"\"\" 記号文字+と-を交互に表示（その２）\n",
    "    >>> alternative_2(12)\n",
    "    '+-+-+-+-+-+-'\n",
    "    \"\"\"\n",
    "    result = ''\n",
    "    for _ in range(n // 2):\n",
    "        result += '+-'\n",
    "\n",
    "    if n % 2:\n",
    "        result += '+'\n",
    "\n",
    "    return result"
   ],
   "outputs": [],
   "metadata": {}
  },
  {
   "cell_type": "markdown",
   "source": [
    " ### 繰り返しの過程における条件判定（その３）"
   ],
   "metadata": {}
  },
  {
   "cell_type": "markdown",
   "source": [
    " #### List 1-14 n個の記号文字*をw個ごとに改行しながら表示（その１）\n",
    " ```python\n",
    " print('記号文字*を表示します。')\n",
    " n = int(input('全部で何個：'))\n",
    " w = int(input('何個ごとに改行しますか：'))\n",
    "\n",
    " for i in range(n):\n",
    "     print('*', end='')\n",
    "     if i % w == w - 1:\n",
    "         print()\n",
    "\n",
    " if n % w:\n",
    "     print()\n",
    " ```"
   ],
   "metadata": {}
  },
  {
   "cell_type": "markdown",
   "source": [
    " #### List 1-15 n個の記号文字*をw個ごとに改行しながら表示（その２）\n",
    " ```python\n",
    " print('記号文字*を表示します。')\n",
    " n = int(input('全部で何個：'))\n",
    " w = int(input('何個ごとに改行しますか：'))\n",
    "\n",
    " for _ in range(n // w):\n",
    "     print('*' * w)\n",
    "\n",
    " rest = n % w\n",
    " if rest:\n",
    "     print('*' * rest)\n",
    " ```"
   ],
   "metadata": {}
  },
  {
   "cell_type": "code",
   "execution_count": 9,
   "source": [
    "class TestPrintStars(unittest.TestCase):\n",
    "    def test_print_starts_1(self):\n",
    "        self.assertEqual(print_starts_1(14, 5), '*****\\n*****\\n****\\n')\n",
    "\n",
    "    def test_print_starts_2(self):\n",
    "        self.assertEqual(print_starts_2(14, 5), '*****\\n*****\\n****\\n')\n",
    "\n",
    "\n",
    "def print_starts_1(n, w):\n",
    "    \"\"\" n個の記号文字*をw個ごとに改行しながら表示（その１）\n",
    "    >>> print_starts_1(14,5)\n",
    "    '*****\\\\n*****\\\\n****\\\\n'\n",
    "    \"\"\"\n",
    "    result = ''\n",
    "    for i in range(n):\n",
    "        result += '*'\n",
    "        if i % w == w - 1:\n",
    "            result += '\\n'\n",
    "\n",
    "    if n % w:\n",
    "        result += '\\n'\n",
    "\n",
    "    return result\n",
    "\n",
    "\n",
    "def print_starts_2(n, w):\n",
    "    \"\"\" n個の記号文字*をw個ごとに改行しながら表示（その２）\n",
    "    >>> print_starts_2(14,5)\n",
    "    '*****\\\\n*****\\\\n****\\\\n'\n",
    "    \"\"\"\n",
    "    result = ''\n",
    "    for _ in range(n // w):\n",
    "        result += '*' * w + '\\n'\n",
    "\n",
    "    rest = n % w\n",
    "    if rest:\n",
    "        result += '*' * rest + '\\n'\n",
    "\n",
    "    return result"
   ],
   "outputs": [],
   "metadata": {}
  },
  {
   "cell_type": "markdown",
   "source": [
    " ### 正の値の読み込み"
   ],
   "metadata": {}
  },
  {
   "cell_type": "markdown",
   "source": [
    " #### List 1-16 1からnまでの総和を求める（nに正の整数値を読み込む）\n",
    " ```python\n",
    " print('1からnまでの総和を求めます。')\n",
    "\n",
    " while True:\n",
    "     n = int(input('nの値：'))\n",
    "     if n > 0:\n",
    "         break\n",
    "\n",
    " sum = 0\n",
    " i = 1\n",
    "\n",
    " for i in range(1, n + 1):\n",
    "     sum += i\n",
    "     i += 1\n",
    " print(f'１から{n}までの総和は{sum}です。')\n",
    " ```"
   ],
   "metadata": {}
  },
  {
   "cell_type": "code",
   "execution_count": 10,
   "source": [
    "class TestSum1ToPositive(unittest.TestCase):\n",
    "    def test_sum_1_to_positive(self):\n",
    "        self.assertEqual(sum_1_to_positive(-6), None)\n",
    "        self.assertEqual(sum_1_to_positive(0), None)\n",
    "        self.assertEqual(sum_1_to_positive(10), 55)\n",
    "\n",
    "\n",
    "def sum_1_to_positive(n):\n",
    "    \"\"\" 1からnまでの総和を求める（ｎに正の整数値を読み込む）\n",
    "    >>> sum_1_to_positive(10)\n",
    "    55\n",
    "    \"\"\"\n",
    "    result = ''\n",
    "    if n <= 0:\n",
    "        return None\n",
    "\n",
    "    while True:\n",
    "        if n > 0:\n",
    "            break\n",
    "\n",
    "    sum = 0\n",
    "    i = 1\n",
    "\n",
    "    for i in range(1, n + 1):\n",
    "        sum += i\n",
    "        i += 1\n",
    "\n",
    "    return sum"
   ],
   "outputs": [],
   "metadata": {}
  },
  {
   "cell_type": "markdown",
   "source": [
    " ### 返と面積が整数値である長方形"
   ],
   "metadata": {}
  },
  {
   "cell_type": "markdown",
   "source": [
    " #### List 1-17 縦横が整数で面積がareaの長方形の辺の長さを列挙\n",
    "\n",
    " ```python\n",
    " area = int(input('面積は：'))\n",
    "\n",
    " for i in range(1, area + 1):\n",
    "     if i * i > area:\n",
    "         break\n",
    "     if area % i:\n",
    "         continue\n",
    "     print(f'{i}×{area // i}')\n",
    " ```"
   ],
   "metadata": {}
  },
  {
   "cell_type": "markdown",
   "source": [
    " #### List 1-18 10～99の乱数をn個生成（13が生成されたら中断）\n",
    " ```python\n",
    " import random\n",
    "\n",
    " n = int(input('乱数は何個：'))\n",
    "\n",
    " for _ in range(n):\n",
    "     r = random.randint(10, 99)\n",
    "     print(r, end=' ')\n",
    "     if r == 13:\n",
    "         print('\\n終了します。')\n",
    "         break\n",
    " else:\n",
    "     print('\\n乱数生成を終了します。')\n",
    " ```"
   ],
   "metadata": {}
  },
  {
   "cell_type": "code",
   "execution_count": 11,
   "source": [
    "class TestRectangle(unittest.TestCase):\n",
    "    def test_rectangle(self):\n",
    "        self.assertEqual(rectangle(32), '1x32 2x16 4x8 ')\n",
    "\n",
    "\n",
    "def rectangle(area):\n",
    "    \"\"\" 縦横が整数で面積がareaの長方形の辺の長さを列挙\n",
    "    >>> rectangle(32)\n",
    "    '1x32 2x16 4x8 '\n",
    "    \"\"\"\n",
    "    result = ''\n",
    "    for i in range(1, area + 1):\n",
    "        if i * i > area:\n",
    "            break\n",
    "        if area % i:\n",
    "            continue\n",
    "        result += f'{i}x{area // i} '\n",
    "\n",
    "    return result\n",
    "\n",
    "\n",
    "class TestSkip(unittest.TestCase):\n",
    "    def test_skip_1(self):\n",
    "        self.assertEqual(skip_1(), '1 2 3 4 5 6 7 9 10 11 12 ')\n",
    "\n",
    "    def test_skip_2(self):\n",
    "        self.assertEqual(skip_2(), '1 2 3 4 5 6 7 9 10 11 12 ')\n",
    "\n",
    "\n",
    "def skip_1():\n",
    "    \"\"\" 1から12までを８をスキップして繰り返す（その１）\n",
    "    >>> skip_1()\n",
    "    '1 2 3 4 5 6 7 9 10 11 12 '\n",
    "    \"\"\"\n",
    "    result = ''\n",
    "    for i in range(1, 13):\n",
    "        if i == 8:\n",
    "            continue\n",
    "        result += f'{i} '\n",
    "    return result\n",
    "\n",
    "\n",
    "def skip_2():\n",
    "    \"\"\" 1から12までを８をスキップして繰り返す（その２）\n",
    "    >>> skip_2()\n",
    "    '1 2 3 4 5 6 7 9 10 11 12 '\n",
    "    \"\"\"\n",
    "    result = ''\n",
    "    for i in list(range(1, 8)) + list(range(9, 13)):\n",
    "        result += f'{i} '\n",
    "    return result"
   ],
   "outputs": [],
   "metadata": {}
  },
  {
   "cell_type": "markdown",
   "source": [
    " ### 繰り返しのスキップと複数のrangeの走査"
   ],
   "metadata": {}
  },
  {
   "cell_type": "markdown",
   "source": [
    " #### List 1-19 1から12までを8をスキップして繰り返す（その１）"
   ],
   "metadata": {}
  },
  {
   "cell_type": "code",
   "execution_count": 12,
   "source": [
    "for i in range(1, 13):\n",
    "    if i == 8:\n",
    "        continue\n",
    "    print(i, end=' ')\n",
    "print()"
   ],
   "outputs": [
    {
     "output_type": "stream",
     "name": "stdout",
     "text": [
      "1 2 3 4 5 6 7 9 10 11 12 \n"
     ]
    }
   ],
   "metadata": {}
  },
  {
   "cell_type": "markdown",
   "source": [
    " #### List 1-20 1から12までを8をスキップして繰り返す（その２）"
   ],
   "metadata": {}
  },
  {
   "cell_type": "code",
   "execution_count": 13,
   "source": [
    "for i in list(range(1, 8)) + list(range(9, 13)):\n",
    "    print(i, end=' ')\n",
    "print()"
   ],
   "outputs": [
    {
     "output_type": "stream",
     "name": "stdout",
     "text": [
      "1 2 3 4 5 6 7 9 10 11 12 \n"
     ]
    }
   ],
   "metadata": {}
  },
  {
   "cell_type": "markdown",
   "source": [
    " #### List 1C-2 ２桁の正の整数値（10～99）を読み込む\n",
    " ```python\n",
    " print('２桁の整数値を入力してください。')\n",
    " while True:\n",
    "     no = int(input('値は：'))\n",
    "     if no >= 10 and no <= 99\n",
    "         break\n",
    " print(f'読み込んだのは{no}です。')\n",
    " ```"
   ],
   "metadata": {}
  },
  {
   "cell_type": "markdown",
   "source": [
    " ### 構造化プログラミング"
   ],
   "metadata": {}
  },
  {
   "cell_type": "markdown",
   "source": [
    " ### 多重ループ"
   ],
   "metadata": {}
  },
  {
   "cell_type": "markdown",
   "source": [
    " #### 九九の表"
   ],
   "metadata": {}
  },
  {
   "cell_type": "markdown",
   "source": [
    " #### List 1-21 九九の表を表示"
   ],
   "metadata": {}
  },
  {
   "cell_type": "code",
   "execution_count": 14,
   "source": [
    "print('-' * 27)\n",
    "for i in range(1, 10):\n",
    "    for j in range(1, 10):\n",
    "        print(f'{i * j:3}', end='')\n",
    "    print()\n",
    "print('-' * 27)"
   ],
   "outputs": [
    {
     "output_type": "stream",
     "name": "stdout",
     "text": [
      "---------------------------\n",
      "  1  2  3  4  5  6  7  8  9\n",
      "  2  4  6  8 10 12 14 16 18\n",
      "  3  6  9 12 15 18 21 24 27\n",
      "  4  8 12 16 20 24 28 32 36\n",
      "  5 10 15 20 25 30 35 40 45\n",
      "  6 12 18 24 30 36 42 48 54\n",
      "  7 14 21 28 35 42 49 56 63\n",
      "  8 16 24 32 40 48 56 64 72\n",
      "  9 18 27 36 45 54 63 72 81\n",
      "---------------------------\n"
     ]
    }
   ],
   "metadata": {}
  },
  {
   "cell_type": "code",
   "execution_count": 15,
   "source": [
    "class TestMultiplicationTable(unittest.TestCase):\n",
    "    def test_multiplication_table(self):\n",
    "        expected = \"\"\"\\\n",
    "---------------------------\n",
    "  1  2  3  4  5  6  7  8  9\n",
    "  2  4  6  8 10 12 14 16 18\n",
    "  3  6  9 12 15 18 21 24 27\n",
    "  4  8 12 16 20 24 28 32 36\n",
    "  5 10 15 20 25 30 35 40 45\n",
    "  6 12 18 24 30 36 42 48 54\n",
    "  7 14 21 28 35 42 49 56 63\n",
    "  8 16 24 32 40 48 56 64 72\n",
    "  9 18 27 36 45 54 63 72 81\n",
    "---------------------------\\\n",
    "\"\"\"\n",
    "        self.assertEqual(multiplication_table(), expected)\n",
    "\n",
    "\n",
    "def multiplication_table():\n",
    "    \"\"\" 九九の表を表示\n",
    "    >>> multiplication_table()\n",
    "    '---------------------------\\\\n  1  2  3  4  5  6  7  8  9\\\\n  2  4  6  8 10 12 14 16 18\\\\n  3  6  9 12 15 18 21 24 27\\\\n  4  8 12 16 20 24 28 32 36\\\\n  5 10 15 20 25 30 35 40 45\\\\n  6 12 18 24 30 36 42 48 54\\\\n  7 14 21 28 35 42 49 56 63\\\\n  8 16 24 32 40 48 56 64 72\\\\n  9 18 27 36 45 54 63 72 81\\\\n---------------------------'\n",
    "    \"\"\"\n",
    "    result = '-' * 27\n",
    "    result += '\\n'\n",
    "    for i in range(1, 10):\n",
    "        for j in range(1, 10):\n",
    "            result += f'{i * j:3}'\n",
    "        result += '\\n'\n",
    "    result += '-' * 27\n",
    "    return result"
   ],
   "outputs": [],
   "metadata": {}
  },
  {
   "cell_type": "markdown",
   "source": [
    " #### 直角三角形の表示"
   ],
   "metadata": {}
  },
  {
   "cell_type": "markdown",
   "source": [
    " #### List 1-22 左下側が直角の二等辺三角形を表示\n",
    " ```python\n",
    " print('左下直角の二等辺三角形')\n",
    " n = int(input('短辺の長さ：'))\n",
    "\n",
    " for i in range(n):\n",
    "     for j in range(i + 1):\n",
    "         print('*', end='')\n",
    "     print()\n",
    " ```"
   ],
   "metadata": {}
  },
  {
   "cell_type": "markdown",
   "source": [
    " #### List 1-23 右下側が直角の二等辺三角形を表示\n",
    " ```python\n",
    " print('右下直角の二等辺三角形')\n",
    " n = int(input('短辺の長さ：'))\n",
    "\n",
    " for i in range(n):\n",
    "     for _ in range(n - i - 1):\n",
    "         print(' ', end='')\n",
    "     for _ in range(i + 1):\n",
    "         print('*', end='')\n",
    "     print()\n",
    " ```"
   ],
   "metadata": {}
  },
  {
   "cell_type": "code",
   "execution_count": 16,
   "source": [
    "class TestTraiangleLb(unittest.TestCase):\n",
    "    def test_traiangle_lb(self):\n",
    "        expected = \"\"\"\\\n",
    "*\n",
    "**\n",
    "***\n",
    "****\n",
    "*****\n",
    "\"\"\"\n",
    "        self.assertEqual(traiangle_lb(5), expected)\n",
    "\n",
    "\n",
    "def traiangle_lb(n):\n",
    "    \"\"\" 左下側が直角の二等辺三角形を表示\n",
    "    >>> traiangle_lb(5)\n",
    "    '*\\\\n**\\\\n***\\\\n****\\\\n*****\\\\n'\n",
    "    \"\"\"\n",
    "    result = ''\n",
    "    for i in range(n):\n",
    "        for j in range(i + 1):\n",
    "            result += '*'\n",
    "        result += '\\n'\n",
    "    return result\n",
    "\n",
    "\n",
    "class TestTriangleRb(unittest.TestCase):\n",
    "    def test_triangle_rb(self):\n",
    "        expected = \"\"\"\\\n",
    "    *\n",
    "   **\n",
    "  ***\n",
    " ****\n",
    "*****\n",
    "\"\"\"\n",
    "        self.assertEqual(traiangle_rg(5), expected)\n",
    "\n",
    "\n",
    "def traiangle_rg(n):\n",
    "    \"\"\" 右下側が直角の二等辺三角形を表示\n",
    "    >>> traiangle_rg(5)\n",
    "    '    *\\\\n   **\\\\n  ***\\\\n ****\\\\n*****\\\\n'\n",
    "    \"\"\"\n",
    "    result = ''\n",
    "    for i in range(n):\n",
    "        for _ in range(n - i - 1):\n",
    "            result += ' '\n",
    "        for _ in range(i + 1):\n",
    "            result += '*'\n",
    "        result += '\\n'\n",
    "    return result"
   ],
   "outputs": [],
   "metadata": {}
  },
  {
   "cell_type": "markdown",
   "source": [
    " #### Pythonの変数について"
   ],
   "metadata": {}
  },
  {
   "cell_type": "markdown",
   "source": [
    " #### List 1C-3"
   ],
   "metadata": {}
  },
  {
   "cell_type": "code",
   "execution_count": 17,
   "source": [
    "n = 1\n",
    "\n",
    "\n",
    "def put_id():\n",
    "    x = 1\n",
    "    print(f'id(x) = {id(x)}')\n",
    "\n",
    "\n",
    "print(f'id(1) = {id(1)}')\n",
    "print(f'id(n) = {id(n)}')\n",
    "put_id()"
   ],
   "outputs": [
    {
     "output_type": "stream",
     "name": "stdout",
     "text": [
      "id(1) = 9793056\n",
      "id(n) = 9793056\n",
      "id(x) = 9793056\n"
     ]
    }
   ],
   "metadata": {}
  },
  {
   "cell_type": "markdown",
   "source": [
    " #### List 1C-4"
   ],
   "metadata": {}
  },
  {
   "cell_type": "code",
   "execution_count": 18,
   "source": [
    "for i in range(1, 100):\n",
    "    print(f'i = {i:3} id(i) = {id(i)}')"
   ],
   "outputs": [
    {
     "output_type": "stream",
     "name": "stdout",
     "text": [
      "i =   1 id(i) = 9793056\n",
      "i =   2 id(i) = 9793088\n",
      "i =   3 id(i) = 9793120\n",
      "i =   4 id(i) = 9793152\n",
      "i =   5 id(i) = 9793184\n",
      "i =   6 id(i) = 9793216\n",
      "i =   7 id(i) = 9793248\n",
      "i =   8 id(i) = 9793280\n",
      "i =   9 id(i) = 9793312\n",
      "i =  10 id(i) = 9793344\n",
      "i =  11 id(i) = 9793376\n",
      "i =  12 id(i) = 9793408\n",
      "i =  13 id(i) = 9793440\n",
      "i =  14 id(i) = 9793472\n",
      "i =  15 id(i) = 9793504\n",
      "i =  16 id(i) = 9793536\n",
      "i =  17 id(i) = 9793568\n",
      "i =  18 id(i) = 9793600\n",
      "i =  19 id(i) = 9793632\n",
      "i =  20 id(i) = 9793664\n",
      "i =  21 id(i) = 9793696\n",
      "i =  22 id(i) = 9793728\n",
      "i =  23 id(i) = 9793760\n",
      "i =  24 id(i) = 9793792\n",
      "i =  25 id(i) = 9793824\n",
      "i =  26 id(i) = 9793856\n",
      "i =  27 id(i) = 9793888\n",
      "i =  28 id(i) = 9793920\n",
      "i =  29 id(i) = 9793952\n",
      "i =  30 id(i) = 9793984\n",
      "i =  31 id(i) = 9794016\n",
      "i =  32 id(i) = 9794048\n",
      "i =  33 id(i) = 9794080\n",
      "i =  34 id(i) = 9794112\n",
      "i =  35 id(i) = 9794144\n",
      "i =  36 id(i) = 9794176\n",
      "i =  37 id(i) = 9794208\n",
      "i =  38 id(i) = 9794240\n",
      "i =  39 id(i) = 9794272\n",
      "i =  40 id(i) = 9794304\n",
      "i =  41 id(i) = 9794336\n",
      "i =  42 id(i) = 9794368\n",
      "i =  43 id(i) = 9794400\n",
      "i =  44 id(i) = 9794432\n",
      "i =  45 id(i) = 9794464\n",
      "i =  46 id(i) = 9794496\n",
      "i =  47 id(i) = 9794528\n",
      "i =  48 id(i) = 9794560\n",
      "i =  49 id(i) = 9794592\n",
      "i =  50 id(i) = 9794624\n",
      "i =  51 id(i) = 9794656\n",
      "i =  52 id(i) = 9794688\n",
      "i =  53 id(i) = 9794720\n",
      "i =  54 id(i) = 9794752\n",
      "i =  55 id(i) = 9794784\n",
      "i =  56 id(i) = 9794816\n",
      "i =  57 id(i) = 9794848\n",
      "i =  58 id(i) = 9794880\n",
      "i =  59 id(i) = 9794912\n",
      "i =  60 id(i) = 9794944\n",
      "i =  61 id(i) = 9794976\n",
      "i =  62 id(i) = 9795008\n",
      "i =  63 id(i) = 9795040\n",
      "i =  64 id(i) = 9795072\n",
      "i =  65 id(i) = 9795104\n",
      "i =  66 id(i) = 9795136\n",
      "i =  67 id(i) = 9795168\n",
      "i =  68 id(i) = 9795200\n",
      "i =  69 id(i) = 9795232\n",
      "i =  70 id(i) = 9795264\n",
      "i =  71 id(i) = 9795296\n",
      "i =  72 id(i) = 9795328\n",
      "i =  73 id(i) = 9795360\n",
      "i =  74 id(i) = 9795392\n",
      "i =  75 id(i) = 9795424\n",
      "i =  76 id(i) = 9795456\n",
      "i =  77 id(i) = 9795488\n",
      "i =  78 id(i) = 9795520\n",
      "i =  79 id(i) = 9795552\n",
      "i =  80 id(i) = 9795584\n",
      "i =  81 id(i) = 9795616\n",
      "i =  82 id(i) = 9795648\n",
      "i =  83 id(i) = 9795680\n",
      "i =  84 id(i) = 9795712\n",
      "i =  85 id(i) = 9795744\n",
      "i =  86 id(i) = 9795776\n",
      "i =  87 id(i) = 9795808\n",
      "i =  88 id(i) = 9795840\n",
      "i =  89 id(i) = 9795872\n",
      "i =  90 id(i) = 9795904\n",
      "i =  91 id(i) = 9795936\n",
      "i =  92 id(i) = 9795968\n",
      "i =  93 id(i) = 9796000\n",
      "i =  94 id(i) = 9796032\n",
      "i =  95 id(i) = 9796064\n",
      "i =  96 id(i) = 9796096\n",
      "i =  97 id(i) = 9796128\n",
      "i =  98 id(i) = 9796160\n",
      "i =  99 id(i) = 9796192\n"
     ]
    }
   ],
   "metadata": {}
  },
  {
   "cell_type": "code",
   "execution_count": 19,
   "source": [
    "doctest.testmod(verbose=True)\n",
    "unittest.main(argv=[''], verbosity=2, exit=False)"
   ],
   "outputs": [
    {
     "output_type": "stream",
     "name": "stderr",
     "text": [
      "test_alternative_1 (__main__.TestAlternative) ... ok\n",
      "test_alternative_2 (__main__.TestAlternative) ... ok\n",
      "test_judge_sign (__main__.TestJudgeSign) ... ok\n",
      "test_max (__main__.TestMax3) ... ok\n",
      "test_med3 (__main__.TestMed3) ... ok\n",
      "test_multiplication_table (__main__.TestMultiplicationTable) ... ok\n",
      "test_print_starts_1 (__main__.TestPrintStars) ... ok\n",
      "test_print_starts_2 (__main__.TestPrintStars) ... ok\n",
      "test_rectangle (__main__.TestRectangle) ... ok\n",
      "test_skip_1 (__main__.TestSkip) ... ok\n",
      "test_skip_2 (__main__.TestSkip) ... ok\n",
      "test_sum_1_to_n_for (__main__.TestSum1ToNWhile) ... ok\n",
      "test_sum_1_to_n_while (__main__.TestSum1ToNWhile) ... ok\n",
      "test_sum_1_to_positive (__main__.TestSum1ToPositive) ... ok\n",
      "test_sum_verbose_1 (__main__.TestSumVerbose) ... ok\n",
      "test_sum_verbose_2 (__main__.TestSumVerbose) ... ok\n",
      "test_traiangle_lb (__main__.TestTraiangleLb) ... ok\n",
      "test_triangle_rb (__main__.TestTriangleRb) ... "
     ]
    },
    {
     "output_type": "stream",
     "name": "stdout",
     "text": [
      "Trying:\n",
      "    alternative_1(12)\n",
      "Expecting:\n",
      "    '+-+-+-+-+-+-'\n",
      "ok\n",
      "Trying:\n",
      "    alternative_2(12)\n",
      "Expecting:\n",
      "    '+-+-+-+-+-+-'\n",
      "ok\n",
      "Trying:\n",
      "    judge_sign(17)\n",
      "Expecting:\n",
      "    'その値は正です。'\n",
      "ok\n",
      "Trying:\n",
      "    max3(1, 3, 2)\n",
      "Expecting:\n",
      "    3\n",
      "ok\n",
      "Trying:\n",
      "    med3(1, 3, 2)\n",
      "Expecting:\n",
      "    2\n",
      "ok\n",
      "Trying:\n",
      "    multiplication_table()\n",
      "Expecting:\n",
      "    '---------------------------\\n  1  2  3  4  5  6  7  8  9\\n  2  4  6  8 10 12 14 16 18\\n  3  6  9 12 15 18 21 24 27\\n  4  8 12 16 20 24 28 32 36\\n  5 10 15 20 25 30 35 40 45\\n  6 12 18 24 30 36 42 48 54\\n  7 14 21 28 35 42 49 56 63\\n  8 16 24 32 40 48 56 64 72\\n  9 18 27 36 45 54 63 72 81\\n---------------------------'\n",
      "ok\n",
      "Trying:\n",
      "    print_starts_1(14,5)\n",
      "Expecting:\n",
      "    '*****\\n*****\\n****\\n'\n",
      "ok\n",
      "Trying:\n",
      "    print_starts_2(14,5)\n",
      "Expecting:\n",
      "    '*****\\n*****\\n****\\n'\n",
      "ok\n",
      "Trying:\n",
      "    rectangle(32)\n",
      "Expecting:\n",
      "    '1x32 2x16 4x8 '\n",
      "ok\n",
      "Trying:\n",
      "    skip_1()\n",
      "Expecting:\n",
      "    '1 2 3 4 5 6 7 9 10 11 12 '\n",
      "ok\n",
      "Trying:\n",
      "    skip_2()\n",
      "Expecting:\n",
      "    '1 2 3 4 5 6 7 9 10 11 12 '\n",
      "ok\n",
      "Trying:\n",
      "    sum_1_to_n_while(5)\n",
      "Expecting:\n",
      "    15\n",
      "ok\n",
      "Trying:\n",
      "    sum_1_to_n_while(5)\n",
      "Expecting:\n",
      "    15\n",
      "ok\n",
      "Trying:\n",
      "    sum_1_to_positive(10)\n",
      "Expecting:\n",
      "    55\n",
      "ok\n",
      "Trying:\n",
      "    sum_verbose_1(3,4)\n",
      "Expecting:\n",
      "    '3 + 4 = 7'\n",
      "ok\n",
      "Trying:\n",
      "    sum_verbose_2(3,4)\n",
      "Expecting:\n",
      "    '3 + 4 = 7'\n",
      "ok\n",
      "Trying:\n",
      "    traiangle_lb(5)\n",
      "Expecting:\n",
      "    '*\\n**\\n***\\n****\\n*****\\n'\n",
      "ok\n",
      "Trying:\n",
      "    traiangle_rg(5)\n",
      "Expecting:\n",
      "    '    *\\n   **\\n  ***\\n ****\\n*****\\n'\n",
      "ok\n",
      "35 items had no tests:\n",
      "    __main__\n",
      "    __main__.TestAlternative\n",
      "    __main__.TestAlternative.test_alternative_1\n",
      "    __main__.TestAlternative.test_alternative_2\n",
      "    __main__.TestJudgeSign\n",
      "    __main__.TestJudgeSign.test_judge_sign\n",
      "    __main__.TestMax3\n",
      "    __main__.TestMax3.test_max\n",
      "    __main__.TestMed3\n",
      "    __main__.TestMed3.test_med3\n",
      "    __main__.TestMultiplicationTable\n",
      "    __main__.TestMultiplicationTable.test_multiplication_table\n",
      "    __main__.TestPrintStars\n",
      "    __main__.TestPrintStars.test_print_starts_1\n",
      "    __main__.TestPrintStars.test_print_starts_2\n",
      "    __main__.TestRectangle\n",
      "    __main__.TestRectangle.test_rectangle\n",
      "    __main__.TestSkip\n",
      "    __main__.TestSkip.test_skip_1\n",
      "    __main__.TestSkip.test_skip_2\n",
      "    __main__.TestSum1ToNWhile\n",
      "    __main__.TestSum1ToNWhile.test_sum_1_to_n_for\n",
      "    __main__.TestSum1ToNWhile.test_sum_1_to_n_while\n",
      "    __main__.TestSum1ToPositive\n",
      "    __main__.TestSum1ToPositive.test_sum_1_to_positive\n",
      "    __main__.TestSumVerbose\n",
      "    __main__.TestSumVerbose.test_sum_verbose_1\n",
      "    __main__.TestSumVerbose.test_sum_verbose_2\n",
      "    __main__.TestTraiangleLb\n",
      "    __main__.TestTraiangleLb.test_traiangle_lb\n",
      "    __main__.TestTriangleRb\n",
      "    __main__.TestTriangleRb.test_triangle_rb\n",
      "    __main__.__VSCODE_compute_hash\n",
      "    __main__.__VSCODE_wrap_run_cell\n",
      "    __main__.put_id\n",
      "18 items passed all tests:\n",
      "   1 tests in __main__.alternative_1\n",
      "   1 tests in __main__.alternative_2\n",
      "   1 tests in __main__.judge_sign\n",
      "   1 tests in __main__.max3\n",
      "   1 tests in __main__.med3\n",
      "   1 tests in __main__.multiplication_table\n",
      "   1 tests in __main__.print_starts_1\n",
      "   1 tests in __main__.print_starts_2\n",
      "   1 tests in __main__.rectangle\n",
      "   1 tests in __main__.skip_1\n",
      "   1 tests in __main__.skip_2\n",
      "   1 tests in __main__.sum_1_to_n_for\n",
      "   1 tests in __main__.sum_1_to_n_while\n",
      "   1 tests in __main__.sum_1_to_positive\n",
      "   1 tests in __main__.sum_verbose_1\n",
      "   1 tests in __main__.sum_verbose_2\n",
      "   1 tests in __main__.traiangle_lb\n",
      "   1 tests in __main__.traiangle_rg\n",
      "18 tests in 53 items.\n",
      "18 passed and 0 failed.\n",
      "Test passed.\n"
     ]
    },
    {
     "output_type": "stream",
     "name": "stderr",
     "text": [
      "ok\n",
      "\n",
      "----------------------------------------------------------------------\n",
      "Ran 18 tests in 0.014s\n",
      "\n",
      "OK\n"
     ]
    },
    {
     "output_type": "execute_result",
     "data": {
      "text/plain": [
       "<unittest.main.TestProgram at 0x7f249822d310>"
      ]
     },
     "metadata": {},
     "execution_count": 19
    }
   ],
   "metadata": {}
  }
 ],
 "nbformat": 4,
 "nbformat_minor": 2,
 "metadata": {
  "language_info": {
   "codemirror_mode": {
    "name": "ipython",
    "version": 3
   },
   "file_extension": ".py",
   "mimetype": "text/x-python",
   "name": "python",
   "nbconvert_exporter": "python",
   "pygments_lexer": "ipython3",
   "version": 3
  },
  "orig_nbformat": 4
 }
}