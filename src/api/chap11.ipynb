{
 "cells": [
  {
   "cell_type": "markdown",
   "source": [
    " # さまざまな教師あり学習：回帰"
   ],
   "metadata": {}
  },
  {
   "cell_type": "code",
   "execution_count": 58,
   "source": [
    "import unittest\n",
    "import doctest\n",
    "import os\n",
    "path = os.path.dirname(os.path.abspath(__file__))"
   ],
   "outputs": [],
   "metadata": {}
  },
  {
   "cell_type": "markdown",
   "source": [
    " ## リッジ回帰"
   ],
   "metadata": {}
  },
  {
   "cell_type": "markdown",
   "source": [
    " ### リッジ回帰の概要"
   ],
   "metadata": {}
  },
  {
   "cell_type": "markdown",
   "source": [
    " ### バイアス・バリアンス分解"
   ],
   "metadata": {}
  },
  {
   "cell_type": "markdown",
   "source": [
    " ### バリアンスと過学習"
   ],
   "metadata": {}
  },
  {
   "cell_type": "markdown",
   "source": [
    " ### リッジ回帰の利用"
   ],
   "metadata": {}
  },
  {
   "cell_type": "markdown",
   "source": [
    " #### コード 11-1 共通する準備作業"
   ],
   "metadata": {}
  },
  {
   "cell_type": "code",
   "execution_count": 59,
   "source": [
    "# 絶対使うであろうモジュールのインポート\n",
    "import pandas as pd\n",
    "\n",
    "from sklearn.model_selection import train_test_split\n",
    "\n",
    "#%matplotlib inline\n",
    "from sklearn.preprocessing import StandardScaler"
   ],
   "outputs": [],
   "metadata": {}
  },
  {
   "cell_type": "markdown",
   "source": [
    " #### コード 11-2 Boston.csvを利用する"
   ],
   "metadata": {}
  },
  {
   "cell_type": "code",
   "execution_count": 60,
   "source": [
    "df = pd.read_csv(path + '/data/Boston.csv') # csvの読み込み\n",
    "df = df.fillna(df.mean()) # 欠損値補完\n",
    "df = df.drop([76], axis=0) # 外れ値の行を削除\n",
    "\n",
    "t = df[['PRICE']] # 正解データの抜き出し\n",
    "x = df.loc[:,['RM', 'PTRATIO', 'LSTAT']] # 説明変数の抜き出し\n",
    "\n",
    "# 標準化\n",
    "sc = StandardScaler()\n",
    "sc_x = sc.fit_transform(x)\n",
    "sc2 = StandardScaler()\n",
    "sc_t = sc2.fit_transform(t)"
   ],
   "outputs": [],
   "metadata": {}
  },
  {
   "cell_type": "markdown",
   "source": [
    " #### コード 11-3 累計列と交互作用特徴量を一括追加する"
   ],
   "metadata": {}
  },
  {
   "cell_type": "code",
   "execution_count": 61,
   "source": [
    "from sklearn.preprocessing import PolynomialFeatures\n",
    "\n",
    "pf = PolynomialFeatures(degree=2, include_bias=False)\n",
    "pf_x = pf.fit_transform(sc_x) # 2乗列と交互作用特徴量の追加\n",
    "pf_x.shape # 行数と列数"
   ],
   "outputs": [
    {
     "output_type": "execute_result",
     "data": {
      "text/plain": [
       "(99, 9)"
      ]
     },
     "metadata": {},
     "execution_count": 61
    }
   ],
   "metadata": {}
  },
  {
   "cell_type": "markdown",
   "source": [
    " #### コード 11-4 列名を確認する処理"
   ],
   "metadata": {}
  },
  {
   "cell_type": "code",
   "execution_count": 62,
   "source": [
    "pf.get_feature_names_out()"
   ],
   "outputs": [
    {
     "output_type": "execute_result",
     "data": {
      "text/plain": [
       "array(['x0', 'x1', 'x2', 'x0^2', 'x0 x1', 'x0 x2', 'x1^2', 'x1 x2',\n",
       "       'x2^2'], dtype=object)"
      ]
     },
     "metadata": {},
     "execution_count": 62
    }
   ],
   "metadata": {}
  },
  {
   "cell_type": "markdown",
   "source": [
    " #### コード 11-5 線形回帰で過学習が起こることを確認"
   ],
   "metadata": {}
  },
  {
   "cell_type": "code",
   "execution_count": 63,
   "source": [
    "from sklearn.linear_model import LinearRegression\n",
    "\n",
    "x_train, x_test, y_train, y_test = train_test_split(pf_x, sc_t, test_size=0.3, random_state=0)\n",
    "model = LinearRegression()\n",
    "model.fit(x_train, y_train)\n",
    "\n",
    "print(model.score(x_train, y_train))\n",
    "model.score(x_test, y_test)"
   ],
   "outputs": [
    {
     "output_type": "stream",
     "name": "stdout",
     "text": [
      "0.8710525685992707\n"
     ]
    },
    {
     "output_type": "execute_result",
     "data": {
      "text/plain": [
       "0.7854929935582586"
      ]
     },
     "metadata": {},
     "execution_count": 63
    }
   ],
   "metadata": {}
  },
  {
   "cell_type": "code",
   "execution_count": 64,
   "source": [
    "# #### コード 11-6 リッジ回帰で過学習が起こるか確認"
   ],
   "outputs": [],
   "metadata": {}
  },
  {
   "cell_type": "code",
   "execution_count": 65,
   "source": [
    "from sklearn.linear_model import Ridge # モジュールインポート\n",
    "# モデルの作成\n",
    "ridgeModel = Ridge(alpha=10)\n",
    "ridgeModel.fit(x_train, y_train) # 学習\n",
    "print(ridgeModel.score(x_train, y_train))\n",
    "print(ridgeModel.score(x_test, y_test))"
   ],
   "outputs": [
    {
     "output_type": "stream",
     "name": "stdout",
     "text": [
      "0.8607320524729508\n",
      "0.8458730019328173\n"
     ]
    }
   ],
   "metadata": {}
  },
  {
   "cell_type": "markdown",
   "source": [
    " #### コード 11-7 正規化項の定数を0.01～20まで0.01刻みで検証するコード"
   ],
   "metadata": {}
  },
  {
   "cell_type": "code",
   "execution_count": 66,
   "source": [
    "maxScore = 0\n",
    "maxIndex = 0\n",
    "# range関数により整数列を1～2000生成\n",
    "for i in range(1, 2001):\n",
    "    num = i / 100\n",
    "    ridgeModel = Ridge(random_state=0,alpha=num)\n",
    "    ridgeModel.fit(x_train, y_train)\n",
    "\n",
    "    result = ridgeModel.score(x_test, y_test)\n",
    "    if result > maxScore:\n",
    "        maxScore = result\n",
    "        maxIndex = num\n",
    "\n",
    "print(maxIndex, maxScore)"
   ],
   "outputs": [
    {
     "output_type": "stream",
     "name": "stdout",
     "text": [
      "17.62 0.8528754801497631\n"
     ]
    }
   ],
   "metadata": {}
  },
  {
   "cell_type": "markdown",
   "source": [
    " #### コード 11-8 重回帰とリッジ回帰の係数の大きさを比較する"
   ],
   "metadata": {}
  },
  {
   "cell_type": "code",
   "execution_count": 67,
   "source": [
    "print(sum(abs(model.coef_))[0]) # 線形回帰の係数（絶対値）の合計\n",
    "print(sum(abs(ridgeModel.coef_))[0]) # リッジ回帰の合計"
   ],
   "outputs": [
    {
     "output_type": "stream",
     "name": "stdout",
     "text": [
      "0.38642230893927604\n",
      "0.3304493713376869\n"
     ]
    }
   ],
   "metadata": {}
  },
  {
   "cell_type": "markdown",
   "source": [
    " ## ラッソ回帰"
   ],
   "metadata": {}
  },
  {
   "cell_type": "markdown",
   "source": [
    " ### ラッソ回帰の概要"
   ],
   "metadata": {}
  },
  {
   "cell_type": "markdown",
   "source": [
    " #### コード 11-9 ラッソ回帰モデルで過学習が起きていないか確認する"
   ],
   "metadata": {}
  },
  {
   "cell_type": "code",
   "execution_count": 68,
   "source": [
    "# ライブラリインポート\n",
    "from sklearn.linear_model import Lasso\n",
    "\n",
    "x_train, x_test, y_train, y_test = train_test_split(pf_x, sc_t, test_size=0.3, random_state=0)\n",
    "\n",
    "# ラッソ回帰モデル作成(alphaは正則化項につく定数)\n",
    "model = Lasso(alpha=0.1)\n",
    "model.fit(x_train, y_train)\n",
    "\n",
    "print(model.score(x_train, y_train)) # 訓練データの決定係数\n",
    "print(model.score(x_test, y_test)) # テストデータの決定係数"
   ],
   "outputs": [
    {
     "output_type": "stream",
     "name": "stdout",
     "text": [
      "0.8224680202036665\n",
      "0.858846785318774\n"
     ]
    }
   ],
   "metadata": {}
  },
  {
   "cell_type": "markdown",
   "source": [
    " #### コード 11-10 回帰式の係数を確認する"
   ],
   "metadata": {}
  },
  {
   "cell_type": "code",
   "execution_count": 69,
   "source": [
    "weight = model.coef_ # 係数抜き出す\n",
    "# 見やすいようにシリーズ変換\n",
    "pd.Series(weight, index=pf.get_feature_names_out())"
   ],
   "outputs": [
    {
     "output_type": "execute_result",
     "data": {
      "text/plain": [
       "x0       0.409426\n",
       "x1      -0.083104\n",
       "x2      -0.287714\n",
       "x0^2     0.150001\n",
       "x0 x1   -0.000000\n",
       "x0 x2   -0.037450\n",
       "x1^2    -0.000000\n",
       "x1 x2    0.000000\n",
       "x2^2     0.000000\n",
       "dtype: float64"
      ]
     },
     "metadata": {},
     "execution_count": 69
    }
   ],
   "metadata": {}
  },
  {
   "cell_type": "markdown",
   "source": [
    " ## 回帰木"
   ],
   "metadata": {}
  },
  {
   "cell_type": "markdown",
   "source": [
    " ### 回帰木の概要"
   ],
   "metadata": {}
  },
  {
   "cell_type": "markdown",
   "source": [
    " #### コード 11-11 ボストンの住宅価格のデータを読み込む"
   ],
   "metadata": {}
  },
  {
   "cell_type": "code",
   "execution_count": 70,
   "source": [
    "import pandas as pd\n",
    "from sklearn.model_selection import train_test_split\n",
    "\n",
    "df = pd.read_csv(path + '/data/Boston.csv')\n",
    "df = df.fillna(df.mean())\n",
    "x = df.loc[:,'ZN':'LSTAT']\n",
    "t = df['PRICE']\n",
    "\n",
    "x_train, x_test, y_train, y_test = train_test_split(x, t, test_size=0.3, random_state=0)"
   ],
   "outputs": [],
   "metadata": {}
  },
  {
   "cell_type": "markdown",
   "source": [
    " #### コード 11-12 回帰木を用いた学習"
   ],
   "metadata": {}
  },
  {
   "cell_type": "code",
   "execution_count": 71,
   "source": [
    "# ライブラリインポート（回帰木バージョン）\n",
    "from sklearn.tree import DecisionTreeRegressor\n",
    "\n",
    "# 木の深さの最大を10と設定\n",
    "model = DecisionTreeRegressor(max_depth=10, random_state=0)\n",
    "model.fit(x_train, y_train)\n",
    "model.score(x_test, y_test) # テストデータでの決定係数"
   ],
   "outputs": [
    {
     "output_type": "execute_result",
     "data": {
      "text/plain": [
       "0.59433275545417"
      ]
     },
     "metadata": {},
     "execution_count": 71
    }
   ],
   "metadata": {}
  },
  {
   "cell_type": "markdown",
   "source": [
    " #### コード 11-13 特徴量の重要度を参照する"
   ],
   "metadata": {}
  },
  {
   "cell_type": "code",
   "execution_count": 72,
   "source": [
    "pd.Series(model.feature_importances_, index=x.columns)"
   ],
   "outputs": [
    {
     "output_type": "execute_result",
     "data": {
      "text/plain": [
       "ZN         0.000252\n",
       "INDUS      0.007301\n",
       "CHAS       0.000000\n",
       "NOX        0.001967\n",
       "RM         0.759547\n",
       "AGE        0.139388\n",
       "DIS        0.013635\n",
       "RAD        0.000404\n",
       "TAX        0.013975\n",
       "PTRATIO    0.001913\n",
       "B          0.003331\n",
       "LSTAT      0.058287\n",
       "dtype: float64"
      ]
     },
     "metadata": {},
     "execution_count": 72
    }
   ],
   "metadata": {}
  },
  {
   "cell_type": "code",
   "execution_count": 73,
   "source": [
    "doctest.testmod(verbose=True)\n",
    "unittest.main(argv=[''], verbosity=2, exit=False)"
   ],
   "outputs": [
    {
     "output_type": "stream",
     "name": "stdout",
     "text": [
      "3 items had no tests:\n",
      "    __main__\n",
      "    __main__.__VSCODE_compute_hash\n",
      "    __main__.__VSCODE_wrap_run_cell\n",
      "0 tests in 3 items.\n",
      "0 passed and 0 failed.\n",
      "Test passed.\n"
     ]
    },
    {
     "output_type": "stream",
     "name": "stderr",
     "text": [
      "\n",
      "----------------------------------------------------------------------\n",
      "Ran 0 tests in 0.000s\n",
      "\n",
      "OK\n"
     ]
    },
    {
     "output_type": "execute_result",
     "data": {
      "text/plain": [
       "<unittest.main.TestProgram at 0x17a7cfbba60>"
      ]
     },
     "metadata": {},
     "execution_count": 73
    }
   ],
   "metadata": {}
  }
 ],
 "nbformat": 4,
 "nbformat_minor": 2,
 "metadata": {
  "language_info": {
   "codemirror_mode": {
    "name": "ipython",
    "version": 3
   },
   "file_extension": ".py",
   "mimetype": "text/x-python",
   "name": "python",
   "nbconvert_exporter": "python",
   "pygments_lexer": "ipython3",
   "version": 3
  },
  "orig_nbformat": 4
 }
}