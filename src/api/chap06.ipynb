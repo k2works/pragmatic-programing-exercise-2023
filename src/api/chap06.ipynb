{
 "cells": [
  {
   "cell_type": "markdown",
   "source": [
    " # ソート"
   ],
   "metadata": {}
  },
  {
   "cell_type": "code",
   "execution_count": null,
   "source": [
    "from collections import deque\n",
    "from typing import Any, Sequence, MutableSequence\n",
    "import unittest\n",
    "import doctest\n",
    "\n",
    "from chap04_test import Stack"
   ],
   "outputs": [],
   "metadata": {}
  },
  {
   "cell_type": "markdown",
   "source": [
    " ## ソートとは"
   ],
   "metadata": {}
  },
  {
   "cell_type": "markdown",
   "source": [
    " ### ソートとは"
   ],
   "metadata": {}
  },
  {
   "cell_type": "markdown",
   "source": [
    " ## 単純交換ソート（バブルソート）"
   ],
   "metadata": {}
  },
  {
   "cell_type": "markdown",
   "source": [
    " ### 単純交換ソート（バブルソート）"
   ],
   "metadata": {}
  },
  {
   "cell_type": "markdown",
   "source": [
    " ### シューカーソート（双方向バブルソート）"
   ],
   "metadata": {}
  },
  {
   "cell_type": "markdown",
   "source": [
    " ## 単純選択ソート"
   ],
   "metadata": {}
  },
  {
   "cell_type": "markdown",
   "source": [
    " ### 単純選択ソート"
   ],
   "metadata": {}
  },
  {
   "cell_type": "markdown",
   "source": [
    " ## 単純挿入ソート"
   ],
   "metadata": {}
  },
  {
   "cell_type": "markdown",
   "source": [
    " ### 単純挿入ソート"
   ],
   "metadata": {}
  },
  {
   "cell_type": "markdown",
   "source": [
    " ## シェルソート"
   ],
   "metadata": {}
  },
  {
   "cell_type": "markdown",
   "source": [
    " ### 単純挿入ソートの特徴"
   ],
   "metadata": {}
  },
  {
   "cell_type": "markdown",
   "source": [
    " ### シェルソート"
   ],
   "metadata": {}
  },
  {
   "cell_type": "markdown",
   "source": [
    " ## クイックソート"
   ],
   "metadata": {}
  },
  {
   "cell_type": "markdown",
   "source": [
    " ### クイックソートの概略"
   ],
   "metadata": {}
  },
  {
   "cell_type": "markdown",
   "source": [
    " ### 分割手順"
   ],
   "metadata": {}
  },
  {
   "cell_type": "markdown",
   "source": [
    " ### クイックソート"
   ],
   "metadata": {}
  },
  {
   "cell_type": "markdown",
   "source": [
    " ### 非再帰的クイックソート"
   ],
   "metadata": {}
  },
  {
   "cell_type": "markdown",
   "source": [
    " ### 枢軸の選択"
   ],
   "metadata": {}
  },
  {
   "cell_type": "markdown",
   "source": [
    " ### 時間計算量"
   ],
   "metadata": {}
  },
  {
   "cell_type": "markdown",
   "source": [
    " ## マージソート"
   ],
   "metadata": {}
  },
  {
   "cell_type": "markdown",
   "source": [
    " ### ソートすみ配列のマージ"
   ],
   "metadata": {}
  },
  {
   "cell_type": "markdown",
   "source": [
    " ### マージソート"
   ],
   "metadata": {}
  },
  {
   "cell_type": "markdown",
   "source": [
    " ## ヒープソート"
   ],
   "metadata": {}
  },
  {
   "cell_type": "markdown",
   "source": [
    " ### ヒープ"
   ],
   "metadata": {}
  },
  {
   "cell_type": "markdown",
   "source": [
    " ### ヒープソート"
   ],
   "metadata": {}
  },
  {
   "cell_type": "markdown",
   "source": [
    " ### 根を削除したヒープの再構築"
   ],
   "metadata": {}
  },
  {
   "cell_type": "markdown",
   "source": [
    " ### ヒープソートの拡張"
   ],
   "metadata": {}
  },
  {
   "cell_type": "markdown",
   "source": [
    " ### 配列のヒープ"
   ],
   "metadata": {}
  },
  {
   "cell_type": "markdown",
   "source": [
    " ### ヒープソートの時間計算量"
   ],
   "metadata": {}
  },
  {
   "cell_type": "markdown",
   "source": [
    " ## 度数ソート"
   ],
   "metadata": {}
  },
  {
   "cell_type": "markdown",
   "source": [
    " ### 度数ソート"
   ],
   "metadata": {}
  },
  {
   "cell_type": "code",
   "execution_count": null,
   "source": [
    "class TestBubleSort(unittest.TestCase):\n",
    "    def test_buble_sort(self):\n",
    "        a = [6, 4, 3, 7, 1, 9, 8]\n",
    "        bubble_sort(a)\n",
    "        self.assertEqual(a, [1, 3, 4, 6, 7, 8, 9])\n",
    "\n",
    "    def test_buble_sort_verbose(self):\n",
    "        a = [6, 4, 3, 7, 1, 9, 8]\n",
    "        bubble_sort_verbose(a)\n",
    "        self.assertEqual(a, [1, 3, 4, 6, 7, 8, 9])\n",
    "\n",
    "    def test_buble_sort2(self):\n",
    "        a = [6, 4, 3, 7, 1, 9, 8]\n",
    "        bubble_sort2(a)\n",
    "        self.assertEqual(a, [1, 3, 4, 6, 7, 8, 9])\n",
    "\n",
    "    def test_buble_sort3(self):\n",
    "        a = [6, 4, 3, 7, 1, 9, 8]\n",
    "        bubble_sort3(a)\n",
    "        self.assertEqual(a, [1, 3, 4, 6, 7, 8, 9])\n",
    "\n",
    "    def test_shaker_sort(self):\n",
    "        a = [6, 4, 3, 7, 1, 9, 8]\n",
    "        shaker_sort(a)\n",
    "        self.assertEqual(a, [1, 3, 4, 6, 7, 8, 9])\n",
    "\n",
    "\n",
    "def bubble_sort(a: MutableSequence) -> None:\n",
    "    \"\"\"単純交換ソート(バブルソート)\"\"\"\n",
    "    n = len(a)\n",
    "    for i in range(n - 1):\n",
    "        for j in range(n - 1, i, -1):\n",
    "            if a[j - 1] > a[j]:\n",
    "                a[j - 1], a[j] = a[j], a[j - 1]\n",
    "\n",
    "\n",
    "def bubble_sort_verbose(a: MutableSequence) -> None:\n",
    "    \"\"\"単純交換ソート（ソート過程を表示)\"\"\"\n",
    "    ccnt = 0  # 比較回数\n",
    "    scnt = 0  # 交換回数\n",
    "    n = len(a)\n",
    "    for i in range(n - 1):\n",
    "        print(f'パス{i + 1}')\n",
    "        for j in range(n - 1, i, -1):\n",
    "            for m in range(0, n - 1):\n",
    "                print(f'{a[m]:2}' + ('  ' if m != j - 1 else\n",
    "                                     ' +' if a[j - 1] > a[j] else ' -'),\n",
    "                      end='')\n",
    "                print(f'{a[n - 1]:2}')\n",
    "                ccnt += 1\n",
    "                if a[j - 1] > a[j]:\n",
    "                    scnt += 1\n",
    "                    a[j - 1], a[j] = a[j], a[j - 1]\n",
    "            for m in range(0, n-1):\n",
    "                print(f'{a[m]:2}', end='  ')\n",
    "            print(f'{a[n - 1]:2}')\n",
    "        print(f'比較は{ccnt}回でした。')\n",
    "        print(f'比較は{scnt}回でした。')\n",
    "\n",
    "\n",
    "def bubble_sort2(a: MutableSequence) -> None:\n",
    "    \"\"\"単純交換ソート（第2版：交換回数による打ち切り）\"\"\"\n",
    "    n = len(a)\n",
    "    for i in range(n - 1):\n",
    "        exchng = 0  # パスにおける交換回数\n",
    "        for j in range(n - 1, i, -1):\n",
    "            if a[j - 1] > a[j]:\n",
    "                a[j - 1], a[j] = a[j], a[j - 1]\n",
    "                exchng += 1\n",
    "        if exchng == 0:\n",
    "            break\n",
    "\n",
    "\n",
    "def bubble_sort3(a: MutableSequence) -> None:\n",
    "    \"\"\"単純交換ソート（第3版：捜査範囲の限定）\"\"\"\n",
    "    n = len(a)\n",
    "    k = 0\n",
    "    while k < n - 1:\n",
    "        last = n - 1\n",
    "        for j in range(n - 1, k, -1):\n",
    "            if a[j - 1] > a[j]:\n",
    "                a[j - 1], a[j] = a[j], a[j - 1]\n",
    "                last = j\n",
    "        k = last\n",
    "\n",
    "\n",
    "def shaker_sort(a: MutableSequence) -> None:\n",
    "    \"\"\"シェーカーソート（双方向バブルソート）\"\"\"\n",
    "    left = 0\n",
    "    right = len(a) - 1\n",
    "    last = right\n",
    "    while left < right:\n",
    "        for j in range(right, left, -1):\n",
    "            if a[j - 1] > a[j]:\n",
    "                a[j - 1], a[j] = a[j], a[j - 1]\n",
    "                last = j\n",
    "            left = last\n",
    "\n",
    "        for j in range(left, right):\n",
    "            if a[j] > a[j + 1]:\n",
    "                a[j], a[j + 1] = a[j + 1], a[j]\n",
    "                last = j\n",
    "            right = last"
   ],
   "outputs": [],
   "metadata": {}
  },
  {
   "cell_type": "markdown",
   "source": [
    " ## 単純選択ソート"
   ],
   "metadata": {}
  },
  {
   "cell_type": "code",
   "execution_count": null,
   "source": [
    "class TestSelectSort(unittest.TestCase):\n",
    "    def test_select_sort(self):\n",
    "        a = [6, 4, 3, 7, 1, 9, 8]\n",
    "        selection_sort(a)\n",
    "        self.assertEqual(a, [1, 3, 4, 6, 7, 8, 9])\n",
    "\n",
    "    def test_insertion_sort(self):\n",
    "        a = [6, 4, 3, 7, 1, 9, 8]\n",
    "        insertion_sort(a)\n",
    "        self.assertEqual(a, [1, 3, 4, 6, 7, 8, 9])\n",
    "\n",
    "    def test_binary_insertion_sort(self):\n",
    "        a = [6, 4, 3, 7, 1, 9, 8]\n",
    "        binary_insertion_sort(a)\n",
    "        self.assertEqual(a, [1, 3, 4, 6, 7, 8, 9])\n",
    "\n",
    "    def test_binary_insertion2(self):\n",
    "        a = [6, 4, 3, 7, 1, 9, 8]\n",
    "        binary_insertion_sort2(a)\n",
    "        self.assertEqual(a, [1, 3, 4, 6, 7, 8, 9])\n",
    "\n",
    "\n",
    "def selection_sort(a: MutableSequence) -> None:\n",
    "    \"\"\"単純選択ソート\"\"\"\n",
    "    n = len(a)\n",
    "    for i in range(n - 1):\n",
    "        min = i        # 未ソート部分から最小要素の添字\n",
    "        for j in range(i + 1, n):\n",
    "            if a[j] < a[min]:\n",
    "                min = j\n",
    "        a[i], a[min] = a[min], a[i]  # 未ソート部分の先頭要素と最小要素を交換\n",
    "\n",
    "\n",
    "def insertion_sort(a: MutableSequence) -> None:\n",
    "    \"\"\"単純挿入ソート\"\"\"\n",
    "    n = len(a)\n",
    "    for i in range(1, n):\n",
    "        j = i\n",
    "        tmp = a[i]\n",
    "        while j > 0 and a[j - 1] > tmp:\n",
    "            a[j] = a[j - 1]\n",
    "            j -= 1\n",
    "        a[j] = tmp\n",
    "\n",
    "\n",
    "def binary_insertion_sort(a: MutableSequence) -> None:\n",
    "    \"\"\"２分挿入ソート\"\"\"\n",
    "    n = len(a)\n",
    "    for i in range(1, n):\n",
    "        key = a[i]\n",
    "        pl = 0       # 探索範囲の先頭要素の添字\n",
    "        pr = i - 1   # 探索範囲の末尾要素の添字\n",
    "\n",
    "        while True:\n",
    "            pc = (pl + pr) // 2  # 探索範囲の中央要素の添字\n",
    "            if a[pc] == key:    # 探索成功\n",
    "                break\n",
    "            elif a[pc] < key:\n",
    "                pl = pc + 1\n",
    "            else:\n",
    "                pr = pc - 1\n",
    "            if pl > pr:\n",
    "                break\n",
    "        # 挿入すべき位置の添字\n",
    "        pd = pc + 1 if pl <= pr else pr + 1\n",
    "        for j in range(i, pd, -1):\n",
    "            a[j] = a[j - 1]\n",
    "        a[pd] = key\n",
    "\n",
    "\n",
    "def binary_insertion_sort2(a: MutableSequence) -> None:\n",
    "    \"\"\"２分挿入ソート（bisect.insortを利用）\"\"\"\n",
    "    for i in range(1, len(a)):\n",
    "        bisect.insort(a, a.pop(i), 0, i)"
   ],
   "outputs": [],
   "metadata": {}
  },
  {
   "cell_type": "markdown",
   "source": [
    " ## シェルソート"
   ],
   "metadata": {}
  },
  {
   "cell_type": "code",
   "execution_count": null,
   "source": [
    "class TestShellSort(unittest.TestCase):\n",
    "    def test_shell_sort(self):\n",
    "        a = [6, 4, 3, 7, 1, 9, 8]\n",
    "        shell_sort(a)\n",
    "        self.assertEqual(a, [1, 3, 4, 6, 7, 8, 9])\n",
    "\n",
    "\n",
    "def shell_sort(a: MutableSequence) -> None:\n",
    "    \"\"\"シェルソート\"\"\"\n",
    "    n = len(a)\n",
    "    h = n // 2\n",
    "    while h > 0:\n",
    "        for i in range(h, n):\n",
    "            j = i - h\n",
    "            tmp = a[i]\n",
    "            while j >= 0 and a[j] > tmp:\n",
    "                a[j + h] = a[j]\n",
    "                j -= h\n",
    "            a[j + h] = tmp\n",
    "        h //= 2"
   ],
   "outputs": [],
   "metadata": {}
  },
  {
   "cell_type": "markdown",
   "source": [
    " ## クイックソート"
   ],
   "metadata": {}
  },
  {
   "cell_type": "code",
   "execution_count": null,
   "source": [
    "class TestQuickSort(unittest.TestCase):\n",
    "    def test_quick_sort(self):\n",
    "        a = [6, 4, 3, 7, 1, 9, 8]\n",
    "        partition(a)\n",
    "        quick_sort(a)\n",
    "        self.assertEqual(a, [1, 3, 4, 6, 7, 8, 9])\n",
    "\n",
    "    def test_quick_sort_stack(self):\n",
    "        a = [6, 4, 3, 7, 1, 9, 8]\n",
    "        quick_sort_stack(a)\n",
    "        self.assertEqual(a, [1, 3, 4, 6, 7, 8, 9])\n",
    "\n",
    "    def test_quick_sort2(self):\n",
    "        a = [6, 4, 3, 7, 1, 9, 8]\n",
    "        quick_sort2(a)\n",
    "        self.assertEqual(a, [1, 3, 4, 6, 7, 8, 9])\n",
    "\n",
    "    def test_sorted(self):\n",
    "        a = [6, 4, 3, 7, 1, 9, 8]\n",
    "        self.assertEqual(sorted(a), [1, 3, 4, 6, 7, 8, 9])\n",
    "        self.assertEqual(sorted(a, reverse=True), [9, 8, 7, 6, 4, 3, 1])\n",
    "\n",
    "\n",
    "def partition(a: MutableSequence) -> None:\n",
    "    \"\"\"配列を分割して表示\"\"\"\n",
    "    n = len(a)\n",
    "    pl = 0           # 左カーソル\n",
    "    pr = n - 1       # 右カーソル\n",
    "    x = a[n // 2]    # 枢軸（中央の要素）\n",
    "\n",
    "    while pl <= pr:\n",
    "        while a[pl] < x:\n",
    "            pl += 1\n",
    "        while a[pr] > x:\n",
    "            pr -= 1\n",
    "        if pl <= pr:\n",
    "            a[pl], a[pr] = a[pr], a[pl]\n",
    "            pl += 1\n",
    "            pr -= 1\n",
    "\n",
    "    print(f'枢軸の値は{x}です。')\n",
    "\n",
    "    print('枢軸以下のグループ')\n",
    "    print(*a[0:pl])  # a[0]～a[pl - 1]\n",
    "\n",
    "    if pl > pr + 1:\n",
    "        print('枢軸と等しいグループ')\n",
    "        print(*a[pr + 1:pl])\n",
    "\n",
    "    print('枢軸以上のグループ')\n",
    "    print(*a[pr + 1:n])  # a[pr + 1]～a[n - 1]\n",
    "\n",
    "\n",
    "def qsort(a: MutableSequence, left: int, right: int) -> None:\n",
    "    \"\"\"a[left]～a[right]をクイックソート\"\"\"\n",
    "    pl = left                   # 左カーソル\n",
    "    pr = right                  # 右カーソル\n",
    "    x = a[(left + right) // 2]  # 枢軸（中央の要素）\n",
    "\n",
    "    while pl <= pr:\n",
    "        while a[pl] < x:\n",
    "            pl += 1\n",
    "        while a[pr] > x:\n",
    "            pr -= 1\n",
    "        if pl <= pr:\n",
    "            a[pl], a[pr] = a[pr], a[pl]\n",
    "            pl += 1\n",
    "            pr -= 1\n",
    "\n",
    "    if left < pr:\n",
    "        qsort(a, left, pr)\n",
    "    if pl < right:\n",
    "        qsort(a, pl, right)\n",
    "\n",
    "\n",
    "def quick_sort(a: MutableSequence) -> None:\n",
    "    \"\"\"クイックソート\"\"\"\n",
    "    qsort(a, 0, len(a) - 1)\n",
    "\n",
    "\n",
    "def qsort_stack(a: MutableSequence, left: int, right: int) -> None:\n",
    "    \"\"\"a[left]～a[right]をクイックソート（非再帰版）\"\"\"\n",
    "    range = Stack(right - left + 1)  # スタックを生成\n",
    "\n",
    "    range.push((left, right))\n",
    "\n",
    "    while not range.is_empty():\n",
    "        pl, pr = left, right = range.pop()  # 左右カーソルを取り出す\n",
    "        x = a[(left + right) // 2]         # 枢軸（中央の要素）\n",
    "\n",
    "        while pl <= pr:\n",
    "            while a[pl] < x:\n",
    "                pl += 1\n",
    "            while a[pr] > x:\n",
    "                pr -= 1\n",
    "            if pl <= pr:\n",
    "                a[pl], a[pr] = a[pr], a[pl]\n",
    "                pl += 1\n",
    "                pr -= 1\n",
    "\n",
    "        if left < pr:\n",
    "            range.push((left, pr))  # 左グループのカーソルを保存\n",
    "        if pl < right:\n",
    "            range.push((pl, right))  # 右グループのカーソルを保存\n",
    "\n",
    "\n",
    "def quick_sort_stack(a: MutableSequence) -> None:\n",
    "    \"\"\"クイックソート(非再帰版))\"\"\"\n",
    "    qsort_stack(a, 0, len(a) - 1)\n",
    "\n",
    "\n",
    "def sort3(a: MutableSequence, idx1: int, idx2: int, idx3: int):\n",
    "    \"\"\"a[idx1], a[idx2], a[idx3]を昇順にソートして中央値の添字を返却\"\"\"\n",
    "    if a[idx2] < a[idx1]:\n",
    "        a[idx2], a[idx1] = a[idx1], a[idx2]\n",
    "    if a[idx3] < a[idx2]:\n",
    "        a[idx3], a[idx2] = a[idx2], a[idx3]\n",
    "    if a[idx2] < a[idx1]:\n",
    "        a[idx2], a[idx1] = a[idx1], a[idx2]\n",
    "\n",
    "\n",
    "def insertion_sort2(a: MutableSequence, left: int, right: int) -> None:\n",
    "    \"\"\"a[left]～a[right]を挿入ソート\"\"\"\n",
    "    for i in range(left + 1, right + 1):\n",
    "        j = i\n",
    "        tmp = a[i]\n",
    "        while j > left and a[j - 1] > tmp:\n",
    "            a[j] = a[j - 1]\n",
    "            j -= 1\n",
    "        a[j] = tmp\n",
    "\n",
    "\n",
    "def qsort2(a: MutableSequence, left: int, right: int) -> None:\n",
    "    \"\"\"a[left]～a[right]をクイックソート\"\"\"\n",
    "    if right - left < 9:  # 要素数が9未満であれば単純挿入ソートに切り替え\n",
    "        insertion_sort2(a, left, right)\n",
    "    else:\n",
    "        pl = left      # 左カーソル\n",
    "        pr = right     # 右カーソル\n",
    "        m = sort3(a, pl, (pl + pr) // 2, pr)\n",
    "        x = a[m]\n",
    "\n",
    "        a[m], a[pr - 1] = a[pr - 1], a[m]\n",
    "        pl += 1\n",
    "        pr -= 2\n",
    "        while pl <= pr:\n",
    "            while a[pl] < x:\n",
    "                pl += 1\n",
    "            while a[pr] > x:\n",
    "                pr -= 1\n",
    "            if pl <= pr:\n",
    "                a[pl], a[pr] = a[pr], a[pl]\n",
    "                pl += 1\n",
    "                pr -= 1\n",
    "\n",
    "        if left < pr:\n",
    "            qsort(a, left, pr)\n",
    "        if pl < right:\n",
    "            qsort(a, pl, right)\n",
    "\n",
    "\n",
    "def quick_sort2(a: MutableSequence) -> None:\n",
    "    \"\"\"クイックソート\"\"\"\n",
    "    qsort2(a, 0, len(a) - 1)"
   ],
   "outputs": [],
   "metadata": {}
  },
  {
   "cell_type": "markdown",
   "source": [
    " ## マージソート"
   ],
   "metadata": {}
  },
  {
   "cell_type": "code",
   "execution_count": null,
   "source": [
    "buff = \"\"\n",
    "\n",
    "\n",
    "class TestMergeSort(unittest.TestCase):\n",
    "    def test_merge_sort_list(self):\n",
    "        a = [2, 4, 6, 8, 11, 13]\n",
    "        b = [1, 2, 3, 4, 9, 16, 21]\n",
    "        c = [None] * (len(a) + len(b))\n",
    "        merge_sorted_list(a, b, c)\n",
    "        self.assertEqual(c, [1, 2, 2, 3, 4, 4, 6, 8, 9, 11, 13, 16, 21])\n",
    "\n",
    "    def test_merge_sort(self):\n",
    "        a = [5, 8, 4, 2, 6, 1, 3, 9, 7]\n",
    "        merge_sort(a)\n",
    "        self.assertEqual(a, [1, 2, 3, 4, 5, 6, 7, 8, 9])\n",
    "\n",
    "\n",
    "def merge_sorted_list(a: Sequence, b: Sequence, c: MutableSequence) -> None:\n",
    "    \"\"\"ソート済み配列aとbをマージしてcに格納\"\"\"\n",
    "    pa, pb, pc = 0, 0, 0   # カーソルを\n",
    "    na, nb, nc = len(a), len(b), len(c)  # 要素数\n",
    "\n",
    "    while pa < na and pb < nb:  # 小さいほうを格納\n",
    "        if a[pa] <= b[pb]:\n",
    "            c[pc] = a[pa]\n",
    "            pa += 1\n",
    "        else:\n",
    "            c[pc] = b[pb]\n",
    "            pb += 1\n",
    "        pc += 1\n",
    "\n",
    "    while pa < na:              # aに残った要素をコピー\n",
    "        c[pc] = a[pa]\n",
    "        pa += 1\n",
    "        pc += 1\n",
    "\n",
    "    while pb < nb:\n",
    "        c[pc] = b[pb]\n",
    "        pb += 1\n",
    "        pc += 1\n",
    "\n",
    "\n",
    "def merge_sort(a: MutableSequence) -> None:\n",
    "    \"\"\"マージソート\"\"\"\n",
    "    def _merge_sort(a: MutableSequence, left: int, right: int) -> None:\n",
    "        \"\"\"a[left]～a[right]を再帰的にマージソート\"\"\"\n",
    "        if left < right:\n",
    "            center = (left + right) // 2\n",
    "\n",
    "            _merge_sort(a, left, center)    # 前半をマージソート\n",
    "            _merge_sort(a, center + 1, right)   # 後半をマージソート\n",
    "\n",
    "            p = j = 0\n",
    "            i = k = left\n",
    "\n",
    "            while i <= center:\n",
    "                buff[p] = a[i]\n",
    "                p += 1\n",
    "                i += 1\n",
    "\n",
    "            while i <= right and j < p:\n",
    "                if buff[j] <= a[i]:\n",
    "                    a[k] = buff[j]\n",
    "                    j += 1\n",
    "                else:\n",
    "                    a[k] = a[i]\n",
    "                    i += 1\n",
    "                k += 1\n",
    "\n",
    "            while j < p:\n",
    "                a[k] = buff[j]\n",
    "                k += 1\n",
    "                j += 1\n",
    "\n",
    "    n = len(a)\n",
    "    buff = [None] * n           # 作業用配列を生成\n",
    "    _merge_sort(a, 0, n - 1)    # 配列全体をマージソート\n",
    "    del buff                    # 作業用配列を破棄"
   ],
   "outputs": [],
   "metadata": {}
  },
  {
   "cell_type": "markdown",
   "source": [
    " ## ヒープソート"
   ],
   "metadata": {}
  },
  {
   "cell_type": "code",
   "execution_count": null,
   "source": [
    "class TestHeapSort(unittest.TestCase):\n",
    "    def test_heap_sort(self):\n",
    "        a = [6, 4, 3, 7, 1, 9, 8]\n",
    "        heap_sort(a)\n",
    "        self.assertEqual(a, [1, 3, 4, 6, 7, 8, 9])\n",
    "\n",
    "\n",
    "def heap_sort(a: MutableSequence) -> None:\n",
    "    \"\"\"ヒープソート\"\"\"\n",
    "    def down_heap(a: MutableSequence, left: int, right: int) -> None:\n",
    "        \"\"\"a[left]～a[right]をヒープソート\"\"\"\n",
    "        temp = a[left]  # 根\n",
    "\n",
    "        parent = left\n",
    "        while parent < (right + 1) // 2:\n",
    "            cl = parent * 2 + 1  # 左の子\n",
    "            cr = cl + 1          # 右の子\n",
    "            child = cr if cr <= right and a[cr] > a[cl] else cl  # 大きいほう\n",
    "            if temp >= a[child]:\n",
    "                break\n",
    "            a[parent] = a[child]\n",
    "            parent = child\n",
    "        a[parent] = temp\n",
    "\n",
    "    n = len(a)\n",
    "\n",
    "    for i in range((n - 1) // 2, -1, -1):   # a[i]～a[n-1]をヒープ化\n",
    "        down_heap(a, i, n - 1)\n",
    "\n",
    "    for i in range(n - 1, 0, -1):\n",
    "        a[0], a[i] = a[i], a[0]     # 最大要素と未ソート部末尾要素を交換\n",
    "        down_heap(a, 0, i - 1)      # a[0]～a[i-1]をヒープ化"
   ],
   "outputs": [],
   "metadata": {}
  },
  {
   "cell_type": "markdown",
   "source": [
    " ## 度数ソート"
   ],
   "metadata": {}
  },
  {
   "cell_type": "code",
   "execution_count": null,
   "source": [
    "class TestCountingSort(unittest.TestCase):\n",
    "    def test_counting_sort(self):\n",
    "        x = [22, 5, 11, 32, 120, 68, 70]\n",
    "        counting_sort(x)\n",
    "        self.assertEqual(x, [5, 11, 22, 32, 68, 70, 120])\n",
    "\n",
    "\n",
    "def fsort(a: MutableSequence, max: int) -> None:\n",
    "    \"\"\"度数ソート(配列要素の値は0以上max以下)\"\"\"\n",
    "    n = len(a)\n",
    "    f = [0] * (max + 1)     # 累積度数\n",
    "    b = [0] * n             # 作業用目的配列\n",
    "\n",
    "    for i in range(n):      # 各要素の度数をカウント\n",
    "        f[a[i]] += 1\n",
    "\n",
    "    for i in range(1, max + 1):  # 累積度数を計算\n",
    "        f[i] += f[i - 1]\n",
    "\n",
    "    for i in range(n - 1, -1, -1):  # 各要素を作業用配列に格納\n",
    "        f[a[i]] -= 1\n",
    "        b[f[a[i]]] = a[i]\n",
    "\n",
    "    for i in range(n):      # 作業用配列をaに移動\n",
    "        a[i] = b[i]\n",
    "\n",
    "\n",
    "def counting_sort(a: MutableSequence) -> None:\n",
    "    \"\"\"度数ソート\"\"\"\n",
    "    fsort(a, max(a))\n",
    "\n",
    "\n",
    "unittest.main(argv=[''], verbosity=2, exit=False)\n",
    "doctest.testmod(verbose=True)"
   ],
   "outputs": [],
   "metadata": {}
  }
 ],
 "nbformat": 4,
 "nbformat_minor": 2,
 "metadata": {
  "language_info": {
   "codemirror_mode": {
    "name": "ipython",
    "version": 3
   },
   "file_extension": ".py",
   "mimetype": "text/x-python",
   "name": "python",
   "nbconvert_exporter": "python",
   "pygments_lexer": "ipython3",
   "version": 3
  },
  "orig_nbformat": 4
 }
}