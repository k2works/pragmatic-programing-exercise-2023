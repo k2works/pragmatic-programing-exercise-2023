{
 "cells": [
  {
   "cell_type": "markdown",
   "source": [
    " # 確率と確率分布の基本"
   ],
   "metadata": {}
  },
  {
   "cell_type": "code",
   "execution_count": 25,
   "source": [
    "# %\n",
    "import numpy as np\n",
    "import pandas as pd\n",
    "from scipy import stats\n",
    "import seaborn as sns\n",
    "from matplotlib import pyplot as plt\n",
    "import unittest\n",
    "import doctest\n",
    "from matplotlib import rcParams\n",
    "import os\n",
    "import warnings\n",
    "warnings.simplefilter('ignore', FutureWarning)\n",
    "path = os.path.dirname(os.path.abspath(__file__))"
   ],
   "outputs": [],
   "metadata": {}
  },
  {
   "cell_type": "markdown",
   "source": [
    " ## 確率論の基本"
   ],
   "metadata": {}
  },
  {
   "cell_type": "markdown",
   "source": [
    " ### 確率論を学ぶのか"
   ],
   "metadata": {}
  },
  {
   "cell_type": "markdown",
   "source": [
    " ### 第4部の開設の流れ"
   ],
   "metadata": {}
  },
  {
   "cell_type": "markdown",
   "source": [
    " ### 集合\n",
    " 0異常5以下の整数の商号をAとすると、集合Aは以下のように表記されます。\n",
    " $$\n",
    " A = \\{0, 1, 2, 3, 4, 5\\}\n",
    " $$"
   ],
   "metadata": {}
  },
  {
   "cell_type": "markdown",
   "source": [
    " ### 要素"
   ],
   "metadata": {}
  },
  {
   "cell_type": "markdown",
   "source": [
    " ### 集合の外延的記法・集合の内包的記法\n",
    " 0異常5以下の整数は以下のように表記されます。なお、Zは整数全体の集合を表します。\n",
    " $$\n",
    " A = \\{x \\in Z | 0 \\leq x \\leq 5\\}\n",
    " $$"
   ],
   "metadata": {}
  },
  {
   "cell_type": "markdown",
   "source": [
    " ### 部分集合\n",
    " A = \\{0, 1, 2, 3, 4, 5\\}とします。\n",
    " B = \\{0, 1, 2, 3, 4, 5, 6, 7\\}とします。\n",
    " このとき、\n",
    " $$\n",
    " A \\subset B\n",
    " $$\n",
    " です。"
   ],
   "metadata": {}
  },
  {
   "cell_type": "markdown",
   "source": [
    " ### ベン図"
   ],
   "metadata": {}
  },
  {
   "cell_type": "markdown",
   "source": [
    " ### 積集合・和集合\n",
    " 2つの集合AとBに対して、積集合は以下のように表記されます。\n",
    " $$\n",
    " A \\cap B = \\{x | x \\in A かつ x \\in B\\}\n",
    " $$\n",
    " 2つの集合AとBに対して、和集合は以下のように表記されます。\n",
    " $$\n",
    " A \\cup B = \\{x | x \\in A または x \\in B\\}\n",
    " $$"
   ],
   "metadata": {}
  },
  {
   "cell_type": "markdown",
   "source": [
    " ### 差集合\n",
    " 2つの集合AとBに対して、差集合は以下のように表記されます。\n",
    " $$\n",
    " A \\setminus B = \\{x | x \\in A かつ x \\notin B\\}\n",
    " $$"
   ],
   "metadata": {}
  },
  {
   "cell_type": "markdown",
   "source": [
    " ### 空集合"
   ],
   "metadata": {}
  },
  {
   "cell_type": "markdown",
   "source": [
    " ### 全体集合\n",
    " ある集合Sがあり、「Sの部分集合しか取り扱あわない」と限定したした時、Sを全体集合と呼びます。\n",
    " $$\n",
    " S = \\{x | x \\in S\\}\n",
    " $$"
   ],
   "metadata": {}
  },
  {
   "cell_type": "markdown",
   "source": [
    " ### 補集合\n",
    " 全体集合Sが定まっているとき、Sの部分集合Aに対して、補集合は以下のように表記されます。\n",
    " $$\n",
    " A^c = \\{x | x \\in S かつ x \\notin A\\}\n",
    " $$"
   ],
   "metadata": {}
  },
  {
   "cell_type": "markdown",
   "source": [
    " ### 標本点・標本空間・事象"
   ],
   "metadata": {}
  },
  {
   "cell_type": "markdown",
   "source": [
    " ### 排反事象"
   ],
   "metadata": {}
  },
  {
   "cell_type": "markdown",
   "source": [
    " ### サイコロ投げて想定できるさまざまな確率"
   ],
   "metadata": {}
  },
  {
   "cell_type": "markdown",
   "source": [
    " ### 確率の公理主義的定義"
   ],
   "metadata": {}
  },
  {
   "cell_type": "markdown",
   "source": [
    " ### 頻度による確率の解釈"
   ],
   "metadata": {}
  },
  {
   "cell_type": "markdown",
   "source": [
    " ### 主観確率による確率の解釈"
   ],
   "metadata": {}
  },
  {
   "cell_type": "markdown",
   "source": [
    " ### 確率の加法定理"
   ],
   "metadata": {}
  },
  {
   "cell_type": "markdown",
   "source": [
    " #### 定義\n",
    " $$\n",
    " P(A \\cup B) = P(A) + P(B)\n",
    " $$\n",
    " $$\n",
    " P(A \\cup B) = P(A) + P(B) - P(A \\cap B)\n",
    " $$"
   ],
   "metadata": {}
  },
  {
   "cell_type": "markdown",
   "source": [
    " #### サイコロ投げの例\n",
    " $$\n",
    " P(A \\cup B) = P(A) + P(B) - P(A \\cap B) = \\frac{3}{6} + \\frac{2}{6} - \\frac{1}{6} = \\frac{2}{3}\n",
    " $$"
   ],
   "metadata": {}
  },
  {
   "cell_type": "markdown",
   "source": [
    " ### 条件付き確率"
   ],
   "metadata": {}
  },
  {
   "cell_type": "markdown",
   "source": [
    " #### 定義\n",
    " $$\n",
    " P(A|B) = \\frac{P(A \\cap B)}{P(B)}\n",
    " $$"
   ],
   "metadata": {}
  },
  {
   "cell_type": "markdown",
   "source": [
    " #### サイコロ投げの例\n",
    " $$\n",
    " P(A|B) = \\frac{P(A \\cap B)}{P(B)} = \\frac{\\frac{1}{6}}{\\frac{2}{6}} = \\frac{1}{2}\n",
    " $$"
   ],
   "metadata": {}
  },
  {
   "cell_type": "markdown",
   "source": [
    " ### 確率の乗法定理\n",
    " $$\n",
    " P(A \\cap B) = P(A|B)P(B)\n",
    " $$"
   ],
   "metadata": {}
  },
  {
   "cell_type": "markdown",
   "source": [
    " ### 独立"
   ],
   "metadata": {}
  },
  {
   "cell_type": "markdown",
   "source": [
    " ## 確率分布の基本"
   ],
   "metadata": {}
  },
  {
   "cell_type": "markdown",
   "source": [
    " ### 確率変数・実現値"
   ],
   "metadata": {}
  },
  {
   "cell_type": "markdown",
   "source": [
    " #### 定義\n",
    " $$\n",
    " P(X = xi)\n",
    " $$"
   ],
   "metadata": {}
  },
  {
   "cell_type": "markdown",
   "source": [
    " ### 離散型の確率変数・連続型の確率変数"
   ],
   "metadata": {}
  },
  {
   "cell_type": "markdown",
   "source": [
    " ### 確率分布"
   ],
   "metadata": {}
  },
  {
   "cell_type": "markdown",
   "source": [
    " ### 確率密度関数"
   ],
   "metadata": {}
  },
  {
   "cell_type": "markdown",
   "source": [
    " ### 確率質量関数"
   ],
   "metadata": {}
  },
  {
   "cell_type": "markdown",
   "source": [
    " ### 一様分布（離散型）"
   ],
   "metadata": {}
  },
  {
   "cell_type": "markdown",
   "source": [
    " #### 一様分布の直感的な説明"
   ],
   "metadata": {}
  },
  {
   "cell_type": "markdown",
   "source": [
    " #### 一様分布の確率密度関数\n",
    " $$\n",
    " U(X|n) = \\frac{1}{n}\n",
    " $$"
   ],
   "metadata": {}
  },
  {
   "cell_type": "markdown",
   "source": [
    " ### 確率密度"
   ],
   "metadata": {}
  },
  {
   "cell_type": "markdown",
   "source": [
    " #### なぜ確率密度が必要か"
   ],
   "metadata": {}
  },
  {
   "cell_type": "markdown",
   "source": [
    " #### 確率密度の定義"
   ],
   "metadata": {}
  },
  {
   "cell_type": "markdown",
   "source": [
    " ### 確率密度関数"
   ],
   "metadata": {}
  },
  {
   "cell_type": "markdown",
   "source": [
    " #### 確率密度関数の定義\n",
    " $$\n",
    " P(a \\leq X \\leq b) = \\int_{a}^{b} f(x)dx\n",
    " $$"
   ],
   "metadata": {}
  },
  {
   "cell_type": "markdown",
   "source": [
    " #### 確率密度関数の性質\n",
    " $$\n",
    " f(x) \\geq 0\n",
    " $$\n",
    " $$\n",
    " \\int_{-\\infty}^{\\infty} f(x)dx = 1\n",
    " $$"
   ],
   "metadata": {}
  },
  {
   "cell_type": "markdown",
   "source": [
    " ### 確率の合計と確率密度の積分の関係"
   ],
   "metadata": {}
  },
  {
   "cell_type": "markdown",
   "source": [
    " #### 離散型の確率分布における計算\n",
    " $$\n",
    " P(1 < X < 3) = \\sum_{i=2}^{3} f(x_i)\n",
    " $$"
   ],
   "metadata": {}
  },
  {
   "cell_type": "markdown",
   "source": [
    " #### 連続型の確率分布における計算\n",
    " $$\n",
    " P(1 < X < 3) = \\int_{1}^{3} f(x)dx\n",
    " $$"
   ],
   "metadata": {}
  },
  {
   "cell_type": "markdown",
   "source": [
    " #### 積分と面積の関係\n",
    " $$\n",
    " \\int_{a}^{b} f(x)dx = 面積\n",
    " $$\n",
    " $$\n",
    " \\lim_{\\Delta x \\to \\infty} \\sum_{i=1}^{n} f(x_i) \\Delta x = \\int_{a}^{b} f(x)dx\n",
    " $$"
   ],
   "metadata": {}
  },
  {
   "cell_type": "markdown",
   "source": [
    " ### 一様分布（連続型）\n",
    " $$\n",
    " U(X|a, b) = \\frac{1}{b - a}\n",
    " $$"
   ],
   "metadata": {}
  },
  {
   "cell_type": "markdown",
   "source": [
    " ### 累積分布関数"
   ],
   "metadata": {}
  },
  {
   "cell_type": "markdown",
   "source": [
    " ### 一様分布の累積分布関数\n",
    " $$\n",
    " F(x) = \\int_{-\\infty}^{x} f(x)dx\n",
    " $$\n",
    " $$\n",
    " F(x) = \\int_{-\\infty}^{x} \\frac{1}{b - a}dx\n",
    " $$\n",
    " $$\n",
    " F(x) = \\frac{x - a}{b - a}\n",
    " $$"
   ],
   "metadata": {}
  },
  {
   "cell_type": "markdown",
   "source": [
    " ### パーセント点"
   ],
   "metadata": {}
  },
  {
   "cell_type": "markdown",
   "source": [
    " ### 期待値"
   ],
   "metadata": {}
  },
  {
   "cell_type": "markdown",
   "source": [
    " #### 期待値の直感的な説明"
   ],
   "metadata": {}
  },
  {
   "cell_type": "markdown",
   "source": [
    " #### 離散型の確率変数の期待値\n",
    " $$\n",
    " E(X) = \\sum_{i=1}^{n} x_i f(x_i)\n",
    " $$"
   ],
   "metadata": {}
  },
  {
   "cell_type": "markdown",
   "source": [
    " #### 連続型の確率変数の期待値\n",
    " $$\n",
    " E(X) = \\int_{-\\infty}^{\\infty} x f(x)dx\n",
    " $$"
   ],
   "metadata": {}
  },
  {
   "cell_type": "markdown",
   "source": [
    " #### 期待値と平均値の関係\n",
    " $$\n",
    " E(X) = \\mu\n",
    " $$"
   ],
   "metadata": {}
  },
  {
   "cell_type": "markdown",
   "source": [
    " #### 予測値としての期待値"
   ],
   "metadata": {}
  },
  {
   "cell_type": "markdown",
   "source": [
    " ### 確率変数の分散"
   ],
   "metadata": {}
  },
  {
   "cell_type": "markdown",
   "source": [
    " #### 分散の直感的な説明"
   ],
   "metadata": {}
  },
  {
   "cell_type": "markdown",
   "source": [
    " #### 確率変数の分散\n",
    " $$\n",
    " V(X) = E((X - \\mu)^2)\n",
    " $$"
   ],
   "metadata": {}
  },
  {
   "cell_type": "markdown",
   "source": [
    " #### 離散型の確率変数における分散\n",
    " $$\n",
    " V(X) = \\sum_{i=1}^{n} (x_i - \\mu)^2 f(x_i)\n",
    " $$"
   ],
   "metadata": {}
  },
  {
   "cell_type": "markdown",
   "source": [
    " #### 連続型の確率変数における分散\n",
    " $$\n",
    " V(X) = \\int_{-\\infty}^{\\infty} (x - \\mu)^2 f(x)dx\n",
    " $$"
   ],
   "metadata": {}
  },
  {
   "cell_type": "markdown",
   "source": [
    " ### 一様分布の期待値と分散"
   ],
   "metadata": {}
  },
  {
   "cell_type": "markdown",
   "source": [
    " #### 離散型の一様分布の期待値と分散\n",
    " $$\n",
    " E(X) = \\sum_{i=1}^{n} x_i f(x_i) = \\frac{1}{n} \\sum_{i=1}^{n} x_i = \\frac{1}{n}\\sum_{i=1}^{n} x_i\n",
    " $$\n",
    " $$\n",
    " V(X) = \\sum_{i=1}^{n} (x_i - \\mu)^2 f(x_i) = \\frac{1}{n} \\sum_{i=1}^{n} (x_i - \\mu)^2 = \\frac{1}{n}\\sum_{i=1}^{n} (x_i - \\mu)^2\n",
    " $$"
   ],
   "metadata": {}
  },
  {
   "cell_type": "markdown",
   "source": [
    " #### 連続型の一様分布の期待値\n",
    " $$\n",
    " E(X) = \\int_{-\\infty}^{\\infty} x f(x)dx = \\int_{a}^{b} x \\frac{1}{b - a}dx = \\frac{1}{b - a} \\int_{a}^{b} xdx = \\frac{1}{b - a} \\left[ \\frac{x^2}{2} \\right]_{a}^{b} = \\frac{1}{b - a} \\left( \\frac{b^2}{2} - \\frac{a^2}{2} \\right) = \\frac{b^2 - a^2}{2(b - a)} = \\frac{b + a}{2}\n",
    " $$"
   ],
   "metadata": {}
  },
  {
   "cell_type": "markdown",
   "source": [
    " ### 多次元確率分布"
   ],
   "metadata": {}
  },
  {
   "cell_type": "markdown",
   "source": [
    " ### 同時確率分布"
   ],
   "metadata": {}
  },
  {
   "cell_type": "markdown",
   "source": [
    " #### 同時確率分布の定義\n",
    " $$\n",
    " P(X = x_i, Y = y_j) = f(x_i, y_j)\n",
    " $$"
   ],
   "metadata": {}
  },
  {
   "cell_type": "markdown",
   "source": [
    " #### 同時確率分布の性質\n",
    " $$\n",
    " \\sum_{i=1}^{m}\\sum_{j=1}^{n} f(x_i, y_j) = 1\n",
    " $$"
   ],
   "metadata": {}
  },
  {
   "cell_type": "markdown",
   "source": [
    " ### 周辺化・周辺分布\n",
    " $$\n",
    " P(X = x_i) = \\sum_{j=1}^{n} f(x_i, y_j)\n",
    " $$"
   ],
   "metadata": {}
  },
  {
   "cell_type": "markdown",
   "source": [
    " ### 条件付き確率分布\n",
    " $$\n",
    " P(X = x_i | Y = y_j) = \\frac{P(X = x_i, Y = y_j)}{P(Y = y_j)} = \\frac{f(x_i, y_j)}{f_Y(y_j)}\n",
    " $$"
   ],
   "metadata": {}
  },
  {
   "cell_type": "markdown",
   "source": [
    " ### 確率変数の独立\n",
    " $$\n",
    " P(X = x_i, Y = y_j) = P(X = x_i)P(Y = y_j)\n",
    " $$"
   ],
   "metadata": {}
  },
  {
   "cell_type": "markdown",
   "source": [
    " ### 2次元確率分布の例"
   ],
   "metadata": {}
  },
  {
   "cell_type": "markdown",
   "source": [
    " ### 確率変数の共分散・相関係数"
   ],
   "metadata": {}
  },
  {
   "cell_type": "markdown",
   "source": [
    " #### 確率変数の共分散\n",
    " $$\n",
    " Cov(X, Y) = E((X - \\mu_X)(Y - \\mu_Y))\n",
    " $$"
   ],
   "metadata": {}
  },
  {
   "cell_type": "markdown",
   "source": [
    " #### 確率変数の相関係数\n",
    " $$\n",
    " \\rho(X, Y) = \\frac{Cov(X, Y)}{\\sqrt{V(X)}\\sqrt{V(Y)}}\n",
    " $$"
   ],
   "metadata": {}
  },
  {
   "cell_type": "markdown",
   "source": [
    " ### 独立同一分布"
   ],
   "metadata": {}
  },
  {
   "cell_type": "markdown",
   "source": [
    " #### 独立同一分布の定義"
   ],
   "metadata": {}
  },
  {
   "cell_type": "markdown",
   "source": [
    " #### 独立同一分布に従う確率変数列の同時確率分布\n",
    " $$\n",
    " P(X_1 = x_1, X_2 = x_2, \\cdots, X_n = x_n) = \\prod_{i=1}^{n} P(X_i = x_i)\n",
    " $$"
   ],
   "metadata": {}
  },
  {
   "cell_type": "markdown",
   "source": [
    " #### 独立同一分布とみなせない事例"
   ],
   "metadata": {}
  },
  {
   "cell_type": "markdown",
   "source": [
    " ## 二項分布"
   ],
   "metadata": {}
  },
  {
   "cell_type": "markdown",
   "source": [
    " ### 施行"
   ],
   "metadata": {}
  },
  {
   "cell_type": "markdown",
   "source": [
    " ### 二値確率変数"
   ],
   "metadata": {}
  },
  {
   "cell_type": "markdown",
   "source": [
    " ### ベルヌーイ施行"
   ],
   "metadata": {}
  },
  {
   "cell_type": "markdown",
   "source": [
    " ### くじ引きシミュレーション"
   ],
   "metadata": {}
  },
  {
   "cell_type": "markdown",
   "source": [
    " ### 分布の準備"
   ],
   "metadata": {}
  },
  {
   "cell_type": "code",
   "execution_count": 26,
   "source": [
    "sns.set()\n",
    "\n",
    "rcParams['font.family'] = 'sans-serif'\n",
    "rcParams['font.sans-serif'] = 'Meiryo'"
   ],
   "outputs": [],
   "metadata": {}
  },
  {
   "cell_type": "markdown",
   "source": [
    " ### くじを1枚引くシミュレーション"
   ],
   "metadata": {}
  },
  {
   "cell_type": "markdown",
   "source": [
    " #### くじを用意する"
   ],
   "metadata": {}
  },
  {
   "cell_type": "code",
   "execution_count": 27,
   "source": [
    "lotlery = np.array([1, 1, 0, 0, 0, 0, 0, 0, 0, 0])\n",
    "lotlery\n",
    "sum(lotlery) / len(lotlery)"
   ],
   "outputs": [
    {
     "output_type": "execute_result",
     "data": {
      "text/plain": [
       "0.2"
      ]
     },
     "metadata": {},
     "execution_count": 27
    }
   ],
   "metadata": {}
  },
  {
   "cell_type": "markdown",
   "source": [
    " #### くじを1枚引く"
   ],
   "metadata": {}
  },
  {
   "cell_type": "code",
   "execution_count": 28,
   "source": [
    "np.random.choice(lotlery, size=1, replace=True)\n",
    "\n",
    "print(np.random.choice(lotlery, size=1, replace=True))\n",
    "print(np.random.choice(lotlery, size=1, replace=True))\n",
    "print(np.random.choice(lotlery, size=1, replace=True))"
   ],
   "outputs": [
    {
     "output_type": "stream",
     "name": "stdout",
     "text": [
      "[1]\n",
      "[0]\n",
      "[0]\n"
     ]
    }
   ],
   "metadata": {}
  },
  {
   "cell_type": "markdown",
   "source": [
    " ### くじを10枚引くシミュレーション"
   ],
   "metadata": {}
  },
  {
   "cell_type": "markdown",
   "source": [
    " #### くじを10枚引く"
   ],
   "metadata": {}
  },
  {
   "cell_type": "code",
   "execution_count": 29,
   "source": [
    "print(np.random.choice(lotlery, size=10, replace=True))\n",
    "print(np.random.choice(lotlery, size=10, replace=True))\n",
    "print(np.random.choice(lotlery, size=10, replace=True))"
   ],
   "outputs": [
    {
     "output_type": "stream",
     "name": "stdout",
     "text": [
      "[0 0 0 0 0 0 0 0 0 0]\n",
      "[0 1 0 1 0 0 0 0 0 0]\n",
      "[1 1 1 0 0 0 0 0 0 0]\n"
     ]
    }
   ],
   "metadata": {}
  },
  {
   "cell_type": "markdown",
   "source": [
    " #### 乱数の種を設定する"
   ],
   "metadata": {}
  },
  {
   "cell_type": "code",
   "execution_count": 30,
   "source": [
    "np.random.seed(1)\n",
    "print(np.random.choice(lotlery, size=10, replace=True))\n",
    "np.random.seed(1)\n",
    "print(np.random.choice(lotlery, size=10, replace=True))\n",
    "np.random.seed(1)\n",
    "print(np.random.choice(lotlery, size=10, replace=True))"
   ],
   "outputs": [
    {
     "output_type": "stream",
     "name": "stdout",
     "text": [
      "[0 0 0 0 1 1 1 0 0 0]\n",
      "[0 0 0 0 1 1 1 0 0 0]\n",
      "[0 0 0 0 1 1 1 0 0 0]\n"
     ]
    }
   ],
   "metadata": {}
  },
  {
   "cell_type": "markdown",
   "source": [
    " #### 繰り返し実行の結果の確認"
   ],
   "metadata": {}
  },
  {
   "cell_type": "code",
   "execution_count": 31,
   "source": [
    "np.random.seed(1)\n",
    "print(np.random.choice(lotlery, size=10, replace=True))\n",
    "print(np.random.choice(lotlery, size=10, replace=True))\n",
    "print(np.random.choice(lotlery, size=10, replace=True))"
   ],
   "outputs": [
    {
     "output_type": "stream",
     "name": "stdout",
     "text": [
      "[0 0 0 0 1 1 1 0 0 0]\n",
      "[0 0 0 0 0 0 0 0 0 0]\n",
      "[1 0 1 0 0 0 0 0 0 1]\n"
     ]
    }
   ],
   "metadata": {}
  },
  {
   "cell_type": "markdown",
   "source": [
    " #### 当たり枚数の集計"
   ],
   "metadata": {}
  },
  {
   "cell_type": "code",
   "execution_count": 32,
   "source": [
    "np.random.seed(1)\n",
    "sample_1 = np.random.choice(lotlery, size=10, replace=True)\n",
    "print('くじ引きの結果：', sample_1)\n",
    "print('当たり枚数：', sum(sample_1))"
   ],
   "outputs": [
    {
     "output_type": "stream",
     "name": "stdout",
     "text": [
      "くじ引きの結果： [0 0 0 0 1 1 1 0 0 0]\n",
      "当たり枚数： 3\n"
     ]
    }
   ],
   "metadata": {}
  },
  {
   "cell_type": "markdown",
   "source": [
    " ### くじを10枚引く試行を10000回繰り返す"
   ],
   "metadata": {}
  },
  {
   "cell_type": "markdown",
   "source": [
    " #### シミュレーションの実行"
   ],
   "metadata": {}
  },
  {
   "cell_type": "code",
   "execution_count": 33,
   "source": [
    "# 試行回数\n",
    "n_trial = 10000\n",
    "# 結果を格納する入れ物\n",
    "binomial_result_array = np.zeros(n_trial)\n",
    "\n",
    "np.random.seed(1)\n",
    "for i in range(n_trial):\n",
    "    sample = np.random.choice(lotlery, size=10, replace=True)\n",
    "    binomial_result_array[i] = sum(sample)\n",
    "\n",
    "binomial_result_array[0:10]"
   ],
   "outputs": [
    {
     "output_type": "execute_result",
     "data": {
      "text/plain": [
       "array([3., 0., 3., 2., 3., 1., 0., 2., 3., 0.])"
      ]
     },
     "metadata": {},
     "execution_count": 33
    }
   ],
   "metadata": {}
  },
  {
   "cell_type": "markdown",
   "source": [
    " #### シミュレーション結果のヒストグラム"
   ],
   "metadata": {}
  },
  {
   "cell_type": "code",
   "execution_count": 34,
   "source": [
    "np.histogram(binomial_result_array, bins=np.arange(0, 11, 1), density=True)\n",
    "\n",
    "sns.histplot(binomial_result_array, bins=np.arange(\n",
    "    0, 11, 1), stat='probability')"
   ],
   "outputs": [
    {
     "output_type": "execute_result",
     "data": {
      "text/plain": [
       "<Axes: ylabel='Probability'>"
      ]
     },
     "metadata": {},
     "execution_count": 34
    },
    {
     "output_type": "stream",
     "name": "stderr",
     "text": [
      "findfont: Generic family 'sans-serif' not found because none of the following families were found: Meiryo\n",
      "findfont: Generic family 'sans-serif' not found because none of the following families were found: Meiryo\n",
      "findfont: Generic family 'sans-serif' not found because none of the following families were found: Meiryo\n",
      "findfont: Generic family 'sans-serif' not found because none of the following families were found: Meiryo\n",
      "findfont: Generic family 'sans-serif' not found because none of the following families were found: Meiryo\n",
      "findfont: Generic family 'sans-serif' not found because none of the following families were found: Meiryo\n",
      "findfont: Generic family 'sans-serif' not found because none of the following families were found: Meiryo\n",
      "findfont: Generic family 'sans-serif' not found because none of the following families were found: Meiryo\n",
      "findfont: Generic family 'sans-serif' not found because none of the following families were found: Meiryo\n",
      "findfont: Generic family 'sans-serif' not found because none of the following families were found: Meiryo\n",
      "findfont: Generic family 'sans-serif' not found because none of the following families were found: Meiryo\n",
      "findfont: Generic family 'sans-serif' not found because none of the following families were found: Meiryo\n",
      "findfont: Generic family 'sans-serif' not found because none of the following families were found: Meiryo\n",
      "findfont: Generic family 'sans-serif' not found because none of the following families were found: Meiryo\n",
      "findfont: Generic family 'sans-serif' not found because none of the following families were found: Meiryo\n",
      "findfont: Generic family 'sans-serif' not found because none of the following families were found: Meiryo\n",
      "findfont: Generic family 'sans-serif' not found because none of the following families were found: Meiryo\n",
      "findfont: Generic family 'sans-serif' not found because none of the following families were found: Meiryo\n",
      "findfont: Generic family 'sans-serif' not found because none of the following families were found: Meiryo\n",
      "findfont: Generic family 'sans-serif' not found because none of the following families were found: Meiryo\n",
      "findfont: Generic family 'sans-serif' not found because none of the following families were found: Meiryo\n",
      "findfont: Generic family 'sans-serif' not found because none of the following families were found: Meiryo\n",
      "findfont: Generic family 'sans-serif' not found because none of the following families were found: Meiryo\n",
      "findfont: Generic family 'sans-serif' not found because none of the following families were found: Meiryo\n",
      "findfont: Generic family 'sans-serif' not found because none of the following families were found: Meiryo\n",
      "findfont: Generic family 'sans-serif' not found because none of the following families were found: Meiryo\n",
      "findfont: Generic family 'sans-serif' not found because none of the following families were found: Meiryo\n",
      "findfont: Generic family 'sans-serif' not found because none of the following families were found: Meiryo\n",
      "findfont: Generic family 'sans-serif' not found because none of the following families were found: Meiryo\n",
      "findfont: Generic family 'sans-serif' not found because none of the following families were found: Meiryo\n",
      "findfont: Generic family 'sans-serif' not found because none of the following families were found: Meiryo\n",
      "findfont: Generic family 'sans-serif' not found because none of the following families were found: Meiryo\n",
      "findfont: Generic family 'sans-serif' not found because none of the following families were found: Meiryo\n",
      "findfont: Generic family 'sans-serif' not found because none of the following families were found: Meiryo\n",
      "findfont: Generic family 'sans-serif' not found because none of the following families were found: Meiryo\n",
      "findfont: Generic family 'sans-serif' not found because none of the following families were found: Meiryo\n",
      "findfont: Generic family 'sans-serif' not found because none of the following families were found: Meiryo\n",
      "findfont: Generic family 'sans-serif' not found because none of the following families were found: Meiryo\n",
      "findfont: Generic family 'sans-serif' not found because none of the following families were found: Meiryo\n",
      "findfont: Generic family 'sans-serif' not found because none of the following families were found: Meiryo\n",
      "findfont: Generic family 'sans-serif' not found because none of the following families were found: Meiryo\n",
      "findfont: Generic family 'sans-serif' not found because none of the following families were found: Meiryo\n",
      "findfont: Generic family 'sans-serif' not found because none of the following families were found: Meiryo\n",
      "findfont: Generic family 'sans-serif' not found because none of the following families were found: Meiryo\n",
      "findfont: Generic family 'sans-serif' not found because none of the following families were found: Meiryo\n",
      "findfont: Generic family 'sans-serif' not found because none of the following families were found: Meiryo\n",
      "findfont: Generic family 'sans-serif' not found because none of the following families were found: Meiryo\n",
      "findfont: Generic family 'sans-serif' not found because none of the following families were found: Meiryo\n",
      "findfont: Generic family 'sans-serif' not found because none of the following families were found: Meiryo\n",
      "findfont: Generic family 'sans-serif' not found because none of the following families were found: Meiryo\n",
      "findfont: Generic family 'sans-serif' not found because none of the following families were found: Meiryo\n",
      "findfont: Generic family 'sans-serif' not found because none of the following families were found: Meiryo\n",
      "findfont: Generic family 'sans-serif' not found because none of the following families were found: Meiryo\n",
      "findfont: Generic family 'sans-serif' not found because none of the following families were found: Meiryo\n",
      "findfont: Generic family 'sans-serif' not found because none of the following families were found: Meiryo\n",
      "findfont: Generic family 'sans-serif' not found because none of the following families were found: Meiryo\n",
      "findfont: Generic family 'sans-serif' not found because none of the following families were found: Meiryo\n",
      "findfont: Generic family 'sans-serif' not found because none of the following families were found: Meiryo\n",
      "findfont: Generic family 'sans-serif' not found because none of the following families were found: Meiryo\n",
      "findfont: Generic family 'sans-serif' not found because none of the following families were found: Meiryo\n"
     ]
    },
    {
     "output_type": "display_data",
     "data": {
      "image/png": "[encoded data removed]",
      "text/plain": [
       "<Figure size 640x480 with 1 Axes>"
      ]
     },
     "metadata": {}
    }
   ],
   "metadata": {}
  },
  {
   "cell_type": "markdown",
   "source": [
    " ### 二項分布"
   ],
   "metadata": {}
  },
  {
   "cell_type": "markdown",
   "source": [
    " #### 二項分布の確率質量関数\n",
    " $$\n",
    " B(x|n, \\mu) = {}_n C_x \\mu^x (1 - \\mu)^{n - x}\n",
    " $$"
   ],
   "metadata": {}
  },
  {
   "cell_type": "markdown",
   "source": [
    " #### 二項分布の確率質量関数の解釈"
   ],
   "metadata": {}
  },
  {
   "cell_type": "markdown",
   "source": [
    " ### 二項分布"
   ],
   "metadata": {}
  },
  {
   "cell_type": "markdown",
   "source": [
    " #### 二項分布の確率質量関数"
   ],
   "metadata": {}
  },
  {
   "cell_type": "code",
   "execution_count": 35,
   "source": [
    "round(stats.binom.pmf(k=1, n=2, p=0.5), 3)\n",
    "round(stats.binom.pmf(k=0, n=10, p=0.2), 3)"
   ],
   "outputs": [
    {
     "output_type": "execute_result",
     "data": {
      "text/plain": [
       "0.107"
      ]
     },
     "metadata": {},
     "execution_count": 35
    }
   ],
   "metadata": {}
  },
  {
   "cell_type": "markdown",
   "source": [
    " #### 二項分布の確率質量関数のグラフ"
   ],
   "metadata": {}
  },
  {
   "cell_type": "code",
   "execution_count": 36,
   "source": [
    "# 成功回数\n",
    "n_success = np.arange(0, 11, 1)\n",
    "# 確率\n",
    "probs = stats.binom.pmf(k=n_success, n=10, p=0.2)\n",
    "\n",
    "# データフレームにまとめる\n",
    "probs_df = pd.DataFrame({\n",
    "    'n_success': n_success,\n",
    "    'probs': probs\n",
    "})\n",
    "print(probs_df)\n",
    "\n",
    "# ヒストグラム（シミュレーション結果）\n",
    "sns.histplot(binomial_result_array,\n",
    "             bins=np.arange(0, 11, 1),\n",
    "             stat='density', color='gray')\n",
    "\n",
    "# 折れ線グラフ（二項分布の確率質量関数）\n",
    "sns.lineplot(x=n_success, y=probs, data=probs_df, color='black')"
   ],
   "outputs": [
    {
     "output_type": "stream",
     "name": "stdout",
     "text": [
      "    n_success         probs\n",
      "0           0  1.073742e-01\n",
      "1           1  2.684355e-01\n",
      "2           2  3.019899e-01\n",
      "3           3  2.013266e-01\n",
      "4           4  8.808038e-02\n",
      "5           5  2.642412e-02\n",
      "6           6  5.505024e-03\n",
      "7           7  7.864320e-04\n",
      "8           8  7.372800e-05\n",
      "9           9  4.096000e-06\n",
      "10         10  1.024000e-07\n"
     ]
    },
    {
     "output_type": "execute_result",
     "data": {
      "text/plain": [
       "<Axes: ylabel='Density'>"
      ]
     },
     "metadata": {},
     "execution_count": 36
    },
    {
     "output_type": "stream",
     "name": "stderr",
     "text": [
      "findfont: Generic family 'sans-serif' not found because none of the following families were found: Meiryo\n",
      "findfont: Generic family 'sans-serif' not found because none of the following families were found: Meiryo\n",
      "findfont: Generic family 'sans-serif' not found because none of the following families were found: Meiryo\n",
      "findfont: Generic family 'sans-serif' not found because none of the following families were found: Meiryo\n",
      "findfont: Generic family 'sans-serif' not found because none of the following families were found: Meiryo\n",
      "findfont: Generic family 'sans-serif' not found because none of the following families were found: Meiryo\n",
      "findfont: Generic family 'sans-serif' not found because none of the following families were found: Meiryo\n",
      "findfont: Generic family 'sans-serif' not found because none of the following families were found: Meiryo\n",
      "findfont: Generic family 'sans-serif' not found because none of the following families were found: Meiryo\n",
      "findfont: Generic family 'sans-serif' not found because none of the following families were found: Meiryo\n",
      "findfont: Generic family 'sans-serif' not found because none of the following families were found: Meiryo\n",
      "findfont: Generic family 'sans-serif' not found because none of the following families were found: Meiryo\n",
      "findfont: Generic family 'sans-serif' not found because none of the following families were found: Meiryo\n",
      "findfont: Generic family 'sans-serif' not found because none of the following families were found: Meiryo\n",
      "findfont: Generic family 'sans-serif' not found because none of the following families were found: Meiryo\n",
      "findfont: Generic family 'sans-serif' not found because none of the following families were found: Meiryo\n",
      "findfont: Generic family 'sans-serif' not found because none of the following families were found: Meiryo\n",
      "findfont: Generic family 'sans-serif' not found because none of the following families were found: Meiryo\n",
      "findfont: Generic family 'sans-serif' not found because none of the following families were found: Meiryo\n",
      "findfont: Generic family 'sans-serif' not found because none of the following families were found: Meiryo\n",
      "findfont: Generic family 'sans-serif' not found because none of the following families were found: Meiryo\n",
      "findfont: Generic family 'sans-serif' not found because none of the following families were found: Meiryo\n",
      "findfont: Generic family 'sans-serif' not found because none of the following families were found: Meiryo\n",
      "findfont: Generic family 'sans-serif' not found because none of the following families were found: Meiryo\n",
      "findfont: Generic family 'sans-serif' not found because none of the following families were found: Meiryo\n",
      "findfont: Generic family 'sans-serif' not found because none of the following families were found: Meiryo\n",
      "findfont: Generic family 'sans-serif' not found because none of the following families were found: Meiryo\n",
      "findfont: Generic family 'sans-serif' not found because none of the following families were found: Meiryo\n",
      "findfont: Generic family 'sans-serif' not found because none of the following families were found: Meiryo\n",
      "findfont: Generic family 'sans-serif' not found because none of the following families were found: Meiryo\n",
      "findfont: Generic family 'sans-serif' not found because none of the following families were found: Meiryo\n",
      "findfont: Generic family 'sans-serif' not found because none of the following families were found: Meiryo\n",
      "findfont: Generic family 'sans-serif' not found because none of the following families were found: Meiryo\n",
      "findfont: Generic family 'sans-serif' not found because none of the following families were found: Meiryo\n",
      "findfont: Generic family 'sans-serif' not found because none of the following families were found: Meiryo\n",
      "findfont: Generic family 'sans-serif' not found because none of the following families were found: Meiryo\n",
      "findfont: Generic family 'sans-serif' not found because none of the following families were found: Meiryo\n",
      "findfont: Generic family 'sans-serif' not found because none of the following families were found: Meiryo\n",
      "findfont: Generic family 'sans-serif' not found because none of the following families were found: Meiryo\n",
      "findfont: Generic family 'sans-serif' not found because none of the following families were found: Meiryo\n",
      "findfont: Generic family 'sans-serif' not found because none of the following families were found: Meiryo\n",
      "findfont: Generic family 'sans-serif' not found because none of the following families were found: Meiryo\n",
      "findfont: Generic family 'sans-serif' not found because none of the following families were found: Meiryo\n",
      "findfont: Generic family 'sans-serif' not found because none of the following families were found: Meiryo\n",
      "findfont: Generic family 'sans-serif' not found because none of the following families were found: Meiryo\n",
      "findfont: Generic family 'sans-serif' not found because none of the following families were found: Meiryo\n",
      "findfont: Generic family 'sans-serif' not found because none of the following families were found: Meiryo\n",
      "findfont: Generic family 'sans-serif' not found because none of the following families were found: Meiryo\n",
      "findfont: Generic family 'sans-serif' not found because none of the following families were found: Meiryo\n",
      "findfont: Generic family 'sans-serif' not found because none of the following families were found: Meiryo\n",
      "findfont: Generic family 'sans-serif' not found because none of the following families were found: Meiryo\n",
      "findfont: Generic family 'sans-serif' not found because none of the following families were found: Meiryo\n",
      "findfont: Generic family 'sans-serif' not found because none of the following families were found: Meiryo\n",
      "findfont: Generic family 'sans-serif' not found because none of the following families were found: Meiryo\n",
      "findfont: Generic family 'sans-serif' not found because none of the following families were found: Meiryo\n",
      "findfont: Generic family 'sans-serif' not found because none of the following families were found: Meiryo\n",
      "findfont: Generic family 'sans-serif' not found because none of the following families were found: Meiryo\n",
      "findfont: Generic family 'sans-serif' not found because none of the following families were found: Meiryo\n",
      "findfont: Generic family 'sans-serif' not found because none of the following families were found: Meiryo\n",
      "findfont: Generic family 'sans-serif' not found because none of the following families were found: Meiryo\n"
     ]
    },
    {
     "output_type": "display_data",
     "data": {
      "image/png": "[encoded data removed]",
      "text/plain": [
       "<Figure size 640x480 with 1 Axes>"
      ]
     },
     "metadata": {}
    }
   ],
   "metadata": {}
  },
  {
   "cell_type": "markdown",
   "source": [
    " ### 二項分布に従う乱数の生成"
   ],
   "metadata": {}
  },
  {
   "cell_type": "markdown",
   "source": [
    " #### 二項分布に従う乱数の生成"
   ],
   "metadata": {}
  },
  {
   "cell_type": "code",
   "execution_count": 37,
   "source": [
    "np.random.seed(1)\n",
    "stats.binom.rvs(n=10, p=0.2, size=5)"
   ],
   "outputs": [
    {
     "output_type": "execute_result",
     "data": {
      "text/plain": [
       "array([2, 3, 0, 1, 1])"
      ]
     },
     "metadata": {},
     "execution_count": 37
    }
   ],
   "metadata": {}
  },
  {
   "cell_type": "markdown",
   "source": [
    " ### 二項分布の期待値と分散"
   ],
   "metadata": {}
  },
  {
   "cell_type": "markdown",
   "source": [
    " #### 二項分布の期待値の実装"
   ],
   "metadata": {}
  },
  {
   "cell_type": "code",
   "execution_count": 38,
   "source": [
    "n = 10\n",
    "p = 0.2\n",
    "x_bar = np.mean(binomial_result_array)\n",
    "print('乱数の平均     :', round(x_bar, 3))\n",
    "print('理論的な理論値  :', n * p)"
   ],
   "outputs": [
    {
     "output_type": "stream",
     "name": "stdout",
     "text": [
      "乱数の平均     : 1.983\n",
      "理論的な理論値  : 2.0\n"
     ]
    }
   ],
   "metadata": {}
  },
  {
   "cell_type": "markdown",
   "source": [
    " #### 二項分布の分散の実装"
   ],
   "metadata": {}
  },
  {
   "cell_type": "code",
   "execution_count": 39,
   "source": [
    "stats.binom.mean(n=10, p=0.2)"
   ],
   "outputs": [
    {
     "output_type": "execute_result",
     "data": {
      "text/plain": [
       "2.0"
      ]
     },
     "metadata": {},
     "execution_count": 39
    }
   ],
   "metadata": {}
  },
  {
   "cell_type": "markdown",
   "source": [
    " #### 二項分布の分散の実装"
   ],
   "metadata": {}
  },
  {
   "cell_type": "code",
   "execution_count": 40,
   "source": [
    "u2 = np.var(binomial_result_array, ddof=1)\n",
    "print('乱数の分散     :', round(u2, 3))\n",
    "print('理論的な分散    :', n * p * (1 - p))\n",
    "\n",
    "stats.binom.var(n=10, p=0.2)"
   ],
   "outputs": [
    {
     "output_type": "stream",
     "name": "stdout",
     "text": [
      "乱数の分散     : 1.614\n",
      "理論的な分散    : 1.6\n"
     ]
    },
    {
     "output_type": "execute_result",
     "data": {
      "text/plain": [
       "1.6"
      ]
     },
     "metadata": {},
     "execution_count": 40
    }
   ],
   "metadata": {}
  },
  {
   "cell_type": "markdown",
   "source": [
    " ### 二項分布の累積分布関数"
   ],
   "metadata": {}
  },
  {
   "cell_type": "markdown",
   "source": [
    " #### 二項分布の累積分布関数の実装"
   ],
   "metadata": {}
  },
  {
   "cell_type": "code",
   "execution_count": 41,
   "source": [
    "round(stats.binom.cdf(k=2, n=10, p=0.2), 3)"
   ],
   "outputs": [
    {
     "output_type": "execute_result",
     "data": {
      "text/plain": [
       "0.678"
      ]
     },
     "metadata": {},
     "execution_count": 41
    }
   ],
   "metadata": {}
  },
  {
   "cell_type": "markdown",
   "source": [
    " #### 確率質量関数と累積分布関数の比較"
   ],
   "metadata": {}
  },
  {
   "cell_type": "code",
   "execution_count": 42,
   "source": [
    "print('確率質量関数:', round(stats.binom.pmf(k=0, n=10, p=0.2), 3))\n",
    "print('累積分布関数:', round(stats.binom.cdf(k=0, n=10, p=0.2), 3))\n",
    "\n",
    "print('確率質量関数:', round(stats.binom.pmf(k=1, n=10, p=0.2), 3))\n",
    "print('累積分布関数:', round(stats.binom.cdf(k=1, n=10, p=0.2), 3))\n",
    "\n",
    "pmf_0 = stats.binom.pmf(k=0, n=10, p=0.2)\n",
    "pmf_1 = stats.binom.pmf(k=1, n=10, p=0.2)\n",
    "round(pmf_0 + pmf_1, 3)\n",
    "\n",
    "pmf_0 = stats.binom.pmf(k=0, n=10, p=0.2)\n",
    "pmf_1 = stats.binom.pmf(k=1, n=10, p=0.2)\n",
    "round(pmf_0 + pmf_1, 3)"
   ],
   "outputs": [
    {
     "output_type": "stream",
     "name": "stdout",
     "text": [
      "確率質量関数: 0.107\n",
      "累積分布関数: 0.107\n",
      "確率質量関数: 0.268\n",
      "累積分布関数: 0.376\n"
     ]
    },
    {
     "output_type": "execute_result",
     "data": {
      "text/plain": [
       "0.376"
      ]
     },
     "metadata": {},
     "execution_count": 42
    }
   ],
   "metadata": {}
  },
  {
   "cell_type": "markdown",
   "source": [
    " ### 二項分布のパーセント点"
   ],
   "metadata": {}
  },
  {
   "cell_type": "code",
   "execution_count": 43,
   "source": [
    "# 成功確率p=0.2, ベルヌーイ試行の回数n=10\n",
    "print('10%点:', stats.binom.ppf(q=0.1, n=10, p=0.2))\n",
    "print('20%点:', stats.binom.ppf(q=0.2, n=10, p=0.2))\n",
    "print('50%点:', stats.binom.ppf(q=0.5, n=10, p=0.2))\n",
    "print('80%点:', stats.binom.ppf(q=0.8, n=10, p=0.2))\n",
    "print('95%点:', stats.binom.ppf(q=0.95, n=10, p=0.2))"
   ],
   "outputs": [
    {
     "output_type": "stream",
     "name": "stdout",
     "text": [
      "10%点: 0.0\n",
      "20%点: 1.0\n",
      "50%点: 2.0\n",
      "80%点: 3.0\n",
      "95%点: 4.0\n"
     ]
    }
   ],
   "metadata": {}
  },
  {
   "cell_type": "markdown",
   "source": [
    " ### 二項分布の上側確率"
   ],
   "metadata": {}
  },
  {
   "cell_type": "code",
   "execution_count": 44,
   "source": [
    "round(1 - stats.binom.cdf(k=4, n=10, p=0.2), 3)\n",
    "round(stats.binom.sf(k=4, n=10, p=0.2), 3)"
   ],
   "outputs": [
    {
     "output_type": "execute_result",
     "data": {
      "text/plain": [
       "0.033"
      ]
     },
     "metadata": {},
     "execution_count": 44
    }
   ],
   "metadata": {}
  },
  {
   "cell_type": "markdown",
   "source": [
    " ### 二項分布のパーセント点"
   ],
   "metadata": {}
  },
  {
   "cell_type": "markdown",
   "source": [
    " ### 二項分布の上側確率"
   ],
   "metadata": {}
  },
  {
   "cell_type": "markdown",
   "source": [
    " ## 正規分布"
   ],
   "metadata": {}
  },
  {
   "cell_type": "markdown",
   "source": [
    " #### 分析の準備"
   ],
   "metadata": {}
  },
  {
   "cell_type": "code",
   "execution_count": 45,
   "source": [
    "sns.set()\n",
    "rcParams['font.family'] = 'sans-serif'\n",
    "rcParams['font.sans-serif'] = 'Meiryo'"
   ],
   "outputs": [],
   "metadata": {}
  },
  {
   "cell_type": "markdown",
   "source": [
    " ### 正規分布"
   ],
   "metadata": {}
  },
  {
   "cell_type": "markdown",
   "source": [
    " #### 正規分布の概要"
   ],
   "metadata": {}
  },
  {
   "cell_type": "markdown",
   "source": [
    " #### 正規分布の確率密度関数\n",
    " $$\n",
    " N(x|\\mu, \\sigma^2) = \\frac{1}{\\sqrt{2\\pi\\sigma^2}}exp\\left(-\\frac{(x - \\mu)^2}{2\\sigma^2}\\right)\n",
    " $$"
   ],
   "metadata": {}
  },
  {
   "cell_type": "markdown",
   "source": [
    " ### 正規分布の確率密度関数"
   ],
   "metadata": {}
  },
  {
   "cell_type": "markdown",
   "source": [
    " #### 正規分布の確率密度関数"
   ],
   "metadata": {}
  },
  {
   "cell_type": "code",
   "execution_count": 46,
   "source": [
    "round(stats.norm.pdf(loc=4, scale=1, x=3), 3)"
   ],
   "outputs": [
    {
     "output_type": "execute_result",
     "data": {
      "text/plain": [
       "0.242"
      ]
     },
     "metadata": {},
     "execution_count": 46
    }
   ],
   "metadata": {}
  },
  {
   "cell_type": "markdown",
   "source": [
    " #### インスタンスを生成してから実行する"
   ],
   "metadata": {}
  },
  {
   "cell_type": "code",
   "execution_count": 47,
   "source": [
    "norm_dist = stats.norm(loc=4, scale=1)\n",
    "round(norm_dist.pdf(x=3), 3)"
   ],
   "outputs": [
    {
     "output_type": "execute_result",
     "data": {
      "text/plain": [
       "0.242"
      ]
     },
     "metadata": {},
     "execution_count": 47
    }
   ],
   "metadata": {}
  },
  {
   "cell_type": "markdown",
   "source": [
    " #### 確率密度関数のグラフ"
   ],
   "metadata": {}
  },
  {
   "cell_type": "code",
   "execution_count": 48,
   "source": [
    "# 確率変数\n",
    "x = np.arange(start=0, stop=8, step=0.1)\n",
    "# 確率密度\n",
    "density = stats.norm.pdf(x=x, loc=4, scale=1)\n",
    "\n",
    "# データフレームにまとめる\n",
    "density_df = pd.DataFrame({\n",
    "    'x': x,\n",
    "    'density': density\n",
    "})\n",
    "\n",
    "print(density_df.head(3))\n",
    "\n",
    "sns.lineplot(x='x', y='density', data=density_df, color='black')"
   ],
   "outputs": [
    {
     "output_type": "stream",
     "name": "stdout",
     "text": [
      "     x   density\n",
      "0  0.0  0.000134\n",
      "1  0.1  0.000199\n",
      "2  0.2  0.000292\n"
     ]
    },
    {
     "output_type": "execute_result",
     "data": {
      "text/plain": [
       "<Axes: xlabel='x', ylabel='density'>"
      ]
     },
     "metadata": {},
     "execution_count": 48
    },
    {
     "output_type": "stream",
     "name": "stderr",
     "text": [
      "findfont: Generic family 'sans-serif' not found because none of the following families were found: Meiryo\n",
      "findfont: Generic family 'sans-serif' not found because none of the following families were found: Meiryo\n",
      "findfont: Generic family 'sans-serif' not found because none of the following families were found: Meiryo\n",
      "findfont: Generic family 'sans-serif' not found because none of the following families were found: Meiryo\n",
      "findfont: Generic family 'sans-serif' not found because none of the following families were found: Meiryo\n",
      "findfont: Generic family 'sans-serif' not found because none of the following families were found: Meiryo\n",
      "findfont: Generic family 'sans-serif' not found because none of the following families were found: Meiryo\n",
      "findfont: Generic family 'sans-serif' not found because none of the following families were found: Meiryo\n",
      "findfont: Generic family 'sans-serif' not found because none of the following families were found: Meiryo\n",
      "findfont: Generic family 'sans-serif' not found because none of the following families were found: Meiryo\n",
      "findfont: Generic family 'sans-serif' not found because none of the following families were found: Meiryo\n",
      "findfont: Generic family 'sans-serif' not found because none of the following families were found: Meiryo\n",
      "findfont: Generic family 'sans-serif' not found because none of the following families were found: Meiryo\n",
      "findfont: Generic family 'sans-serif' not found because none of the following families were found: Meiryo\n",
      "findfont: Generic family 'sans-serif' not found because none of the following families were found: Meiryo\n",
      "findfont: Generic family 'sans-serif' not found because none of the following families were found: Meiryo\n",
      "findfont: Generic family 'sans-serif' not found because none of the following families were found: Meiryo\n",
      "findfont: Generic family 'sans-serif' not found because none of the following families were found: Meiryo\n",
      "findfont: Generic family 'sans-serif' not found because none of the following families were found: Meiryo\n",
      "findfont: Generic family 'sans-serif' not found because none of the following families were found: Meiryo\n",
      "findfont: Generic family 'sans-serif' not found because none of the following families were found: Meiryo\n",
      "findfont: Generic family 'sans-serif' not found because none of the following families were found: Meiryo\n",
      "findfont: Generic family 'sans-serif' not found because none of the following families were found: Meiryo\n",
      "findfont: Generic family 'sans-serif' not found because none of the following families were found: Meiryo\n",
      "findfont: Generic family 'sans-serif' not found because none of the following families were found: Meiryo\n",
      "findfont: Generic family 'sans-serif' not found because none of the following families were found: Meiryo\n",
      "findfont: Generic family 'sans-serif' not found because none of the following families were found: Meiryo\n",
      "findfont: Generic family 'sans-serif' not found because none of the following families were found: Meiryo\n",
      "findfont: Generic family 'sans-serif' not found because none of the following families were found: Meiryo\n",
      "findfont: Generic family 'sans-serif' not found because none of the following families were found: Meiryo\n",
      "findfont: Generic family 'sans-serif' not found because none of the following families were found: Meiryo\n",
      "findfont: Generic family 'sans-serif' not found because none of the following families were found: Meiryo\n",
      "findfont: Generic family 'sans-serif' not found because none of the following families were found: Meiryo\n",
      "findfont: Generic family 'sans-serif' not found because none of the following families were found: Meiryo\n",
      "findfont: Generic family 'sans-serif' not found because none of the following families were found: Meiryo\n",
      "findfont: Generic family 'sans-serif' not found because none of the following families were found: Meiryo\n",
      "findfont: Generic family 'sans-serif' not found because none of the following families were found: Meiryo\n",
      "findfont: Generic family 'sans-serif' not found because none of the following families were found: Meiryo\n",
      "findfont: Generic family 'sans-serif' not found because none of the following families were found: Meiryo\n",
      "findfont: Generic family 'sans-serif' not found because none of the following families were found: Meiryo\n",
      "findfont: Generic family 'sans-serif' not found because none of the following families were found: Meiryo\n",
      "findfont: Generic family 'sans-serif' not found because none of the following families were found: Meiryo\n",
      "findfont: Generic family 'sans-serif' not found because none of the following families were found: Meiryo\n",
      "findfont: Generic family 'sans-serif' not found because none of the following families were found: Meiryo\n",
      "findfont: Generic family 'sans-serif' not found because none of the following families were found: Meiryo\n",
      "findfont: Generic family 'sans-serif' not found because none of the following families were found: Meiryo\n",
      "findfont: Generic family 'sans-serif' not found because none of the following families were found: Meiryo\n",
      "findfont: Generic family 'sans-serif' not found because none of the following families were found: Meiryo\n",
      "findfont: Generic family 'sans-serif' not found because none of the following families were found: Meiryo\n",
      "findfont: Generic family 'sans-serif' not found because none of the following families were found: Meiryo\n",
      "findfont: Generic family 'sans-serif' not found because none of the following families were found: Meiryo\n",
      "findfont: Generic family 'sans-serif' not found because none of the following families were found: Meiryo\n",
      "findfont: Generic family 'sans-serif' not found because none of the following families were found: Meiryo\n",
      "findfont: Generic family 'sans-serif' not found because none of the following families were found: Meiryo\n",
      "findfont: Generic family 'sans-serif' not found because none of the following families were found: Meiryo\n",
      "findfont: Generic family 'sans-serif' not found because none of the following families were found: Meiryo\n",
      "findfont: Generic family 'sans-serif' not found because none of the following families were found: Meiryo\n",
      "findfont: Generic family 'sans-serif' not found because none of the following families were found: Meiryo\n",
      "findfont: Generic family 'sans-serif' not found because none of the following families were found: Meiryo\n",
      "findfont: Generic family 'sans-serif' not found because none of the following families were found: Meiryo\n",
      "findfont: Generic family 'sans-serif' not found because none of the following families were found: Meiryo\n",
      "findfont: Generic family 'sans-serif' not found because none of the following families were found: Meiryo\n",
      "findfont: Generic family 'sans-serif' not found because none of the following families were found: Meiryo\n",
      "findfont: Generic family 'sans-serif' not found because none of the following families were found: Meiryo\n",
      "findfont: Generic family 'sans-serif' not found because none of the following families were found: Meiryo\n",
      "findfont: Generic family 'sans-serif' not found because none of the following families were found: Meiryo\n",
      "findfont: Generic family 'sans-serif' not found because none of the following families were found: Meiryo\n",
      "findfont: Generic family 'sans-serif' not found because none of the following families were found: Meiryo\n",
      "findfont: Generic family 'sans-serif' not found because none of the following families were found: Meiryo\n",
      "findfont: Generic family 'sans-serif' not found because none of the following families were found: Meiryo\n",
      "findfont: Generic family 'sans-serif' not found because none of the following families were found: Meiryo\n",
      "findfont: Generic family 'sans-serif' not found because none of the following families were found: Meiryo\n",
      "findfont: Generic family 'sans-serif' not found because none of the following families were found: Meiryo\n",
      "findfont: Generic family 'sans-serif' not found because none of the following families were found: Meiryo\n",
      "findfont: Generic family 'sans-serif' not found because none of the following families were found: Meiryo\n",
      "findfont: Generic family 'sans-serif' not found because none of the following families were found: Meiryo\n",
      "findfont: Generic family 'sans-serif' not found because none of the following families were found: Meiryo\n",
      "findfont: Generic family 'sans-serif' not found because none of the following families were found: Meiryo\n",
      "findfont: Generic family 'sans-serif' not found because none of the following families were found: Meiryo\n",
      "findfont: Generic family 'sans-serif' not found because none of the following families were found: Meiryo\n",
      "findfont: Generic family 'sans-serif' not found because none of the following families were found: Meiryo\n",
      "findfont: Generic family 'sans-serif' not found because none of the following families were found: Meiryo\n",
      "findfont: Generic family 'sans-serif' not found because none of the following families were found: Meiryo\n",
      "findfont: Generic family 'sans-serif' not found because none of the following families were found: Meiryo\n"
     ]
    },
    {
     "output_type": "display_data",
     "data": {
      "image/png": "[encoded data removed]",
      "text/plain": [
       "<Figure size 640x480 with 1 Axes>"
      ]
     },
     "metadata": {}
    }
   ],
   "metadata": {}
  },
  {
   "cell_type": "markdown",
   "source": [
    " #### さまざまな正規分布"
   ],
   "metadata": {}
  },
  {
   "cell_type": "markdown",
   "source": [
    " ### 正規分布の成り立ち"
   ],
   "metadata": {}
  },
  {
   "cell_type": "markdown",
   "source": [
    " ### 誤差の累積シミュレーション"
   ],
   "metadata": {}
  },
  {
   "cell_type": "markdown",
   "source": [
    " #### 誤差のシミュレーションの考え方"
   ],
   "metadata": {}
  },
  {
   "cell_type": "code",
   "execution_count": 49,
   "source": [
    "# ノイズが加算される回数\n",
    "n_noise = 10000\n",
    "# 中心位置\n",
    "location = 4\n",
    "# 小さな誤差\n",
    "noise = np.array([-0.01, 0.01])\n",
    "\n",
    "np.random.seed(5)\n",
    "location + np.sum(np.random.choice(noise, size=n_noise, replace=True))"
   ],
   "outputs": [
    {
     "output_type": "execute_result",
     "data": {
      "text/plain": [
       "3.52"
      ]
     },
     "metadata": {},
     "execution_count": 49
    }
   ],
   "metadata": {}
  },
  {
   "cell_type": "markdown",
   "source": [
    " #### シミュレーションを５万回繰り返す"
   ],
   "metadata": {}
  },
  {
   "cell_type": "code",
   "execution_count": 50,
   "source": [
    "# 試行回数\n",
    "n_trial = 50000\n",
    "# ノイズの累積として得られた観測値\n",
    "observation_result = np.zeros(n_trial)\n",
    "\n",
    "# locationに誤差をn_noise個ランダムに加える施行をn_trial回行う\n",
    "np.random.seed(1)\n",
    "for i in range(0, n_trial):\n",
    "    observation_result[i] = location + \\\n",
    "        np.sum(np.random.choice(noise, size=n_noise, replace=True))"
   ],
   "outputs": [],
   "metadata": {}
  },
  {
   "cell_type": "markdown",
   "source": [
    " #### シミュレーション結果の確認"
   ],
   "metadata": {}
  },
  {
   "cell_type": "code",
   "execution_count": 51,
   "source": [
    "x_bar = np.mean(observation_result)\n",
    "u2 = np.var(observation_result, ddof=1)\n",
    "print('平均:', round(x_bar, 1))\n",
    "print('分散:', round(u2, 1))\n",
    "\n",
    "# 誤差の累積シミュレーション結果のヒストグラム\n",
    "sns.histplot(observation_result, bins=20, stat='density', color='gray')\n",
    "\n",
    "# 平均4,分散1の正規分布の確率密度関数の折れ線グラフ\n",
    "sns.lineplot(x=x, y=density, data=density_df, color='black')"
   ],
   "outputs": [
    {
     "output_type": "stream",
     "name": "stdout",
     "text": [
      "平均: 4.0\n",
      "分散: 1.0\n"
     ]
    },
    {
     "output_type": "execute_result",
     "data": {
      "text/plain": [
       "<Axes: ylabel='Density'>"
      ]
     },
     "metadata": {},
     "execution_count": 51
    },
    {
     "output_type": "stream",
     "name": "stderr",
     "text": [
      "findfont: Generic family 'sans-serif' not found because none of the following families were found: Meiryo\n",
      "findfont: Generic family 'sans-serif' not found because none of the following families were found: Meiryo\n",
      "findfont: Generic family 'sans-serif' not found because none of the following families were found: Meiryo\n",
      "findfont: Generic family 'sans-serif' not found because none of the following families were found: Meiryo\n",
      "findfont: Generic family 'sans-serif' not found because none of the following families were found: Meiryo\n",
      "findfont: Generic family 'sans-serif' not found because none of the following families were found: Meiryo\n",
      "findfont: Generic family 'sans-serif' not found because none of the following families were found: Meiryo\n",
      "findfont: Generic family 'sans-serif' not found because none of the following families were found: Meiryo\n",
      "findfont: Generic family 'sans-serif' not found because none of the following families were found: Meiryo\n",
      "findfont: Generic family 'sans-serif' not found because none of the following families were found: Meiryo\n",
      "findfont: Generic family 'sans-serif' not found because none of the following families were found: Meiryo\n",
      "findfont: Generic family 'sans-serif' not found because none of the following families were found: Meiryo\n",
      "findfont: Generic family 'sans-serif' not found because none of the following families were found: Meiryo\n",
      "findfont: Generic family 'sans-serif' not found because none of the following families were found: Meiryo\n",
      "findfont: Generic family 'sans-serif' not found because none of the following families were found: Meiryo\n",
      "findfont: Generic family 'sans-serif' not found because none of the following families were found: Meiryo\n",
      "findfont: Generic family 'sans-serif' not found because none of the following families were found: Meiryo\n",
      "findfont: Generic family 'sans-serif' not found because none of the following families were found: Meiryo\n",
      "findfont: Generic family 'sans-serif' not found because none of the following families were found: Meiryo\n",
      "findfont: Generic family 'sans-serif' not found because none of the following families were found: Meiryo\n",
      "findfont: Generic family 'sans-serif' not found because none of the following families were found: Meiryo\n",
      "findfont: Generic family 'sans-serif' not found because none of the following families were found: Meiryo\n",
      "findfont: Generic family 'sans-serif' not found because none of the following families were found: Meiryo\n",
      "findfont: Generic family 'sans-serif' not found because none of the following families were found: Meiryo\n",
      "findfont: Generic family 'sans-serif' not found because none of the following families were found: Meiryo\n",
      "findfont: Generic family 'sans-serif' not found because none of the following families were found: Meiryo\n",
      "findfont: Generic family 'sans-serif' not found because none of the following families were found: Meiryo\n",
      "findfont: Generic family 'sans-serif' not found because none of the following families were found: Meiryo\n",
      "findfont: Generic family 'sans-serif' not found because none of the following families were found: Meiryo\n",
      "findfont: Generic family 'sans-serif' not found because none of the following families were found: Meiryo\n",
      "findfont: Generic family 'sans-serif' not found because none of the following families were found: Meiryo\n",
      "findfont: Generic family 'sans-serif' not found because none of the following families were found: Meiryo\n",
      "findfont: Generic family 'sans-serif' not found because none of the following families were found: Meiryo\n",
      "findfont: Generic family 'sans-serif' not found because none of the following families were found: Meiryo\n",
      "findfont: Generic family 'sans-serif' not found because none of the following families were found: Meiryo\n",
      "findfont: Generic family 'sans-serif' not found because none of the following families were found: Meiryo\n",
      "findfont: Generic family 'sans-serif' not found because none of the following families were found: Meiryo\n",
      "findfont: Generic family 'sans-serif' not found because none of the following families were found: Meiryo\n",
      "findfont: Generic family 'sans-serif' not found because none of the following families were found: Meiryo\n",
      "findfont: Generic family 'sans-serif' not found because none of the following families were found: Meiryo\n",
      "findfont: Generic family 'sans-serif' not found because none of the following families were found: Meiryo\n",
      "findfont: Generic family 'sans-serif' not found because none of the following families were found: Meiryo\n",
      "findfont: Generic family 'sans-serif' not found because none of the following families were found: Meiryo\n",
      "findfont: Generic family 'sans-serif' not found because none of the following families were found: Meiryo\n",
      "findfont: Generic family 'sans-serif' not found because none of the following families were found: Meiryo\n",
      "findfont: Generic family 'sans-serif' not found because none of the following families were found: Meiryo\n",
      "findfont: Generic family 'sans-serif' not found because none of the following families were found: Meiryo\n",
      "findfont: Generic family 'sans-serif' not found because none of the following families were found: Meiryo\n",
      "findfont: Generic family 'sans-serif' not found because none of the following families were found: Meiryo\n",
      "findfont: Generic family 'sans-serif' not found because none of the following families were found: Meiryo\n",
      "findfont: Generic family 'sans-serif' not found because none of the following families were found: Meiryo\n",
      "findfont: Generic family 'sans-serif' not found because none of the following families were found: Meiryo\n",
      "findfont: Generic family 'sans-serif' not found because none of the following families were found: Meiryo\n",
      "findfont: Generic family 'sans-serif' not found because none of the following families were found: Meiryo\n",
      "findfont: Generic family 'sans-serif' not found because none of the following families were found: Meiryo\n",
      "findfont: Generic family 'sans-serif' not found because none of the following families were found: Meiryo\n",
      "findfont: Generic family 'sans-serif' not found because none of the following families were found: Meiryo\n",
      "findfont: Generic family 'sans-serif' not found because none of the following families were found: Meiryo\n",
      "findfont: Generic family 'sans-serif' not found because none of the following families were found: Meiryo\n",
      "findfont: Generic family 'sans-serif' not found because none of the following families were found: Meiryo\n",
      "findfont: Generic family 'sans-serif' not found because none of the following families were found: Meiryo\n",
      "findfont: Generic family 'sans-serif' not found because none of the following families were found: Meiryo\n",
      "findfont: Generic family 'sans-serif' not found because none of the following families were found: Meiryo\n",
      "findfont: Generic family 'sans-serif' not found because none of the following families were found: Meiryo\n"
     ]
    },
    {
     "output_type": "display_data",
     "data": {
      "image/png": "[encoded data removed]",
      "text/plain": [
       "<Figure size 640x480 with 1 Axes>"
      ]
     },
     "metadata": {}
    }
   ],
   "metadata": {}
  },
  {
   "cell_type": "markdown",
   "source": [
    " ### 中心極限定理"
   ],
   "metadata": {}
  },
  {
   "cell_type": "markdown",
   "source": [
    " ### 正規分布の特徴"
   ],
   "metadata": {}
  },
  {
   "cell_type": "markdown",
   "source": [
    " ### 正規分布に従う乱数の生成"
   ],
   "metadata": {}
  },
  {
   "cell_type": "code",
   "execution_count": 52,
   "source": [
    "np.random.seed(1)\n",
    "simulated_sample = stats.norm.rvs(loc=4, scale=1, size=8)\n",
    "simulated_sample"
   ],
   "outputs": [
    {
     "output_type": "execute_result",
     "data": {
      "text/plain": [
       "array([5.62434536, 3.38824359, 3.47182825, 2.92703138, 4.86540763,\n",
       "       1.6984613 , 5.74481176, 3.2387931 ])"
      ]
     },
     "metadata": {},
     "execution_count": 52
    }
   ],
   "metadata": {}
  },
  {
   "cell_type": "markdown",
   "source": [
    " ### 正規分布の累積分布関数"
   ],
   "metadata": {}
  },
  {
   "cell_type": "code",
   "execution_count": 53,
   "source": [
    "round(stats.norm.cdf(loc=4, scale=1, x=3), 3)\n",
    "\n",
    "round(stats.norm.cdf(loc=4, scale=1, x=4), 3)"
   ],
   "outputs": [
    {
     "output_type": "execute_result",
     "data": {
      "text/plain": [
       "0.5"
      ]
     },
     "metadata": {},
     "execution_count": 53
    }
   ],
   "metadata": {}
  },
  {
   "cell_type": "markdown",
   "source": [
    " ### 正規分布のパーセント点"
   ],
   "metadata": {}
  },
  {
   "cell_type": "code",
   "execution_count": 54,
   "source": [
    "round(stats.norm.ppf(loc=4, scale=1, q=0.025), 3)\n",
    "\n",
    "round(stats.norm.ppf(loc=4, scale=1, q=0.5), 3)"
   ],
   "outputs": [
    {
     "output_type": "execute_result",
     "data": {
      "text/plain": [
       "4.0"
      ]
     },
     "metadata": {},
     "execution_count": 54
    }
   ],
   "metadata": {}
  },
  {
   "cell_type": "markdown",
   "source": [
    " ### 正規分布の上側確率"
   ],
   "metadata": {}
  },
  {
   "cell_type": "code",
   "execution_count": 55,
   "source": [
    "round(stats.norm.sf(loc=4, scale=1, x=3), 3)"
   ],
   "outputs": [
    {
     "output_type": "execute_result",
     "data": {
      "text/plain": [
       "0.841"
      ]
     },
     "metadata": {},
     "execution_count": 55
    }
   ],
   "metadata": {}
  }
 ],
 "nbformat": 4,
 "nbformat_minor": 2,
 "metadata": {
  "language_info": {
   "codemirror_mode": {
    "name": "ipython",
    "version": 3
   },
   "file_extension": ".py",
   "mimetype": "text/x-python",
   "name": "python",
   "nbconvert_exporter": "python",
   "pygments_lexer": "ipython3",
   "version": 3
  },
  "orig_nbformat": 4
 }
}