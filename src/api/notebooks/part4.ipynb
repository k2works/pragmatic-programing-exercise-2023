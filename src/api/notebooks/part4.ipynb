{
 "cells": [
  {
   "cell_type": "markdown",
   "source": [
    " # 統計的仮説検定"
   ],
   "metadata": {}
  },
  {
   "cell_type": "code",
   "execution_count": 1,
   "source": [
    "# %\n",
    "import numpy as np\n",
    "import pandas as pd\n",
    "from scipy import stats\n",
    "import seaborn as sns\n",
    "from matplotlib import pyplot as plt\n",
    "import unittest\n",
    "import doctest\n",
    "from matplotlib import rcParams\n",
    "import os\n",
    "import warnings\n",
    "warnings.simplefilter('ignore', FutureWarning)\n",
    "path = os.path.dirname(os.path.abspath(__file__))"
   ],
   "outputs": [],
   "metadata": {}
  },
  {
   "cell_type": "markdown",
   "source": [
    " ## 母平均に関する1標本の検定"
   ],
   "metadata": {}
  },
  {
   "cell_type": "markdown",
   "source": [
    " ### 統計的仮説検定の初歩"
   ],
   "metadata": {}
  },
  {
   "cell_type": "markdown",
   "source": [
    " #### 母平均に関する1標本のt検定"
   ],
   "metadata": {}
  },
  {
   "cell_type": "markdown",
   "source": [
    " #### 帰無仮説・対立仮設"
   ],
   "metadata": {}
  },
  {
   "cell_type": "markdown",
   "source": [
    " #### 有意差"
   ],
   "metadata": {}
  },
  {
   "cell_type": "markdown",
   "source": [
    " #### t検定の直感的な考え方"
   ],
   "metadata": {}
  },
  {
   "cell_type": "markdown",
   "source": [
    " #### 平均値の差が大きいだけでは有意差は得られない"
   ],
   "metadata": {}
  },
  {
   "cell_type": "markdown",
   "source": [
    " #### 検定統計量"
   ],
   "metadata": {}
  },
  {
   "cell_type": "markdown",
   "source": [
    " #### t値の復習"
   ],
   "metadata": {}
  },
  {
   "cell_type": "markdown",
   "source": [
    " #### ここまでのまとめその１"
   ],
   "metadata": {}
  },
  {
   "cell_type": "markdown",
   "source": [
    " #### 第一種の過誤・第二種の過誤"
   ],
   "metadata": {}
  },
  {
   "cell_type": "markdown",
   "source": [
    " #### 有意水準"
   ],
   "metadata": {}
  },
  {
   "cell_type": "markdown",
   "source": [
    " #### 棄却域・受容域"
   ],
   "metadata": {}
  },
  {
   "cell_type": "markdown",
   "source": [
    " #### p値"
   ],
   "metadata": {}
  },
  {
   "cell_type": "markdown",
   "source": [
    " #### ここまでのまとめその２"
   ],
   "metadata": {}
  },
  {
   "cell_type": "markdown",
   "source": [
    " #### t値とt分布の関係の復習"
   ],
   "metadata": {}
  },
  {
   "cell_type": "markdown",
   "source": [
    " #### 片側検定・両側検定"
   ],
   "metadata": {}
  },
  {
   "cell_type": "markdown",
   "source": [
    " #### 棄却域の計算方法"
   ],
   "metadata": {}
  },
  {
   "cell_type": "markdown",
   "source": [
    " #### p値の計算方法"
   ],
   "metadata": {}
  },
  {
   "cell_type": "markdown",
   "source": [
    " #### 数式を使ったまとめ"
   ],
   "metadata": {}
  },
  {
   "cell_type": "markdown",
   "source": [
    " #### 分析の準備"
   ],
   "metadata": {}
  },
  {
   "cell_type": "markdown",
   "source": [
    " #### t値の計算"
   ],
   "metadata": {}
  },
  {
   "cell_type": "markdown",
   "source": [
    " #### 棄却域の計算"
   ],
   "metadata": {}
  },
  {
   "cell_type": "markdown",
   "source": [
    " #### p値の計算"
   ],
   "metadata": {}
  },
  {
   "cell_type": "markdown",
   "source": [
    " #### シミュレーションによるp値の計算"
   ],
   "metadata": {}
  },
  {
   "cell_type": "markdown",
   "source": [
    " ### 平均値の差の検定"
   ],
   "metadata": {}
  },
  {
   "cell_type": "markdown",
   "source": [
    " #### 2群のデータに対するt検定"
   ],
   "metadata": {}
  },
  {
   "cell_type": "markdown",
   "source": [
    " #### 対応のあるt検定"
   ],
   "metadata": {}
  },
  {
   "cell_type": "markdown",
   "source": [
    " #### 分析の準備"
   ],
   "metadata": {}
  },
  {
   "cell_type": "markdown",
   "source": [
    " #### 対応のあるt検定"
   ],
   "metadata": {}
  },
  {
   "cell_type": "markdown",
   "source": [
    " #### 対応のないt検定（不等分散）"
   ],
   "metadata": {}
  },
  {
   "cell_type": "markdown",
   "source": [
    " #### 対応のないt検定（等分散）"
   ],
   "metadata": {}
  },
  {
   "cell_type": "markdown",
   "source": [
    " #### pハッキング"
   ],
   "metadata": {}
  },
  {
   "cell_type": "markdown",
   "source": [
    " ### 分割表の検定"
   ],
   "metadata": {}
  },
  {
   "cell_type": "markdown",
   "source": [
    " #### 分割表を用いるメリット"
   ],
   "metadata": {}
  },
  {
   "cell_type": "markdown",
   "source": [
    " #### 本章で扱う例題"
   ],
   "metadata": {}
  },
  {
   "cell_type": "markdown",
   "source": [
    " #### 期待度数との差を求める"
   ],
   "metadata": {}
  },
  {
   "cell_type": "markdown",
   "source": [
    " #### 分析の準備"
   ],
   "metadata": {}
  },
  {
   "cell_type": "markdown",
   "source": [
    " #### p値の計算"
   ],
   "metadata": {}
  },
  {
   "cell_type": "markdown",
   "source": [
    " #### 分割表の検定"
   ],
   "metadata": {}
  },
  {
   "cell_type": "markdown",
   "source": [
    " ### 検定の結果の解釈"
   ],
   "metadata": {}
  },
  {
   "cell_type": "markdown",
   "source": [
    " #### p値が0.05以下だったときの結果の書き方"
   ],
   "metadata": {}
  },
  {
   "cell_type": "markdown",
   "source": [
    " #### p値が0.05より大きかったときの結果の書き方"
   ],
   "metadata": {}
  },
  {
   "cell_type": "markdown",
   "source": [
    " #### 仮説検定における、よくある間違い"
   ],
   "metadata": {}
  },
  {
   "cell_type": "markdown",
   "source": [
    " #### p値が小さくても、差が大きいとは限らない"
   ],
   "metadata": {}
  },
  {
   "cell_type": "markdown",
   "source": [
    " #### p値が0.05より大きくても差がないとは言えない"
   ],
   "metadata": {}
  },
  {
   "cell_type": "markdown",
   "source": [
    " #### 検定の非対称性"
   ],
   "metadata": {}
  },
  {
   "cell_type": "markdown",
   "source": [
    " #### 有意水準は、検定をする前に決めておく"
   ],
   "metadata": {}
  },
  {
   "cell_type": "markdown",
   "source": [
    " #### 統計的仮説検定は必要か"
   ],
   "metadata": {}
  },
  {
   "cell_type": "markdown",
   "source": [
    " #### 仮説は正しいか"
   ],
   "metadata": {}
  }
 ],
 "nbformat": 4,
 "nbformat_minor": 2,
 "metadata": {
  "language_info": {
   "codemirror_mode": {
    "name": "ipython",
    "version": 3
   },
   "file_extension": ".py",
   "mimetype": "text/x-python",
   "name": "python",
   "nbconvert_exporter": "python",
   "pygments_lexer": "ipython3",
   "version": 3
  },
  "orig_nbformat": 4
 }
}