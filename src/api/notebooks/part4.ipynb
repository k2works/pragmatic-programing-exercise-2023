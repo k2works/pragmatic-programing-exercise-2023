{
 "cells": [
  {
   "cell_type": "markdown",
   "source": [
    " # 統計的仮説検定"
   ],
   "metadata": {}
  },
  {
   "cell_type": "code",
   "execution_count": 1,
   "source": [
    "# %\n",
    "import numpy as np\n",
    "import pandas as pd\n",
    "from scipy import stats\n",
    "import seaborn as sns\n",
    "from matplotlib import pyplot as plt\n",
    "import unittest\n",
    "import doctest\n",
    "from matplotlib import rcParams\n",
    "import os\n",
    "import warnings\n",
    "warnings.simplefilter('ignore', FutureWarning)\n",
    "path = os.path.dirname(os.path.abspath(__file__))"
   ],
   "outputs": [],
   "metadata": {}
  },
  {
   "cell_type": "markdown",
   "source": [
    " ## 母平均に関する1標本の検定"
   ],
   "metadata": {}
  },
  {
   "cell_type": "markdown",
   "source": [
    " ### 統計的仮説検定の初歩"
   ],
   "metadata": {}
  },
  {
   "cell_type": "markdown",
   "source": [
    " #### 母平均に関する1標本のt検定"
   ],
   "metadata": {}
  },
  {
   "cell_type": "markdown",
   "source": [
    " #### 帰無仮説・対立仮設"
   ],
   "metadata": {}
  },
  {
   "cell_type": "markdown",
   "source": [
    " #### 有意差"
   ],
   "metadata": {}
  },
  {
   "cell_type": "markdown",
   "source": [
    " #### t検定の直感的な考え方"
   ],
   "metadata": {}
  },
  {
   "cell_type": "markdown",
   "source": [
    " #### 平均値の差が大きいだけでは有意差は得られない"
   ],
   "metadata": {}
  },
  {
   "cell_type": "markdown",
   "source": [
    " #### 検定統計量"
   ],
   "metadata": {}
  },
  {
   "cell_type": "markdown",
   "source": [
    " #### t値の復習"
   ],
   "metadata": {}
  },
  {
   "cell_type": "markdown",
   "source": [
    " #### ここまでのまとめその１"
   ],
   "metadata": {}
  },
  {
   "cell_type": "markdown",
   "source": [
    " #### 第一種の過誤・第二種の過誤"
   ],
   "metadata": {}
  },
  {
   "cell_type": "markdown",
   "source": [
    " #### 有意水準"
   ],
   "metadata": {}
  },
  {
   "cell_type": "markdown",
   "source": [
    " #### 棄却域・受容域"
   ],
   "metadata": {}
  },
  {
   "cell_type": "markdown",
   "source": [
    " #### p値"
   ],
   "metadata": {}
  },
  {
   "cell_type": "markdown",
   "source": [
    " #### ここまでのまとめその２"
   ],
   "metadata": {}
  },
  {
   "cell_type": "markdown",
   "source": [
    " #### t値とt分布の関係の復習"
   ],
   "metadata": {}
  },
  {
   "cell_type": "markdown",
   "source": [
    " #### 片側検定・両側検定"
   ],
   "metadata": {}
  },
  {
   "cell_type": "markdown",
   "source": [
    " #### 棄却域の計算方法"
   ],
   "metadata": {}
  },
  {
   "cell_type": "markdown",
   "source": [
    " #### p値の計算方法"
   ],
   "metadata": {}
  },
  {
   "cell_type": "markdown",
   "source": [
    " #### 数式を使ったまとめ"
   ],
   "metadata": {}
  },
  {
   "cell_type": "markdown",
   "source": [
    " #### 分析の準備"
   ],
   "metadata": {}
  },
  {
   "cell_type": "code",
   "execution_count": 2,
   "source": [
    "junk_food = pd.read_csv(f'{path}/data/6-1-1-junk-food-weight.csv')['weight']\n",
    "junk_food.head()"
   ],
   "outputs": [
    {
     "output_type": "execute_result",
     "data": {
      "text/plain": [
       "0    58.529820\n",
       "1    52.353039\n",
       "2    74.446169\n",
       "3    52.983263\n",
       "4    55.876879\n",
       "Name: weight, dtype: float64"
      ]
     },
     "metadata": {},
     "execution_count": 2
    }
   ],
   "metadata": {}
  },
  {
   "cell_type": "markdown",
   "source": [
    " #### t値の計算"
   ],
   "metadata": {}
  },
  {
   "cell_type": "code",
   "execution_count": 3,
   "source": [
    "x_bar = np.mean(junk_food)\n",
    "round(x_bar, 3)\n",
    "\n",
    "n = len(junk_food)\n",
    "df = n - 1\n",
    "df\n",
    "\n",
    "u = np.std(junk_food, ddof=1)\n",
    "se = u / np.sqrt(n)\n",
    "round(se, 3)\n",
    "\n",
    "t_sample = (x_bar - 50) / se\n",
    "round(t_sample, 3)"
   ],
   "outputs": [
    {
     "output_type": "execute_result",
     "data": {
      "text/plain": [
       "2.75"
      ]
     },
     "metadata": {},
     "execution_count": 3
    }
   ],
   "metadata": {}
  },
  {
   "cell_type": "markdown",
   "source": [
    " #### 棄却域の計算"
   ],
   "metadata": {}
  },
  {
   "cell_type": "code",
   "execution_count": 4,
   "source": [
    "round(stats.t.ppf(q=0.025, df=df), 3)"
   ],
   "outputs": [
    {
     "output_type": "execute_result",
     "data": {
      "text/plain": [
       "-2.093"
      ]
     },
     "metadata": {},
     "execution_count": 4
    }
   ],
   "metadata": {}
  },
  {
   "cell_type": "markdown",
   "source": [
    " #### p値の計算"
   ],
   "metadata": {}
  },
  {
   "cell_type": "code",
   "execution_count": 5,
   "source": [
    "p_value = stats.t.cdf(x=-np.abs(t_sample), df=df) * 2\n",
    "round(p_value, 3)\n",
    "\n",
    "stats.ttest_1samp(junk_food, popmean=50)"
   ],
   "outputs": [
    {
     "output_type": "execute_result",
     "data": {
      "text/plain": [
       "TtestResult(statistic=2.7503396831713434, pvalue=0.012725590012524155, df=19)"
      ]
     },
     "metadata": {},
     "execution_count": 5
    }
   ],
   "metadata": {}
  },
  {
   "cell_type": "markdown",
   "source": [
    " #### シミュレーションによるp値の計算"
   ],
   "metadata": {}
  },
  {
   "cell_type": "code",
   "execution_count": 6,
   "source": [
    "n = len(junk_food)\n",
    "u = np.std(junk_food, ddof=1)\n",
    "t_value_array = np.zeros(50000)\n",
    "\n",
    "np.random.seed(1)\n",
    "norm_dist = stats.norm(loc=50, scale=u)\n",
    "for i in range(0, 50000):\n",
    "    # 標本の抽出\n",
    "    sample = norm_dist.rvs(size=n)\n",
    "    # t値の計算\n",
    "    sample_mean = np.mean(sample)  # 標本平均\n",
    "    sample_std = np.std(sample, ddof=1)  # 標本標準偏差\n",
    "    sample_se = sample_std / np.sqrt(n)  # 標本平均の標準誤差\n",
    "    t_value_array[i] = (sample_mean - 50) / sample_se  # t値\n",
    "\n",
    "p_sim = (sum(t_value_array >= t_sample) / 50000) * 2\n",
    "round(p_sim, 3)"
   ],
   "outputs": [
    {
     "output_type": "execute_result",
     "data": {
      "text/plain": [
       "0.013"
      ]
     },
     "metadata": {},
     "execution_count": 6
    }
   ],
   "metadata": {}
  },
  {
   "cell_type": "markdown",
   "source": [
    " ### 平均値の差の検定"
   ],
   "metadata": {}
  },
  {
   "cell_type": "markdown",
   "source": [
    " #### 2群のデータに対するt検定"
   ],
   "metadata": {}
  },
  {
   "cell_type": "markdown",
   "source": [
    " #### 対応のあるt検定"
   ],
   "metadata": {}
  },
  {
   "cell_type": "markdown",
   "source": [
    " #### 分析の準備"
   ],
   "metadata": {}
  },
  {
   "cell_type": "code",
   "execution_count": 7,
   "source": [
    "paired_test_data = pd.read_csv(f'{path}/data/6-2-1-paired-t-test.csv')\n",
    "print(paired_test_data)"
   ],
   "outputs": [
    {
     "output_type": "stream",
     "name": "stdout",
     "text": [
      "  person medicine  body_temperature\n",
      "0      A   before              36.2\n",
      "1      B   before              36.2\n",
      "2      C   before              35.3\n",
      "3      D   before              36.1\n",
      "4      E   before              36.1\n",
      "5      A    after              36.8\n",
      "6      B    after              36.1\n",
      "7      C    after              36.8\n",
      "8      D    after              37.1\n",
      "9      E    after              36.9\n"
     ]
    }
   ],
   "metadata": {}
  },
  {
   "cell_type": "markdown",
   "source": [
    " #### 対応のあるt検定"
   ],
   "metadata": {}
  },
  {
   "cell_type": "code",
   "execution_count": 8,
   "source": [
    "# 薬を飲む前と飲んだ後の標本平均\n",
    "before = paired_test_data.query('medicine == \"before\"')['body_temperature']\n",
    "after = paired_test_data.query('medicine == \"after\"')['body_temperature']\n",
    "# アレイに変換\n",
    "before = np.array(before)\n",
    "after = np.array(after)\n",
    "# 差を計算\n",
    "diff = after - before\n",
    "diff\n",
    "\n",
    "stats.ttest_1samp(diff, popmean=0)\n",
    "\n",
    "stats.ttest_rel(after, before)"
   ],
   "outputs": [
    {
     "output_type": "execute_result",
     "data": {
      "text/plain": [
       "TtestResult(statistic=2.901693483620596, pvalue=0.044043109730074276, df=4)"
      ]
     },
     "metadata": {},
     "execution_count": 8
    }
   ],
   "metadata": {}
  },
  {
   "cell_type": "markdown",
   "source": [
    " #### 対応のないt検定（不等分散）"
   ],
   "metadata": {}
  },
  {
   "cell_type": "markdown",
   "source": [
    " #### 対応のないt検定（等分散）"
   ],
   "metadata": {}
  },
  {
   "cell_type": "code",
   "execution_count": 9,
   "source": [
    "# 平均値\n",
    "x_bar_bef = np.mean(before)\n",
    "x_bar_aft = np.mean(after)\n",
    "\n",
    "# 分散\n",
    "u2_bef = np.var(before, ddof=1)\n",
    "u2_aft = np.var(after, ddof=1)\n",
    "\n",
    "# サンプルサイズ\n",
    "m = len(before)\n",
    "n = len(after)\n",
    "\n",
    "# t値\n",
    "t_value = (x_bar_aft - x_bar_bef) / np.sqrt((u2_bef / m) + (u2_aft / n))\n",
    "round(t_value, 3)\n",
    "\n",
    "df = (u2_bef / m + u2_aft / n)**2 / ((u2_bef / m)\n",
    "                                     ** 2 / (m - 1) + (u2_aft / n)**2 / (n - 1))\n",
    "round(df, 3)\n",
    "\n",
    "p_value = stats.t.cdf(-np.abs(t_value), df=df) * 2\n",
    "round(p_value, 5)\n",
    "\n",
    "stats.ttest_ind(after, before, equal_var=False)"
   ],
   "outputs": [
    {
     "output_type": "execute_result",
     "data": {
      "text/plain": [
       "Ttest_indResult(statistic=3.1557282344421034, pvalue=0.013484775682079892)"
      ]
     },
     "metadata": {},
     "execution_count": 9
    }
   ],
   "metadata": {}
  },
  {
   "cell_type": "markdown",
   "source": [
    " #### pハッキング"
   ],
   "metadata": {}
  },
  {
   "cell_type": "markdown",
   "source": [
    " ### 分割表の検定"
   ],
   "metadata": {}
  },
  {
   "cell_type": "markdown",
   "source": [
    " #### 分割表を用いるメリット"
   ],
   "metadata": {}
  },
  {
   "cell_type": "markdown",
   "source": [
    " #### 本章で扱う例題"
   ],
   "metadata": {}
  },
  {
   "cell_type": "markdown",
   "source": [
    " #### 期待度数との差を求める\n",
    " $$\n",
    " \\chi^2 = \\sum_{i=1}^r \\sum_{j=1}^c \\frac{(O_{ij} - E_{ij})^2}{E_{ij}}"
   ],
   "metadata": {}
  },
  {
   "cell_type": "markdown",
   "source": [
    " #### 分析の準備"
   ],
   "metadata": {}
  },
  {
   "cell_type": "markdown",
   "source": [
    " #### p値の計算"
   ],
   "metadata": {}
  },
  {
   "cell_type": "code",
   "execution_count": 10,
   "source": [
    "1 - stats.chi2.cdf(x=6.667, df=1)"
   ],
   "outputs": [
    {
     "output_type": "execute_result",
     "data": {
      "text/plain": [
       "0.009821437357809604"
      ]
     },
     "metadata": {},
     "execution_count": 10
    }
   ],
   "metadata": {}
  },
  {
   "cell_type": "markdown",
   "source": [
    " #### 分割表の検定"
   ],
   "metadata": {}
  },
  {
   "cell_type": "code",
   "execution_count": 11,
   "source": [
    "click_data = pd.read_csv(f'{path}/data/6-3-1-click_data.csv')\n",
    "print(click_data)\n",
    "\n",
    "cross = pd.pivot_table(\n",
    "    data=click_data,\n",
    "    values='freq',\n",
    "    aggfunc='sum',\n",
    "    index='color',\n",
    "    columns='click'\n",
    ")\n",
    "print(cross)\n",
    "\n",
    "stats.chi2_contingency(cross, correction=False)"
   ],
   "outputs": [
    {
     "output_type": "stream",
     "name": "stdout",
     "text": [
      "  color  click  freq\n",
      "0  blue  click    20\n",
      "1  blue    not   230\n",
      "2   red  click    10\n",
      "3   red    not    40\n",
      "click  click  not\n",
      "color            \n",
      "blue      20  230\n",
      "red       10   40\n"
     ]
    },
    {
     "output_type": "execute_result",
     "data": {
      "text/plain": [
       "Chi2ContingencyResult(statistic=6.666666666666666, pvalue=0.009823274507519247, dof=1, expected_freq=array([[ 25., 225.],\n",
       "       [  5.,  45.]]))"
      ]
     },
     "metadata": {},
     "execution_count": 11
    }
   ],
   "metadata": {}
  },
  {
   "cell_type": "markdown",
   "source": [
    " ### 検定の結果の解釈"
   ],
   "metadata": {}
  },
  {
   "cell_type": "markdown",
   "source": [
    " #### p値が0.05以下だったときの結果の書き方"
   ],
   "metadata": {}
  },
  {
   "cell_type": "markdown",
   "source": [
    " #### p値が0.05より大きかったときの結果の書き方"
   ],
   "metadata": {}
  },
  {
   "cell_type": "markdown",
   "source": [
    " #### 仮説検定における、よくある間違い"
   ],
   "metadata": {}
  },
  {
   "cell_type": "markdown",
   "source": [
    " #### p値が小さくても、差が大きいとは限らない"
   ],
   "metadata": {}
  },
  {
   "cell_type": "markdown",
   "source": [
    " #### p値が0.05より大きくても差がないとは言えない"
   ],
   "metadata": {}
  },
  {
   "cell_type": "markdown",
   "source": [
    " #### 検定の非対称性"
   ],
   "metadata": {}
  },
  {
   "cell_type": "markdown",
   "source": [
    " #### 有意水準は、検定をする前に決めておく"
   ],
   "metadata": {}
  },
  {
   "cell_type": "markdown",
   "source": [
    " #### 統計的仮説検定は必要か"
   ],
   "metadata": {}
  },
  {
   "cell_type": "markdown",
   "source": [
    " #### 仮説は正しいか"
   ],
   "metadata": {}
  },
  {
   "cell_type": "code",
   "execution_count": 12,
   "source": [
    "unittest.main(argv=[''], verbosity=2, exit=False)\n",
    "doctest.testmod(verbose=True)"
   ],
   "outputs": [
    {
     "output_type": "stream",
     "name": "stdout",
     "text": [
      "3 items had no tests:\n",
      "    __main__\n",
      "    __main__.__VSCODE_compute_hash\n",
      "    __main__.__VSCODE_wrap_run_cell\n",
      "0 tests in 3 items.\n",
      "0 passed and 0 failed.\n",
      "Test passed.\n"
     ]
    },
    {
     "output_type": "stream",
     "name": "stderr",
     "text": [
      "\n",
      "----------------------------------------------------------------------\n",
      "Ran 0 tests in 0.000s\n",
      "\n",
      "OK\n"
     ]
    },
    {
     "output_type": "execute_result",
     "data": {
      "text/plain": [
       "TestResults(failed=0, attempted=0)"
      ]
     },
     "metadata": {},
     "execution_count": 12
    }
   ],
   "metadata": {}
  }
 ],
 "nbformat": 4,
 "nbformat_minor": 2,
 "metadata": {
  "language_info": {
   "codemirror_mode": {
    "name": "ipython",
    "version": 3
   },
   "file_extension": ".py",
   "mimetype": "text/x-python",
   "name": "python",
   "nbconvert_exporter": "python",
   "pygments_lexer": "ipython3",
   "version": 3
  }
 }
}