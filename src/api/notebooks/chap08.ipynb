{
 "cells": [
  {
   "cell_type": "markdown",
   "source": [
    " # 回帰2:住宅の平均価格の予測"
   ],
   "metadata": {}
  },
  {
   "cell_type": "code",
   "execution_count": 2,
   "source": [
    "import unittest\n",
    "import doctest\n",
    "import os\n",
    "path = os.path.dirname(os.path.abspath(__file__))"
   ],
   "outputs": [],
   "metadata": {}
  },
  {
   "cell_type": "markdown",
   "source": [
    " ## データの内容"
   ],
   "metadata": {}
  },
  {
   "cell_type": "markdown",
   "source": [
    " ## 問題背景"
   ],
   "metadata": {}
  },
  {
   "cell_type": "markdown",
   "source": [
    " ## データ分析の方法検討"
   ],
   "metadata": {}
  },
  {
   "cell_type": "markdown",
   "source": [
    " 分析の実施"
   ],
   "metadata": {}
  },
  {
   "cell_type": "markdown",
   "source": [
    " ## データの前処理"
   ],
   "metadata": {}
  },
  {
   "cell_type": "markdown",
   "source": [
    " ### 欠損地処理（行削除・全体代表値埋め、グループ代表値埋め）"
   ],
   "metadata": {}
  },
  {
   "cell_type": "markdown",
   "source": [
    " ### 各手法を必要に応じて実施"
   ],
   "metadata": {}
  },
  {
   "cell_type": "markdown",
   "source": [
    " - 外れ値の除外\n",
    " - 多項式特徴量・交互作用特徴量の追加\n",
    " - 特徴量の絞り込み\n",
    " - 標準化"
   ],
   "metadata": {}
  },
  {
   "cell_type": "markdown",
   "source": [
    " ## モデルの作成と学習"
   ],
   "metadata": {}
  },
  {
   "cell_type": "markdown",
   "source": [
    " ### 未学習状態モデルの生成（分類なら決定木、回帰なら線形回帰）"
   ],
   "metadata": {}
  },
  {
   "cell_type": "markdown",
   "source": [
    " ### 訓練データで学習（必要に応じて不均衡データ補正）"
   ],
   "metadata": {}
  },
  {
   "cell_type": "markdown",
   "source": [
    " ## モデルの評価"
   ],
   "metadata": {}
  },
  {
   "cell_type": "markdown",
   "source": [
    " ### 検証データで評価し指標確認（分類なら正解率、回帰なら決定係数）"
   ],
   "metadata": {}
  },
  {
   "cell_type": "markdown",
   "source": [
    " ### NG:改善案検討前処理に戻る\n",
    " ### OK:最終性能評価（テストデータで評価）"
   ],
   "metadata": {}
  },
  {
   "cell_type": "code",
   "execution_count": 3,
   "source": [
    "doctest.testmod(verbose=True)\n",
    "unittest.main(argv=[''], verbosity=2, exit=False)"
   ],
   "outputs": [
    {
     "output_type": "stream",
     "name": "stdout",
     "text": [
      "3 items had no tests:\n",
      "    __main__\n",
      "    __main__.__VSCODE_compute_hash\n",
      "    __main__.__VSCODE_wrap_run_cell\n",
      "0 tests in 3 items.\n",
      "0 passed and 0 failed.\n",
      "Test passed.\n"
     ]
    },
    {
     "output_type": "stream",
     "name": "stderr",
     "text": [
      "\n",
      "----------------------------------------------------------------------\n",
      "Ran 0 tests in 0.000s\n",
      "\n",
      "OK\n"
     ]
    },
    {
     "output_type": "execute_result",
     "data": {
      "text/plain": [
       "<unittest.main.TestProgram at 0x204e00f73a0>"
      ]
     },
     "metadata": {},
     "execution_count": 3
    }
   ],
   "metadata": {}
  }
 ],
 "nbformat": 4,
 "nbformat_minor": 2,
 "metadata": {
  "language_info": {
   "codemirror_mode": {
    "name": "ipython",
    "version": 3
   },
   "file_extension": ".py",
   "mimetype": "text/x-python",
   "name": "python",
   "nbconvert_exporter": "python",
   "pygments_lexer": "ipython3",
   "version": 3
  },
  "orig_nbformat": 4
 }
}