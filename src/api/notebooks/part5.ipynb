{
 "cells": [
  {
   "cell_type": "markdown",
   "source": [
    " # 統計モデルの基礎"
   ],
   "metadata": {}
  },
  {
   "cell_type": "code",
   "execution_count": 1,
   "source": [
    "# %\n",
    "import numpy as np\n",
    "import pandas as pd\n",
    "from scipy import stats\n",
    "import seaborn as sns\n",
    "from matplotlib import pyplot as plt\n",
    "import unittest\n",
    "import doctest\n",
    "from matplotlib import rcParams\n",
    "import os\n",
    "import warnings\n",
    "warnings.simplefilter('ignore', FutureWarning)\n",
    "path = os.path.dirname(os.path.abspath(__file__))"
   ],
   "outputs": [],
   "metadata": {}
  },
  {
   "cell_type": "markdown",
   "source": [
    " ## 統計モデル"
   ],
   "metadata": {}
  },
  {
   "cell_type": "markdown",
   "source": [
    " ## 線形モデルの作り方"
   ],
   "metadata": {}
  },
  {
   "cell_type": "markdown",
   "source": [
    " ## データの表現とモデルの名称"
   ],
   "metadata": {}
  },
  {
   "cell_type": "markdown",
   "source": [
    " ## パラメータ推定：尤度の最大化"
   ],
   "metadata": {}
  },
  {
   "cell_type": "markdown",
   "source": [
    " ## パラメータ推定；損失の最大化"
   ],
   "metadata": {}
  },
  {
   "cell_type": "markdown",
   "source": [
    " ## 予測精度の評価と変数選択"
   ],
   "metadata": {}
  },
  {
   "cell_type": "code",
   "execution_count": 2,
   "source": [
    "unittest.main(argv=[''], verbosity=2, exit=False)\n",
    "doctest.testmod(verbose=True)"
   ],
   "outputs": [
    {
     "output_type": "stream",
     "name": "stdout",
     "text": [
      "3 items had no tests:\n",
      "    __main__\n",
      "    __main__.__VSCODE_compute_hash\n",
      "    __main__.__VSCODE_wrap_run_cell\n",
      "0 tests in 3 items.\n",
      "0 passed and 0 failed.\n",
      "Test passed.\n"
     ]
    },
    {
     "output_type": "stream",
     "name": "stderr",
     "text": [
      "\n",
      "----------------------------------------------------------------------\n",
      "Ran 0 tests in 0.000s\n",
      "\n",
      "OK\n"
     ]
    },
    {
     "output_type": "execute_result",
     "data": {
      "text/plain": [
       "TestResults(failed=0, attempted=0)"
      ]
     },
     "metadata": {},
     "execution_count": 2
    }
   ],
   "metadata": {}
  }
 ],
 "nbformat": 4,
 "nbformat_minor": 2,
 "metadata": {
  "language_info": {
   "codemirror_mode": {
    "name": "ipython",
    "version": 3
   },
   "file_extension": ".py",
   "mimetype": "text/x-python",
   "name": "python",
   "nbconvert_exporter": "python",
   "pygments_lexer": "ipython3",
   "version": 3
  }
 }
}