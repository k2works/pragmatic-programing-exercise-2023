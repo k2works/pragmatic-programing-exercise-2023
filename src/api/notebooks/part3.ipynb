{
 "cells": [
  {
   "cell_type": "markdown",
   "source": [
    " # 統計的推定"
   ],
   "metadata": {}
  },
  {
   "cell_type": "code",
   "execution_count": 1,
   "source": [
    "# %\n",
    "import numpy as np\n",
    "import pandas as pd\n",
    "from scipy import stats\n",
    "import seaborn as sns\n",
    "from matplotlib import pyplot as plt\n",
    "import unittest\n",
    "import doctest\n",
    "from matplotlib import rcParams\n",
    "import os\n",
    "import warnings\n",
    "warnings.simplefilter('ignore', FutureWarning)\n",
    "path = os.path.dirname(os.path.abspath(__file__))"
   ],
   "outputs": [],
   "metadata": {}
  },
  {
   "cell_type": "markdown",
   "source": [
    " ## 統計的推測の考え方"
   ],
   "metadata": {}
  },
  {
   "cell_type": "markdown",
   "source": [
    " ### サンプリング"
   ],
   "metadata": {}
  },
  {
   "cell_type": "markdown",
   "source": [
    " ### 単純ランダムサンプリング"
   ],
   "metadata": {}
  },
  {
   "cell_type": "markdown",
   "source": [
    " ### 湖と釣りの例"
   ],
   "metadata": {}
  },
  {
   "cell_type": "markdown",
   "source": [
    " ### 標本と確率変数"
   ],
   "metadata": {}
  },
  {
   "cell_type": "markdown",
   "source": [
    " ### 標本が得られるプロセスとしての母集団分析"
   ],
   "metadata": {}
  },
  {
   "cell_type": "markdown",
   "source": [
    " ### 母集団分からの標本抽出の言い換え"
   ],
   "metadata": {}
  },
  {
   "cell_type": "markdown",
   "source": [
    " ### モデルの利用"
   ],
   "metadata": {}
  },
  {
   "cell_type": "markdown",
   "source": [
    " ### 壺のモデル"
   ],
   "metadata": {}
  },
  {
   "cell_type": "markdown",
   "source": [
    " ### 標本が得られるプロセスの抽象化としてのモデル"
   ],
   "metadata": {}
  },
  {
   "cell_type": "markdown",
   "source": [
    " ### 母集団分布と母集団の相対度数分布"
   ],
   "metadata": {}
  },
  {
   "cell_type": "markdown",
   "source": [
    " ### もう少し現実的な、湖と釣りの例"
   ],
   "metadata": {}
  },
  {
   "cell_type": "markdown",
   "source": [
    " ### 仮定を置くということ"
   ],
   "metadata": {}
  },
  {
   "cell_type": "markdown",
   "source": [
    " ### 母集団分布に正規分布を仮定する"
   ],
   "metadata": {}
  },
  {
   "cell_type": "markdown",
   "source": [
    " ### 確率分布のパラメータ（母数）"
   ],
   "metadata": {}
  },
  {
   "cell_type": "markdown",
   "source": [
    " ### パラメトリックなモデル・ノンパラメトリックなモデル"
   ],
   "metadata": {}
  },
  {
   "cell_type": "markdown",
   "source": [
    " ### 統計的推定"
   ],
   "metadata": {}
  },
  {
   "cell_type": "markdown",
   "source": [
    " ### 母集団分布に正規分布を仮定した場合の手続き"
   ],
   "metadata": {}
  },
  {
   "cell_type": "markdown",
   "source": [
    " ### まとめ：統計的推測の考え方"
   ],
   "metadata": {}
  },
  {
   "cell_type": "markdown",
   "source": [
    " ### 次章からの開設の流れ"
   ],
   "metadata": {}
  },
  {
   "cell_type": "markdown",
   "source": [
    " ### 仮定を置くｎということの是非"
   ],
   "metadata": {}
  },
  {
   "cell_type": "markdown",
   "source": [
    " ## 母集団からの標本平均シミュレーション"
   ],
   "metadata": {}
  },
  {
   "cell_type": "markdown",
   "source": [
    " ### 分析の準備"
   ],
   "metadata": {}
  },
  {
   "cell_type": "markdown",
   "source": [
    " ### データが得られるプロセス"
   ],
   "metadata": {}
  },
  {
   "cell_type": "markdown",
   "source": [
    " ### 5尾の魚しかいない湖からの標本抽出"
   ],
   "metadata": {}
  },
  {
   "cell_type": "code",
   "execution_count": 2,
   "source": [
    "fish_5 = np.array([2, 3, 4, 5, 6])\n",
    "fish_5\n",
    "\n",
    "# 乱数の種\n",
    "np.random.seed(1)\n",
    "\n",
    "# 標本抽出\n",
    "sample_1 = np.random.choice(fish_5, size=3, replace=False)\n",
    "sample_1\n",
    "round(np.mean(sample_1), 3)"
   ],
   "outputs": [
    {
     "output_type": "execute_result",
     "data": {
      "text/plain": [
       "4.333"
      ]
     },
     "metadata": {},
     "execution_count": 2
    }
   ],
   "metadata": {}
  },
  {
   "cell_type": "markdown",
   "source": [
    " ### もっとたくさんの魚がいる湖からの標本抽出"
   ],
   "metadata": {}
  },
  {
   "cell_type": "markdown",
   "source": [
    " #### データの読み込み"
   ],
   "metadata": {}
  },
  {
   "cell_type": "code",
   "execution_count": 3,
   "source": [
    "fish_100000 = pd.read_csv(\n",
    "    path + '/data/5-2-1-fish_length_100000.csv')['length']\n",
    "# 先頭行の取得\n",
    "fish_100000.head(3)"
   ],
   "outputs": [
    {
     "output_type": "execute_result",
     "data": {
      "text/plain": [
       "0    5.297442\n",
       "1    3.505566\n",
       "2    3.572546\n",
       "Name: length, dtype: float64"
      ]
     },
     "metadata": {},
     "execution_count": 3
    }
   ],
   "metadata": {}
  },
  {
   "cell_type": "markdown",
   "source": [
    " #### 標本抽出"
   ],
   "metadata": {}
  },
  {
   "cell_type": "code",
   "execution_count": 4,
   "source": [
    "# 乱数の種\n",
    "np.random.seed(2)\n",
    "# 標本抽出\n",
    "sample_2 = np.random.choice(fish_100000, size=500, replace=False)\n",
    "round(np.mean(sample_2), 3)\n",
    "sns.histplot(sample_2, bins=10, color='black')"
   ],
   "outputs": [
    {
     "output_type": "execute_result",
     "data": {
      "text/plain": [
       "<Axes: ylabel='Count'>"
      ]
     },
     "metadata": {},
     "execution_count": 4
    },
    {
     "output_type": "display_data",
     "data": {
      "image/png": "[encoded data removed]",
      "text/plain": [
       "<Figure size 640x480 with 1 Axes>"
      ]
     },
     "metadata": {}
    }
   ],
   "metadata": {}
  },
  {
   "cell_type": "markdown",
   "source": [
    " ### 母集団分布の可視化"
   ],
   "metadata": {}
  },
  {
   "cell_type": "code",
   "execution_count": 5,
   "source": [
    "print('平均    :', round(np.mean(fish_100000), 3))\n",
    "print('分散    :', round(np.var(fish_100000), 3))\n",
    "print('標準偏差:', round(np.std(fish_100000), 3))\n",
    "\n",
    "sns.histplot(fish_100000, color='gray')"
   ],
   "outputs": [
    {
     "output_type": "stream",
     "name": "stdout",
     "text": [
      "平均    : 4.0\n",
      "分散    : 0.64\n",
      "標準偏差: 0.8\n"
     ]
    },
    {
     "output_type": "execute_result",
     "data": {
      "text/plain": [
       "<Axes: xlabel='length', ylabel='Count'>"
      ]
     },
     "metadata": {},
     "execution_count": 5
    },
    {
     "output_type": "display_data",
     "data": {
      "image/png": "[encoded data removed]",
      "text/plain": [
       "<Figure size 640x480 with 1 Axes>"
      ]
     },
     "metadata": {}
    }
   ],
   "metadata": {}
  },
  {
   "cell_type": "markdown",
   "source": [
    " ### 母集団分布と正規分布の確率密度関数"
   ],
   "metadata": {}
  },
  {
   "cell_type": "code",
   "execution_count": 6,
   "source": [
    "# 確率変数\n",
    "x = np.arange(start=1, stop=8.1, step=0.1)\n",
    "# 確率密度\n",
    "density = stats.norm.pdf(x=x, loc=4, scale=0.8)\n",
    "\n",
    "# データフレームにまとめる\n",
    "density_df = pd.DataFrame({'x': x, 'density': density})\n",
    "\n",
    "# 先頭行の取得\n",
    "print(density_df.head(3))\n",
    "\n",
    "# 母集団のヒストグラム\n",
    "sns.histplot(fish_100000, stat='density', color='gray')\n",
    "# 折れ線グラフ（正規分布の確率密度関数）\n",
    "sns.lineplot(x=x, y=density, data=density_df, color='black', linewidth=2.0)"
   ],
   "outputs": [
    {
     "output_type": "stream",
     "name": "stdout",
     "text": [
      "     x   density\n",
      "0  1.0  0.000441\n",
      "1  1.1  0.000699\n",
      "2  1.2  0.001091\n"
     ]
    },
    {
     "output_type": "execute_result",
     "data": {
      "text/plain": [
       "<Axes: xlabel='length', ylabel='Density'>"
      ]
     },
     "metadata": {},
     "execution_count": 6
    },
    {
     "output_type": "display_data",
     "data": {
      "image/png": "[encoded data removed]",
      "text/plain": [
       "<Figure size 640x480 with 1 Axes>"
      ]
     },
     "metadata": {}
    }
   ],
   "metadata": {}
  },
  {
   "cell_type": "markdown",
   "source": [
    " ### データが得られるプロセスの抽象化"
   ],
   "metadata": {}
  },
  {
   "cell_type": "code",
   "execution_count": 7,
   "source": [
    "# 乱数の種\n",
    "np.random.seed(1)\n",
    "# 正規分布に従う乱数の生成\n",
    "sample_norm = stats.norm.rvs(loc=4, scale=0.8, size=10)\n",
    "sample_norm\n",
    "round(np.mean(sample_norm), 3)"
   ],
   "outputs": [
    {
     "output_type": "execute_result",
     "data": {
      "text/plain": [
       "3.922"
      ]
     },
     "metadata": {},
     "execution_count": 7
    }
   ],
   "metadata": {}
  },
  {
   "cell_type": "markdown",
   "source": [
    " ### 議論の補足"
   ],
   "metadata": {}
  },
  {
   "cell_type": "markdown",
   "source": [
    " ### 母集団分布を正規分布とみなして良いのか"
   ],
   "metadata": {}
  },
  {
   "cell_type": "markdown",
   "source": [
    " ## 母平均の推定"
   ],
   "metadata": {}
  },
  {
   "cell_type": "markdown",
   "source": [
    " ### 分析の準備"
   ],
   "metadata": {}
  },
  {
   "cell_type": "markdown",
   "source": [
    " ### 母平均・母分散・母標準偏差"
   ],
   "metadata": {}
  },
  {
   "cell_type": "markdown",
   "source": [
    " ### シミュレーションの概要"
   ],
   "metadata": {}
  },
  {
   "cell_type": "markdown",
   "source": [
    " ### 母集団の用意"
   ],
   "metadata": {}
  },
  {
   "cell_type": "code",
   "execution_count": 8,
   "source": [
    "population = stats.norm(loc=4, scale=0.8)"
   ],
   "outputs": [],
   "metadata": {}
  },
  {
   "cell_type": "markdown",
   "source": [
    " ### 標本平均を計算する"
   ],
   "metadata": {}
  },
  {
   "cell_type": "code",
   "execution_count": 9,
   "source": [
    "np.random.seed(2)\n",
    "sample = population.rvs(size=10)\n",
    "sample\n",
    "round(np.mean(sample), 3)"
   ],
   "outputs": [
    {
     "output_type": "execute_result",
     "data": {
      "text/plain": [
       "3.495"
      ]
     },
     "metadata": {},
     "execution_count": 9
    }
   ],
   "metadata": {}
  },
  {
   "cell_type": "markdown",
   "source": [
    " ### 標本平均を何度も計算する"
   ],
   "metadata": {}
  },
  {
   "cell_type": "code",
   "execution_count": 10,
   "source": [
    "sample_mean_array = np.zeros(10000)\n",
    "np.random.seed(1)\n",
    "for i in range(0, 10000):\n",
    "    sample_loop = population.rvs(size=10)\n",
    "    sample_mean_array[i] = np.mean(sample_loop)\n",
    "\n",
    "sample_mean_array"
   ],
   "outputs": [
    {
     "output_type": "execute_result",
     "data": {
      "text/plain": [
       "array([3.92228729, 3.86432929, 4.06953003, ..., 4.13616562, 4.57489661,\n",
       "       4.09896685])"
      ]
     },
     "metadata": {},
     "execution_count": 10
    }
   ],
   "metadata": {}
  },
  {
   "cell_type": "markdown",
   "source": [
    " ### 標本平均の平均値"
   ],
   "metadata": {}
  },
  {
   "cell_type": "code",
   "execution_count": 11,
   "source": [
    "round(np.mean(sample_mean_array), 3)"
   ],
   "outputs": [
    {
     "output_type": "execute_result",
     "data": {
      "text/plain": [
       "4.004"
      ]
     },
     "metadata": {},
     "execution_count": 11
    }
   ],
   "metadata": {}
  },
  {
   "cell_type": "markdown",
   "source": [
    " ### 不偏性・不偏推定量"
   ],
   "metadata": {}
  },
  {
   "cell_type": "markdown",
   "source": [
    " ### 母平均の不偏推定量としての標本平均"
   ],
   "metadata": {}
  },
  {
   "cell_type": "markdown",
   "source": [
    " ### 標本平均を何度も計算する関数を作る"
   ],
   "metadata": {}
  },
  {
   "cell_type": "code",
   "execution_count": 12,
   "source": [
    "def calc_sample_mean(size, n_trial):\n",
    "    sample_mean_array = np.zeros(n_trial)\n",
    "    for i in range(0, n_trial):\n",
    "        sample_loop = population.rvs(size=size)\n",
    "        sample_mean_array[i] = np.mean(sample_loop)\n",
    "    return (sample_mean_array)\n",
    "\n",
    "\n",
    "np.random.seed(1)\n",
    "round(np.mean(calc_sample_mean(size=10, n_trial=10000)), 3)"
   ],
   "outputs": [
    {
     "output_type": "execute_result",
     "data": {
      "text/plain": [
       "4.004"
      ]
     },
     "metadata": {},
     "execution_count": 12
    }
   ],
   "metadata": {}
  },
  {
   "cell_type": "markdown",
   "source": [
    " ### サンプルサイズ別の、標本平均の分布"
   ],
   "metadata": {}
  },
  {
   "cell_type": "code",
   "execution_count": 13,
   "source": [
    "np.random.seed(1)\n",
    "# サンプルサイズ10\n",
    "size_10 = calc_sample_mean(size=10, n_trial=10000)\n",
    "size_10_df = pd.DataFrame({\n",
    "    'sample_mean': size_10,\n",
    "    'sample_size': np.tile('size 10', 10000)\n",
    "})\n",
    "# サンプルサイズ20\n",
    "size_20 = calc_sample_mean(size=20, n_trial=10000)\n",
    "size_20_df = pd.DataFrame({\n",
    "    'sample_mean': size_20,\n",
    "    'sample_size': np.tile('size 20', 10000)\n",
    "})\n",
    "# サンプルサイズ30\n",
    "size_30 = calc_sample_mean(size=30, n_trial=10000)\n",
    "size_30_df = pd.DataFrame({\n",
    "    'sample_mean': size_30,\n",
    "    'sample_size': np.tile('size 30', 10000)\n",
    "})\n",
    "# 結合\n",
    "sim_result = pd.concat(\n",
    "    [size_10_df, size_20_df, size_30_df])\n",
    "# 結果の表示\n",
    "print(sim_result.head(3))\n",
    "\n",
    "sns.violinplot(x='sample_size', y='sample_mean', data=sim_result, color='gray')\n",
    "\n",
    "group = sim_result.groupby('sample_size')\n",
    "print(group.agg([np.std, np.mean]).round(3))"
   ],
   "outputs": [
    {
     "output_type": "stream",
     "name": "stdout",
     "text": [
      "   sample_mean sample_size\n",
      "0     3.922287     size 10\n",
      "1     3.864329     size 10\n",
      "2     4.069530     size 10\n",
      "            sample_mean       \n",
      "                    std   mean\n",
      "sample_size                   \n",
      "size 10           0.251  4.004\n",
      "size 20           0.180  4.001\n",
      "size 30           0.146  4.001\n"
     ]
    },
    {
     "output_type": "display_data",
     "data": {
      "image/png": "[encoded data removed]",
      "text/plain": [
       "<Figure size 640x480 with 1 Axes>"
      ]
     },
     "metadata": {}
    }
   ],
   "metadata": {}
  },
  {
   "cell_type": "markdown",
   "source": [
    " ### 標本平均の標準偏差の計算"
   ],
   "metadata": {}
  },
  {
   "cell_type": "markdown",
   "source": [
    " ### 標準誤差"
   ],
   "metadata": {}
  },
  {
   "cell_type": "markdown",
   "source": [
    " ### サンプルサイズを大きくしたときの標本平均"
   ],
   "metadata": {}
  },
  {
   "cell_type": "code",
   "execution_count": 14,
   "source": [
    "size_array = np.arange(start=10, stop=100100, step=100)\n",
    "size_array\n",
    "sample_mean_array_size = np.zeros(len(size_array))\n",
    "np.random.seed(1)\n",
    "for i in range(0, len(size_array)):\n",
    "    sample_loop = population.rvs(size=size_array[i])\n",
    "    sample_mean_array_size[i] = np.mean(sample_loop)\n",
    "size_mean_df = pd.DataFrame({\n",
    "    'sample_size': size_array,\n",
    "    'sample_mean': sample_mean_array_size,\n",
    "})\n",
    "print(size_mean_df.head(3))\n",
    "sns.lineplot(x='sample_size', y='sample_mean',\n",
    "             data=size_mean_df, color='black')"
   ],
   "outputs": [
    {
     "output_type": "stream",
     "name": "stdout",
     "text": [
      "   sample_size  sample_mean\n",
      "0           10     3.922287\n",
      "1          110     4.038361\n",
      "2          210     4.091853\n"
     ]
    },
    {
     "output_type": "execute_result",
     "data": {
      "text/plain": [
       "<Axes: xlabel='sample_size', ylabel='sample_mean'>"
      ]
     },
     "metadata": {},
     "execution_count": 14
    },
    {
     "output_type": "display_data",
     "data": {
      "image/png": "[encoded data removed]",
      "text/plain": [
       "<Figure size 640x480 with 1 Axes>"
      ]
     },
     "metadata": {}
    }
   ],
   "metadata": {}
  },
  {
   "cell_type": "markdown",
   "source": [
    " ### 一致制・一致推定量"
   ],
   "metadata": {}
  },
  {
   "cell_type": "markdown",
   "source": [
    " ### 大数の法則"
   ],
   "metadata": {}
  },
  {
   "cell_type": "markdown",
   "source": [
    " ### 推測統計学の考え方"
   ],
   "metadata": {}
  },
  {
   "cell_type": "markdown",
   "source": [
    " ## 母分散の推定"
   ],
   "metadata": {}
  },
  {
   "cell_type": "markdown",
   "source": [
    " ### 分析の準備"
   ],
   "metadata": {}
  },
  {
   "cell_type": "markdown",
   "source": [
    " ### 母分散の用意"
   ],
   "metadata": {}
  },
  {
   "cell_type": "code",
   "execution_count": 15,
   "source": [
    "population = stats.norm(loc=4, scale=0.8)"
   ],
   "outputs": [],
   "metadata": {}
  },
  {
   "cell_type": "markdown",
   "source": [
    " ### 母分散の推定量としての標本分散・不偏分散"
   ],
   "metadata": {}
  },
  {
   "cell_type": "markdown",
   "source": [
    " ### 標本分散と不偏分散を計算する"
   ],
   "metadata": {}
  },
  {
   "cell_type": "code",
   "execution_count": 16,
   "source": [
    "np.random.seed(2)\n",
    "sample = population.rvs(size=10)\n",
    "sample\n",
    "print('標本分散:', round(np.var(sample, ddof=0), 3))\n",
    "print('不偏分散:', round(np.var(sample, ddof=1), 3))"
   ],
   "outputs": [
    {
     "output_type": "stream",
     "name": "stdout",
     "text": [
      "標本分散: 0.712\n",
      "不偏分散: 0.791\n"
     ]
    }
   ],
   "metadata": {}
  },
  {
   "cell_type": "markdown",
   "source": [
    " ### 標本分散の平均値"
   ],
   "metadata": {}
  },
  {
   "cell_type": "code",
   "execution_count": 17,
   "source": [
    "sample_var_array = np.zeros(10000)\n",
    "\n",
    "np.random.seed(1)\n",
    "for i in range(0, 10000):\n",
    "    sample = population.rvs(size=10)\n",
    "    sample_var_array[i] = np.var(sample, ddof=0)\n",
    "\n",
    "round(np.mean(sample_var_array), 3)"
   ],
   "outputs": [
    {
     "output_type": "execute_result",
     "data": {
      "text/plain": [
       "0.575"
      ]
     },
     "metadata": {},
     "execution_count": 17
    }
   ],
   "metadata": {}
  },
  {
   "cell_type": "markdown",
   "source": [
    " ### 不偏分散の平均値"
   ],
   "metadata": {}
  },
  {
   "cell_type": "code",
   "execution_count": 18,
   "source": [
    "# 「不偏分散」を格納する入れ物\n",
    "unbias_var_array = np.zeros(10000)\n",
    "# 「データを10個選んで不偏分散を求める」試行を10000回繰り返す\n",
    "np.random.seed(1)\n",
    "for i in range(0, 10000):\n",
    "    sample = population.rvs(size=10)\n",
    "    unbias_var_array[i] = np.var(sample, ddof=1)\n",
    "# ｎ不偏分散をの平均値\n",
    "round(np.mean(unbias_var_array), 3)"
   ],
   "outputs": [
    {
     "output_type": "execute_result",
     "data": {
      "text/plain": [
       "0.639"
      ]
     },
     "metadata": {},
     "execution_count": 18
    }
   ],
   "metadata": {}
  },
  {
   "cell_type": "markdown",
   "source": [
    " ### 母分散の不偏推定量としての不偏分散"
   ],
   "metadata": {}
  },
  {
   "cell_type": "markdown",
   "source": [
    " ### サンプルサイズを大きくしたときの不偏分散"
   ],
   "metadata": {}
  },
  {
   "cell_type": "code",
   "execution_count": 19,
   "source": [
    "size_array = np.arange(start=10, stop=100100, step=100)\n",
    "size_array\n",
    "\n",
    "unbias_var_array_size = np.zeros(len(size_array))\n",
    "\n",
    "np.random.seed(1)\n",
    "for i in range(0, len(size_array)):\n",
    "    sample = population.rvs(size=size_array[i])\n",
    "    unbias_var_array_size[i] = np.var(sample, ddof=1)\n",
    "\n",
    "size_var_df = pd.DataFrame({\n",
    "    'sample_size': size_array,\n",
    "    'unbias_var': unbias_var_array_size,\n",
    "})\n",
    "\n",
    "print(size_var_df.head(3))\n",
    "\n",
    "sns.lineplot(x='sample_size', y='unbias_var',\n",
    "             data=size_var_df, color='black')"
   ],
   "outputs": [
    {
     "output_type": "stream",
     "name": "stdout",
     "text": [
      "   sample_size  unbias_var\n",
      "0           10    1.008526\n",
      "1          110    0.460805\n",
      "2          210    0.631723\n"
     ]
    },
    {
     "output_type": "execute_result",
     "data": {
      "text/plain": [
       "<Axes: xlabel='sample_size', ylabel='unbias_var'>"
      ]
     },
     "metadata": {},
     "execution_count": 19
    },
    {
     "output_type": "display_data",
     "data": {
      "image/png": "[encoded data removed]",
      "text/plain": [
       "<Figure size 640x480 with 1 Axes>"
      ]
     },
     "metadata": {}
    }
   ],
   "metadata": {}
  },
  {
   "cell_type": "markdown",
   "source": [
    " ## 正規母集団から派生した確率分布"
   ],
   "metadata": {}
  },
  {
   "cell_type": "markdown",
   "source": [
    " ### 分析の準備"
   ],
   "metadata": {}
  },
  {
   "cell_type": "markdown",
   "source": [
    " ### 標本分布"
   ],
   "metadata": {}
  },
  {
   "cell_type": "markdown",
   "source": [
    " ### 正規分布の活用"
   ],
   "metadata": {}
  },
  {
   "cell_type": "markdown",
   "source": [
    " ### χ２分布"
   ],
   "metadata": {}
  },
  {
   "cell_type": "markdown",
   "source": [
    " ### シミュレーションの準備"
   ],
   "metadata": {}
  },
  {
   "cell_type": "code",
   "execution_count": 20,
   "source": [
    "mu = 4\n",
    "sigma = 0.8\n",
    "population = stats.norm(loc=mu, scale=sigma)\n",
    "\n",
    "# サンプルサイズ\n",
    "n = 5\n",
    "# 標本抽出\n",
    "np.random.seed(1)\n",
    "sample = population.rvs(size=n)\n",
    "sample"
   ],
   "outputs": [
    {
     "output_type": "execute_result",
     "data": {
      "text/plain": [
       "array([5.29947629, 3.51059487, 3.5774626 , 3.1416251 , 4.6923261 ])"
      ]
     },
     "metadata": {},
     "execution_count": 20
    }
   ],
   "metadata": {}
  },
  {
   "cell_type": "markdown",
   "source": [
    " ### χ２分布"
   ],
   "metadata": {}
  },
  {
   "cell_type": "markdown",
   "source": [
    " #### Pythonにおける扱い"
   ],
   "metadata": {}
  },
  {
   "cell_type": "code",
   "execution_count": 21,
   "source": [
    "round(stats.chi2.pdf(x=2, df=n-1), 3)\n",
    "round(stats.chi2.cdf(x=2, df=n-1), 3)\n",
    "round(stats.chi2.ppf(q=0.5, df=n-1), 3)"
   ],
   "outputs": [
    {
     "output_type": "execute_result",
     "data": {
      "text/plain": [
       "3.357"
      ]
     },
     "metadata": {},
     "execution_count": 21
    }
   ],
   "metadata": {}
  },
  {
   "cell_type": "markdown",
   "source": [
    " #### シミュレーション"
   ],
   "metadata": {}
  },
  {
   "cell_type": "code",
   "execution_count": 22,
   "source": [
    "# サンプルサイズ\n",
    "n = 5\n",
    "# 乱数の種\n",
    "np.random.seed(1)\n",
    "# x2値を格納する入れ物\n",
    "chi2_value_array = np.zeros(10000)\n",
    "# シミュレーションの実行\n",
    "for i in range(0, 10000):\n",
    "    sample = population.rvs(size=n)\n",
    "    u2 = np.var(sample, ddof=1)  # 不偏分散\n",
    "    chi2 = (n - 1) * u2 / sigma**2  # χ２値\n",
    "    chi2_value_array[i] = chi2\n",
    "\n",
    "# 確率変数\n",
    "x = np.arange(start=0, stop=20.1, step=0.1)\n",
    "# x2分布の確率密度\n",
    "chi2_distribution = stats.chi2.pdf(x=x, df=n-1)\n",
    "# データフレームにまとめる\n",
    "chi2_df = pd.DataFrame({\n",
    "    'x': x,\n",
    "    'chi2_distribution': chi2_distribution\n",
    "})\n",
    "print(chi2_df.head(3))\n",
    "\n",
    "# ヒストグラム\n",
    "sns.histplot(chi2_value_array, color='gray', stat='density')\n",
    "# x2分布\n",
    "sns.lineplot(x=x, y=chi2_distribution,\n",
    "             data=chi2_df, color='black',\n",
    "             label='x2分布')"
   ],
   "outputs": [
    {
     "output_type": "stream",
     "name": "stdout",
     "text": [
      "     x  chi2_distribution\n",
      "0  0.0           0.000000\n",
      "1  0.1           0.023781\n",
      "2  0.2           0.045242\n"
     ]
    },
    {
     "output_type": "execute_result",
     "data": {
      "text/plain": [
       "<Axes: ylabel='Density'>"
      ]
     },
     "metadata": {},
     "execution_count": 22
    },
    {
     "output_type": "stream",
     "name": "stderr",
     "text": [
      "/home/ubuntu/projects/k2wroks/programing_introduce_2023/.venv/lib/python3.8/site-packages/IPython/core/events.py:89: UserWarning: Glyph 20998 (\\N{CJK UNIFIED IDEOGRAPH-5206}) missing from current font.\n",
      "  func(*args, **kwargs)\n",
      "/home/ubuntu/projects/k2wroks/programing_introduce_2023/.venv/lib/python3.8/site-packages/IPython/core/events.py:89: UserWarning: Glyph 24067 (\\N{CJK UNIFIED IDEOGRAPH-5E03}) missing from current font.\n",
      "  func(*args, **kwargs)\n",
      "/home/ubuntu/projects/k2wroks/programing_introduce_2023/.venv/lib/python3.8/site-packages/IPython/core/pylabtools.py:152: UserWarning: Glyph 20998 (\\N{CJK UNIFIED IDEOGRAPH-5206}) missing from current font.\n",
      "  fig.canvas.print_figure(bytes_io, **kw)\n",
      "/home/ubuntu/projects/k2wroks/programing_introduce_2023/.venv/lib/python3.8/site-packages/IPython/core/pylabtools.py:152: UserWarning: Glyph 24067 (\\N{CJK UNIFIED IDEOGRAPH-5E03}) missing from current font.\n",
      "  fig.canvas.print_figure(bytes_io, **kw)\n"
     ]
    },
    {
     "output_type": "display_data",
     "data": {
      "image/png": "[encoded data removed]",
      "text/plain": [
       "<Figure size 640x480 with 1 Axes>"
      ]
     },
     "metadata": {}
    }
   ],
   "metadata": {}
  },
  {
   "cell_type": "markdown",
   "source": [
    " ### 標本平均が従う確率分布"
   ],
   "metadata": {}
  },
  {
   "cell_type": "markdown",
   "source": [
    " ### 標本平均の標準化"
   ],
   "metadata": {}
  },
  {
   "cell_type": "code",
   "execution_count": 23,
   "source": [
    "# サンプルサイズ\n",
    "n = 3\n",
    "# 乱数の種\n",
    "np.random.seed(1)\n",
    "# z値を格納する入れ物\n",
    "z_value_array = np.zeros(10000)\n",
    "# シミュレーションの実行\n",
    "for i in range(0, 10000):\n",
    "    sample = population.rvs(size=n)\n",
    "    x_bar = np.mean(sample)  # 標本平均\n",
    "    bar_sigma = sigma / np.sqrt(n)  # 標本平均の標準誤差\n",
    "    z_value_array[i] = (x_bar - mu) / bar_sigma  # z値\n",
    "\n",
    "# 確率変数\n",
    "x = np.arange(start=-6, stop=6.1, step=0.1)\n",
    "# 標準正規分布の確率密度\n",
    "z_distribution = stats.norm.pdf(x=x, loc=0, scale=1)\n",
    "# データフレームにまとめる\n",
    "z_df = pd.DataFrame({\n",
    "    'x': x,\n",
    "    'z_distribution': z_distribution\n",
    "})\n",
    "print(z_df.head(3))\n",
    "# 確率変数\n",
    "x = np.arange(start=-6, stop=6.1, step=0.1)\n",
    "# 標準正規分布の確率密度\n",
    "z_distribution = stats.norm.pdf(x=x, loc=0, scale=1)\n",
    "# データフレームにまとめる\n",
    "z_df = pd.DataFrame({\n",
    "    'x': x,\n",
    "    'z_distribution': z_distribution\n",
    "})\n",
    "print(z_df.head(3))\n",
    "\n",
    "# z値ヒストグラム\n",
    "sns.histplot(z_value_array, color='gray', stat='density')\n",
    "# 標準正規分布\n",
    "sns.lineplot(x=x, y=z_distribution,\n",
    "             data=z_df, color='black',\n",
    "             label='標準正規分布')\n",
    "# X軸の範囲\n",
    "plt.xlim([-6, 6])"
   ],
   "outputs": [
    {
     "output_type": "stream",
     "name": "stdout",
     "text": [
      "     x  z_distribution\n",
      "0 -6.0    6.075883e-09\n",
      "1 -5.9    1.101576e-08\n",
      "2 -5.8    1.977320e-08\n",
      "     x  z_distribution\n",
      "0 -6.0    6.075883e-09\n",
      "1 -5.9    1.101576e-08\n",
      "2 -5.8    1.977320e-08\n"
     ]
    },
    {
     "output_type": "execute_result",
     "data": {
      "text/plain": [
       "(-6.0, 6.0)"
      ]
     },
     "metadata": {},
     "execution_count": 23
    },
    {
     "output_type": "stream",
     "name": "stderr",
     "text": [
      "/home/ubuntu/projects/k2wroks/programing_introduce_2023/.venv/lib/python3.8/site-packages/IPython/core/events.py:89: UserWarning: Glyph 27161 (\\N{CJK UNIFIED IDEOGRAPH-6A19}) missing from current font.\n",
      "  func(*args, **kwargs)\n",
      "/home/ubuntu/projects/k2wroks/programing_introduce_2023/.venv/lib/python3.8/site-packages/IPython/core/events.py:89: UserWarning: Glyph 28310 (\\N{CJK UNIFIED IDEOGRAPH-6E96}) missing from current font.\n",
      "  func(*args, **kwargs)\n",
      "/home/ubuntu/projects/k2wroks/programing_introduce_2023/.venv/lib/python3.8/site-packages/IPython/core/events.py:89: UserWarning: Glyph 27491 (\\N{CJK UNIFIED IDEOGRAPH-6B63}) missing from current font.\n",
      "  func(*args, **kwargs)\n",
      "/home/ubuntu/projects/k2wroks/programing_introduce_2023/.venv/lib/python3.8/site-packages/IPython/core/events.py:89: UserWarning: Glyph 35215 (\\N{CJK UNIFIED IDEOGRAPH-898F}) missing from current font.\n",
      "  func(*args, **kwargs)\n",
      "/home/ubuntu/projects/k2wroks/programing_introduce_2023/.venv/lib/python3.8/site-packages/IPython/core/events.py:89: UserWarning: Glyph 20998 (\\N{CJK UNIFIED IDEOGRAPH-5206}) missing from current font.\n",
      "  func(*args, **kwargs)\n",
      "/home/ubuntu/projects/k2wroks/programing_introduce_2023/.venv/lib/python3.8/site-packages/IPython/core/events.py:89: UserWarning: Glyph 24067 (\\N{CJK UNIFIED IDEOGRAPH-5E03}) missing from current font.\n",
      "  func(*args, **kwargs)\n",
      "/home/ubuntu/projects/k2wroks/programing_introduce_2023/.venv/lib/python3.8/site-packages/IPython/core/pylabtools.py:152: UserWarning: Glyph 27161 (\\N{CJK UNIFIED IDEOGRAPH-6A19}) missing from current font.\n",
      "  fig.canvas.print_figure(bytes_io, **kw)\n",
      "/home/ubuntu/projects/k2wroks/programing_introduce_2023/.venv/lib/python3.8/site-packages/IPython/core/pylabtools.py:152: UserWarning: Glyph 28310 (\\N{CJK UNIFIED IDEOGRAPH-6E96}) missing from current font.\n",
      "  fig.canvas.print_figure(bytes_io, **kw)\n",
      "/home/ubuntu/projects/k2wroks/programing_introduce_2023/.venv/lib/python3.8/site-packages/IPython/core/pylabtools.py:152: UserWarning: Glyph 27491 (\\N{CJK UNIFIED IDEOGRAPH-6B63}) missing from current font.\n",
      "  fig.canvas.print_figure(bytes_io, **kw)\n",
      "/home/ubuntu/projects/k2wroks/programing_introduce_2023/.venv/lib/python3.8/site-packages/IPython/core/pylabtools.py:152: UserWarning: Glyph 35215 (\\N{CJK UNIFIED IDEOGRAPH-898F}) missing from current font.\n",
      "  fig.canvas.print_figure(bytes_io, **kw)\n",
      "/home/ubuntu/projects/k2wroks/programing_introduce_2023/.venv/lib/python3.8/site-packages/IPython/core/pylabtools.py:152: UserWarning: Glyph 20998 (\\N{CJK UNIFIED IDEOGRAPH-5206}) missing from current font.\n",
      "  fig.canvas.print_figure(bytes_io, **kw)\n",
      "/home/ubuntu/projects/k2wroks/programing_introduce_2023/.venv/lib/python3.8/site-packages/IPython/core/pylabtools.py:152: UserWarning: Glyph 24067 (\\N{CJK UNIFIED IDEOGRAPH-5E03}) missing from current font.\n",
      "  fig.canvas.print_figure(bytes_io, **kw)\n"
     ]
    },
    {
     "output_type": "display_data",
     "data": {
      "image/png": "[encoded data removed]",
      "text/plain": [
       "<Figure size 640x480 with 1 Axes>"
      ]
     },
     "metadata": {}
    }
   ],
   "metadata": {}
  },
  {
   "cell_type": "markdown",
   "source": [
    " ### t値\n",
    " $$\n",
    " t=\\frac{\\bar{x}-\\mu}{\\frac{s}{\\sqrt{n}}}"
   ],
   "metadata": {}
  },
  {
   "cell_type": "markdown",
   "source": [
    " ### t分布"
   ],
   "metadata": {}
  },
  {
   "cell_type": "markdown",
   "source": [
    " #### Pythonにおける扱い"
   ],
   "metadata": {}
  },
  {
   "cell_type": "markdown",
   "source": [
    " #### シミュレーション"
   ],
   "metadata": {}
  },
  {
   "cell_type": "code",
   "execution_count": 24,
   "source": [
    "# 乱数の種\n",
    "np.random.seed(1)\n",
    "# t値を格納する入れ物\n",
    "t_value_array = np.zeros(10000)\n",
    "# シミュレーションの実行\n",
    "for i in range(0, 10000):\n",
    "    sample = population.rvs(size=n)\n",
    "    x_bar = np.mean(sample)  # 標本平均\n",
    "    u = np.std(sample, ddof=1)  # 標本標準偏差\n",
    "    se = u/np.sqrt(n)  # 標準誤差\n",
    "    t_value_array[i] = (x_bar - mu) / se  # t値\n",
    "# t分布の確率密度\n",
    "t_distribution = stats.t.pdf(x=x, df=n-1)\n",
    "# データフレームにまとめる\n",
    "t_df = pd.DataFrame({\n",
    "    'x': x,\n",
    "    't_distribution': t_distribution\n",
    "})\n",
    "print(t_df.head(3))\n",
    "\n",
    "# t値のヒストグラム\n",
    "sns.histplot(t_value_array, color='gray', stat='density')\n",
    "# t分布\n",
    "sns.lineplot(x=x, y=t_distribution,\n",
    "             data=t_df, color='black',\n",
    "             label='t分布')\n",
    "# 標準正規分布\n",
    "sns.lineplot(x=x, y=z_distribution,\n",
    "             data=z_df, color='black',\n",
    "             linestyle='dashed',\n",
    "             label='標準正規分布')\n",
    "# X軸の範囲\n",
    "plt.xlim([-6, 6])"
   ],
   "outputs": [
    {
     "output_type": "stream",
     "name": "stdout",
     "text": [
      "     x  t_distribution\n",
      "0 -6.0        0.004269\n",
      "1 -5.9        0.004478\n",
      "2 -5.8        0.004700\n"
     ]
    },
    {
     "output_type": "execute_result",
     "data": {
      "text/plain": [
       "(-6.0, 6.0)"
      ]
     },
     "metadata": {},
     "execution_count": 24
    },
    {
     "output_type": "stream",
     "name": "stderr",
     "text": [
      "/home/ubuntu/projects/k2wroks/programing_introduce_2023/.venv/lib/python3.8/site-packages/IPython/core/events.py:89: UserWarning: Glyph 20998 (\\N{CJK UNIFIED IDEOGRAPH-5206}) missing from current font.\n",
      "  func(*args, **kwargs)\n",
      "/home/ubuntu/projects/k2wroks/programing_introduce_2023/.venv/lib/python3.8/site-packages/IPython/core/events.py:89: UserWarning: Glyph 24067 (\\N{CJK UNIFIED IDEOGRAPH-5E03}) missing from current font.\n",
      "  func(*args, **kwargs)\n",
      "/home/ubuntu/projects/k2wroks/programing_introduce_2023/.venv/lib/python3.8/site-packages/IPython/core/events.py:89: UserWarning: Glyph 27161 (\\N{CJK UNIFIED IDEOGRAPH-6A19}) missing from current font.\n",
      "  func(*args, **kwargs)\n",
      "/home/ubuntu/projects/k2wroks/programing_introduce_2023/.venv/lib/python3.8/site-packages/IPython/core/events.py:89: UserWarning: Glyph 28310 (\\N{CJK UNIFIED IDEOGRAPH-6E96}) missing from current font.\n",
      "  func(*args, **kwargs)\n",
      "/home/ubuntu/projects/k2wroks/programing_introduce_2023/.venv/lib/python3.8/site-packages/IPython/core/events.py:89: UserWarning: Glyph 27491 (\\N{CJK UNIFIED IDEOGRAPH-6B63}) missing from current font.\n",
      "  func(*args, **kwargs)\n",
      "/home/ubuntu/projects/k2wroks/programing_introduce_2023/.venv/lib/python3.8/site-packages/IPython/core/events.py:89: UserWarning: Glyph 35215 (\\N{CJK UNIFIED IDEOGRAPH-898F}) missing from current font.\n",
      "  func(*args, **kwargs)\n",
      "/home/ubuntu/projects/k2wroks/programing_introduce_2023/.venv/lib/python3.8/site-packages/IPython/core/pylabtools.py:152: UserWarning: Glyph 20998 (\\N{CJK UNIFIED IDEOGRAPH-5206}) missing from current font.\n",
      "  fig.canvas.print_figure(bytes_io, **kw)\n",
      "/home/ubuntu/projects/k2wroks/programing_introduce_2023/.venv/lib/python3.8/site-packages/IPython/core/pylabtools.py:152: UserWarning: Glyph 24067 (\\N{CJK UNIFIED IDEOGRAPH-5E03}) missing from current font.\n",
      "  fig.canvas.print_figure(bytes_io, **kw)\n",
      "/home/ubuntu/projects/k2wroks/programing_introduce_2023/.venv/lib/python3.8/site-packages/IPython/core/pylabtools.py:152: UserWarning: Glyph 27161 (\\N{CJK UNIFIED IDEOGRAPH-6A19}) missing from current font.\n",
      "  fig.canvas.print_figure(bytes_io, **kw)\n",
      "/home/ubuntu/projects/k2wroks/programing_introduce_2023/.venv/lib/python3.8/site-packages/IPython/core/pylabtools.py:152: UserWarning: Glyph 28310 (\\N{CJK UNIFIED IDEOGRAPH-6E96}) missing from current font.\n",
      "  fig.canvas.print_figure(bytes_io, **kw)\n",
      "/home/ubuntu/projects/k2wroks/programing_introduce_2023/.venv/lib/python3.8/site-packages/IPython/core/pylabtools.py:152: UserWarning: Glyph 27491 (\\N{CJK UNIFIED IDEOGRAPH-6B63}) missing from current font.\n",
      "  fig.canvas.print_figure(bytes_io, **kw)\n",
      "/home/ubuntu/projects/k2wroks/programing_introduce_2023/.venv/lib/python3.8/site-packages/IPython/core/pylabtools.py:152: UserWarning: Glyph 35215 (\\N{CJK UNIFIED IDEOGRAPH-898F}) missing from current font.\n",
      "  fig.canvas.print_figure(bytes_io, **kw)\n"
     ]
    },
    {
     "output_type": "display_data",
     "data": {
      "image/png": "[encoded data removed]",
      "text/plain": [
       "<Figure size 640x480 with 1 Axes>"
      ]
     },
     "metadata": {}
    }
   ],
   "metadata": {}
  },
  {
   "cell_type": "markdown",
   "source": [
    " ### F分布"
   ],
   "metadata": {}
  },
  {
   "cell_type": "markdown",
   "source": [
    " #### F分布の定義\n",
    " $$\n",
    " F=\\frac{\\frac{s_1^2}{\\sigma_1^2}}{\\frac{s_2^2}{\\sigma_2^2}}"
   ],
   "metadata": {}
  },
  {
   "cell_type": "markdown",
   "source": [
    " ### F分布"
   ],
   "metadata": {}
  },
  {
   "cell_type": "markdown",
   "source": [
    " #### Pythonにおける扱い"
   ],
   "metadata": {}
  },
  {
   "cell_type": "markdown",
   "source": [
    " #### シミュレーション"
   ],
   "metadata": {}
  },
  {
   "cell_type": "code",
   "execution_count": 25,
   "source": [
    "# サンプルサイズ\n",
    "m = 5\n",
    "n = 10\n",
    "# 乱数の種\n",
    "np.random.seed(1)\n",
    "# F値を格納する入れ物\n",
    "f_value_array = np.zeros(10000)\n",
    "# シミュレーションの実行\n",
    "for i in range(0, 10000):\n",
    "    sample_x = population.rvs(size=m)\n",
    "    sample_y = population.rvs(size=n)\n",
    "    u2_x = np.var(sample_x, ddof=1)  # 不偏分散\n",
    "    u2_y = np.var(sample_y, ddof=1)  # 不偏分散\n",
    "    f_value_array[i] = u2_x / u2_y  # F値\n",
    "# 確率変数\n",
    "x = np.arange(start=0, stop=6.1, step=0.1)\n",
    "# F分布の確率密度\n",
    "f_distribution = stats.f.pdf(x=x, dfn=m-1, dfd=n-1)\n",
    "# データフレームにまとめる\n",
    "f_df = pd.DataFrame({\n",
    "    'x': x,\n",
    "    'f_distribution': f_distribution\n",
    "})\n",
    "print(f_df.head(3))\n",
    "\n",
    "# F値のヒストグラム\n",
    "sns.histplot(f_value_array, color='gray', stat='density')\n",
    "# F分布\n",
    "sns.lineplot(x=x, y=f_distribution,\n",
    "             data=f_df, color='black',\n",
    "             label='F分布')\n",
    "# X軸の範囲\n",
    "plt.xlim([0, 6])"
   ],
   "outputs": [
    {
     "output_type": "stream",
     "name": "stdout",
     "text": [
      "     x  f_distribution\n",
      "0  0.0        0.000000\n",
      "1  0.1        0.368515\n",
      "2  0.2        0.562143\n"
     ]
    },
    {
     "output_type": "execute_result",
     "data": {
      "text/plain": [
       "(0.0, 6.0)"
      ]
     },
     "metadata": {},
     "execution_count": 25
    },
    {
     "output_type": "stream",
     "name": "stderr",
     "text": [
      "/home/ubuntu/projects/k2wroks/programing_introduce_2023/.venv/lib/python3.8/site-packages/IPython/core/events.py:89: UserWarning: Glyph 20998 (\\N{CJK UNIFIED IDEOGRAPH-5206}) missing from current font.\n",
      "  func(*args, **kwargs)\n",
      "/home/ubuntu/projects/k2wroks/programing_introduce_2023/.venv/lib/python3.8/site-packages/IPython/core/events.py:89: UserWarning: Glyph 24067 (\\N{CJK UNIFIED IDEOGRAPH-5E03}) missing from current font.\n",
      "  func(*args, **kwargs)\n",
      "/home/ubuntu/projects/k2wroks/programing_introduce_2023/.venv/lib/python3.8/site-packages/IPython/core/pylabtools.py:152: UserWarning: Glyph 20998 (\\N{CJK UNIFIED IDEOGRAPH-5206}) missing from current font.\n",
      "  fig.canvas.print_figure(bytes_io, **kw)\n",
      "/home/ubuntu/projects/k2wroks/programing_introduce_2023/.venv/lib/python3.8/site-packages/IPython/core/pylabtools.py:152: UserWarning: Glyph 24067 (\\N{CJK UNIFIED IDEOGRAPH-5E03}) missing from current font.\n",
      "  fig.canvas.print_figure(bytes_io, **kw)\n"
     ]
    },
    {
     "output_type": "display_data",
     "data": {
      "image/png": "[encoded data removed]",
      "text/plain": [
       "<Figure size 640x480 with 1 Axes>"
      ]
     },
     "metadata": {}
    }
   ],
   "metadata": {}
  },
  {
   "cell_type": "markdown",
   "source": [
    " ## 区間推定"
   ],
   "metadata": {}
  },
  {
   "cell_type": "markdown",
   "source": [
    " ### 分析の準備"
   ],
   "metadata": {}
  },
  {
   "cell_type": "code",
   "execution_count": 26,
   "source": [
    "fish = pd.read_csv(path + '/data/5-6-1-fish_length.csv')['length']\n",
    "fish"
   ],
   "outputs": [
    {
     "output_type": "execute_result",
     "data": {
      "text/plain": [
       "0    4.352982\n",
       "1    3.735304\n",
       "2    5.944617\n",
       "3    3.798326\n",
       "4    4.087688\n",
       "5    5.265985\n",
       "6    3.272614\n",
       "7    3.526691\n",
       "8    4.150083\n",
       "9    3.736104\n",
       "Name: length, dtype: float64"
      ]
     },
     "metadata": {},
     "execution_count": 26
    }
   ],
   "metadata": {}
  },
  {
   "cell_type": "markdown",
   "source": [
    " ### 点推定・区間推定"
   ],
   "metadata": {}
  },
  {
   "cell_type": "markdown",
   "source": [
    " ### 点推定"
   ],
   "metadata": {}
  },
  {
   "cell_type": "code",
   "execution_count": 27,
   "source": [
    "x_bar = np.mean(fish)\n",
    "u2 = np.var(fish, ddof=1)\n",
    "\n",
    "print('標本平均:', round(x_bar, 3))\n",
    "print('不偏分散:', round(u2, 3))"
   ],
   "outputs": [
    {
     "output_type": "stream",
     "name": "stdout",
     "text": [
      "標本平均: 4.187\n",
      "不偏分散: 0.68\n"
     ]
    }
   ],
   "metadata": {}
  },
  {
   "cell_type": "markdown",
   "source": [
    " ### 信頼係数・信頼区間"
   ],
   "metadata": {}
  },
  {
   "cell_type": "markdown",
   "source": [
    " ### 信頼限界\n",
    " $$\n",
    " \\bar{x}-t_{\\alpha/2}\\frac{s}{\\sqrt{n}}\\leq\\mu\\leq\\bar{x}+t_{\\alpha/2}\\frac{s}{\\sqrt{n}}"
   ],
   "metadata": {}
  },
  {
   "cell_type": "markdown",
   "source": [
    " ### 母平均の区間推定"
   ],
   "metadata": {}
  },
  {
   "cell_type": "markdown",
   "source": [
    " #### 定義通りの実装"
   ],
   "metadata": {}
  },
  {
   "cell_type": "code",
   "execution_count": 28,
   "source": [
    "# 統計量の計算\n",
    "n = len(fish)  # サンプルサイズ\n",
    "df = n - 1     # 自由度\n",
    "u = np.std(fish, ddof=1)  # 標準偏差\n",
    "se = u / np.sqrt(n)  # 標準誤差\n",
    "\n",
    "print('サンプルサイズ:', n)\n",
    "print('自由度:', df)\n",
    "print('標準偏差:', round(u, 3))\n",
    "print('標準誤差:', round(se, 3))\n",
    "print('標準平均:', round(x_bar, 3))\n",
    "\n",
    "# 2.5%点と97.5%点\n",
    "t_025 = stats.t.ppf(q=0.025, df=df)\n",
    "t_975 = stats.t.ppf(q=0.975, df=df)\n",
    "\n",
    "print('t分布の2.5%点:', round(t_025, 3))\n",
    "print('t分布の97.5%点:', round(t_975, 3))\n",
    "\n",
    "# 母平均の区間推定\n",
    "lower_mu = x_bar - t_975 * se\n",
    "upper_mu = x_bar - t_025 * se\n",
    "\n",
    "print('下側信頼限界:', round(lower_mu, 3))\n",
    "print('上側信頼限界:', round(upper_mu, 3))"
   ],
   "outputs": [
    {
     "output_type": "stream",
     "name": "stdout",
     "text": [
      "サンプルサイズ: 10\n",
      "自由度: 9\n",
      "標準偏差: 0.825\n",
      "標準誤差: 0.261\n",
      "標準平均: 4.187\n",
      "t分布の2.5%点: -2.262\n",
      "t分布の97.5%点: 2.262\n",
      "下側信頼限界: 3.597\n",
      "上側信頼限界: 4.777\n"
     ]
    }
   ],
   "metadata": {}
  },
  {
   "cell_type": "markdown",
   "source": [
    " #### 効率的な実装"
   ],
   "metadata": {}
  },
  {
   "cell_type": "code",
   "execution_count": 29,
   "source": [
    "res_1 = stats.t.interval(alpha=0.95, df=df, loc=x_bar, scale=se)\n",
    "np.round(res_1, 3)"
   ],
   "outputs": [
    {
     "output_type": "stream",
     "name": "stderr",
     "text": [
      "<ipython-input-29-006123f80732>:2: DeprecationWarning: Use of keyword argument 'alpha' for method 'interval' is deprecated and wil be removed in SciPy 1.11.0. Use first positional argument or keyword argument 'confidence' instead.\n",
      "  res_1 = stats.t.interval(alpha=0.95, df=df, loc=x_bar, scale=se)\n"
     ]
    },
    {
     "output_type": "execute_result",
     "data": {
      "text/plain": [
       "array([3.597, 4.777])"
      ]
     },
     "metadata": {},
     "execution_count": 29
    }
   ],
   "metadata": {}
  },
  {
   "cell_type": "markdown",
   "source": [
    " ### 信頼区間の幅を決める要素"
   ],
   "metadata": {}
  },
  {
   "cell_type": "code",
   "execution_count": 30,
   "source": [
    "se_2 = (u * 10) / np.sqrt(n)\n",
    "res_2 = stats.t.interval(alpha=0.95, df=df, loc=x_bar, scale=se_2)\n",
    "np.round(res_2, 3)\n",
    "\n",
    "n_2 = n * 10\n",
    "df_2 = n_2 - 1\n",
    "se_3 = u / np.sqrt(n_2)\n",
    "res_3 = stats.t.interval(alpha=0.95, df=df_2, loc=x_bar, scale=se_3)\n",
    "np.round(res_3, 3)\n",
    "\n",
    "res_4 = stats.t.interval(alpha=0.99, df=df, loc=x_bar, scale=se)\n",
    "np.round(res_4, 3)"
   ],
   "outputs": [
    {
     "output_type": "stream",
     "name": "stderr",
     "text": [
      "<ipython-input-30-213f5955943e>:3: DeprecationWarning: Use of keyword argument 'alpha' for method 'interval' is deprecated and wil be removed in SciPy 1.11.0. Use first positional argument or keyword argument 'confidence' instead.\n",
      "  res_2 = stats.t.interval(alpha=0.95, df=df, loc=x_bar, scale=se_2)\n",
      "<ipython-input-30-213f5955943e>:9: DeprecationWarning: Use of keyword argument 'alpha' for method 'interval' is deprecated and wil be removed in SciPy 1.11.0. Use first positional argument or keyword argument 'confidence' instead.\n",
      "  res_3 = stats.t.interval(alpha=0.95, df=df_2, loc=x_bar, scale=se_3)\n",
      "<ipython-input-30-213f5955943e>:12: DeprecationWarning: Use of keyword argument 'alpha' for method 'interval' is deprecated and wil be removed in SciPy 1.11.0. Use first positional argument or keyword argument 'confidence' instead.\n",
      "  res_4 = stats.t.interval(alpha=0.99, df=df, loc=x_bar, scale=se)\n"
     ]
    },
    {
     "output_type": "execute_result",
     "data": {
      "text/plain": [
       "array([3.339, 5.035])"
      ]
     },
     "metadata": {},
     "execution_count": 30
    }
   ],
   "metadata": {}
  },
  {
   "cell_type": "markdown",
   "source": [
    " ### 区間推定の結果の解釈"
   ],
   "metadata": {}
  },
  {
   "cell_type": "code",
   "execution_count": 31,
   "source": [
    "norm_dist = stats.norm(loc=4, scale=0.8)\n",
    "num_trials = 20000  # シミュレーションの繰り返し数\n",
    "included_num = 0  # 信頼区間が母平均(4)を含んでいた回数\n",
    "\n",
    "# 「データを10個選んで95%信頼区間を求める」試行を20000回繰り返す\n",
    "np.random.seed(1)  # 乱数の種\n",
    "for i in range(0, num_trials):\n",
    "    # 標本の抽出\n",
    "    sample = norm_dist.rvs(size=10)\n",
    "    # 信頼区間の計算\n",
    "    df = len(sample) - 1  # 自由度\n",
    "    x_bar = np.mean(sample)  # 標本平均\n",
    "    u = np.std(sample, ddof=1)  # 標準偏差\n",
    "    se = u / np.sqrt(len(sample))  # 標準誤差\n",
    "    interval = stats.t.interval(alpha=0.95, df=df, loc=x_bar, scale=se)\n",
    "    # 信頼区間が母平均(4)を含んでいた回数をカウント\n",
    "    if (interval[0] <= 4 <= interval[1]):\n",
    "        included_num += 1\n",
    "\n",
    "included_num / num_trials"
   ],
   "outputs": [
    {
     "output_type": "stream",
     "name": "stderr",
     "text": [
      "<ipython-input-31-7bb5a636a59c>:16: DeprecationWarning: Use of keyword argument 'alpha' for method 'interval' is deprecated and wil be removed in SciPy 1.11.0. Use first positional argument or keyword argument 'confidence' instead.\n",
      "  interval = stats.t.interval(alpha=0.95, df=df, loc=x_bar, scale=se)\n"
     ]
    }
   ],
   "metadata": {}
  },
  {
   "cell_type": "markdown",
   "source": [
    " ### 母分散の区間推定\n",
    " $$\n",
    " \\frac{(n-1)s^2}{\\chi_{\\alpha/2}^2}\\leq\\sigma^2\\leq\\frac{(n-1)s^2}{\\chi_{1-\\alpha/2}^2}"
   ],
   "metadata": {}
  },
  {
   "cell_type": "markdown",
   "source": [
    " ### 母平均の区間推定"
   ],
   "metadata": {}
  },
  {
   "cell_type": "code",
   "execution_count": null,
   "source": [
    "# 2.5%点と97.5%点\n",
    "chi_025 = stats.chi2.ppf(q=0.025, df=df)\n",
    "chi_975 = stats.chi2.ppf(q=0.975, df=df)\n",
    "\n",
    "print('χ2分布の2.5%点:', round(chi_025, 3))\n",
    "print('χ2分布の97.5%点:', round(chi_975, 3))\n",
    "\n",
    "# 母分散の区間推定\n",
    "upper_sigma = (n - 1) * u2 / chi_025\n",
    "lower_sigma = (n - 1) * u2 / chi_975\n",
    "\n",
    "print('下側信頼限界:', round(lower_sigma, 3))\n",
    "print('上側信頼限界:', round(upper_sigma, 3))"
   ],
   "outputs": [],
   "metadata": {}
  }
 ],
 "nbformat": 4,
 "nbformat_minor": 2,
 "metadata": {
  "language_info": {
   "codemirror_mode": {
    "name": "ipython",
    "version": 3
   },
   "file_extension": ".py",
   "mimetype": "text/x-python",
   "name": "python",
   "nbconvert_exporter": "python",
   "pygments_lexer": "ipython3",
   "version": 3
  },
  "orig_nbformat": 4
 }
}