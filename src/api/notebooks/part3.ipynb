{
 "cells": [
  {
   "cell_type": "markdown",
   "source": [
    " # 統計的推定"
   ],
   "metadata": {}
  },
  {
   "cell_type": "code",
   "execution_count": 2,
   "source": [
    "# %\n",
    "import numpy as np\n",
    "import pandas as pd\n",
    "from scipy import stats\n",
    "import seaborn as sns\n",
    "from matplotlib import pyplot as plt\n",
    "import unittest\n",
    "import doctest\n",
    "from matplotlib import rcParams\n",
    "import os\n",
    "import warnings\n",
    "warnings.simplefilter('ignore', FutureWarning)\n",
    "path = os.path.dirname(os.path.abspath(__file__))"
   ],
   "outputs": [],
   "metadata": {}
  },
  {
   "cell_type": "markdown",
   "source": [
    " ## 統計的推測の考え方"
   ],
   "metadata": {}
  },
  {
   "cell_type": "markdown",
   "source": [
    " ### サンプリング"
   ],
   "metadata": {}
  },
  {
   "cell_type": "markdown",
   "source": [
    " ### 単純ランダムサンプリング"
   ],
   "metadata": {}
  },
  {
   "cell_type": "markdown",
   "source": [
    " ### 湖と釣りの例"
   ],
   "metadata": {}
  },
  {
   "cell_type": "markdown",
   "source": [
    " ### 標本と確率変数"
   ],
   "metadata": {}
  },
  {
   "cell_type": "markdown",
   "source": [
    " ### 標本が得られるプロセスとしての母集団分析"
   ],
   "metadata": {}
  },
  {
   "cell_type": "markdown",
   "source": [
    " ### 母集団分からの標本抽出の言い換え"
   ],
   "metadata": {}
  },
  {
   "cell_type": "markdown",
   "source": [
    " ### モデルの利用"
   ],
   "metadata": {}
  },
  {
   "cell_type": "markdown",
   "source": [
    " ### 壺のモデル"
   ],
   "metadata": {}
  },
  {
   "cell_type": "markdown",
   "source": [
    " ### 標本が得られるプロセスの抽象化としてのモデル"
   ],
   "metadata": {}
  },
  {
   "cell_type": "markdown",
   "source": [
    " ### 母集団分布と母集団の相対度数分布"
   ],
   "metadata": {}
  },
  {
   "cell_type": "markdown",
   "source": [
    " ### もう少し現実的な、湖と釣りの例"
   ],
   "metadata": {}
  },
  {
   "cell_type": "markdown",
   "source": [
    " ### 仮定を置くということ"
   ],
   "metadata": {}
  },
  {
   "cell_type": "markdown",
   "source": [
    " ### 母集団分布に正規分布を仮定する"
   ],
   "metadata": {}
  },
  {
   "cell_type": "markdown",
   "source": [
    " ### 確率分布のパラメータ（母数）"
   ],
   "metadata": {}
  },
  {
   "cell_type": "markdown",
   "source": [
    " ### パラメトリックなモデル・ノンパラメトリックなモデル"
   ],
   "metadata": {}
  },
  {
   "cell_type": "markdown",
   "source": [
    " ### 統計的推定"
   ],
   "metadata": {}
  },
  {
   "cell_type": "markdown",
   "source": [
    " ### 母集団分布に正規分布を仮定した場合の手続き"
   ],
   "metadata": {}
  },
  {
   "cell_type": "markdown",
   "source": [
    " ### まとめ：統計的推測の考え方"
   ],
   "metadata": {}
  },
  {
   "cell_type": "markdown",
   "source": [
    " ### 次章からの開設の流れ"
   ],
   "metadata": {}
  },
  {
   "cell_type": "markdown",
   "source": [
    " ### 仮定を置くｎということの是非"
   ],
   "metadata": {}
  },
  {
   "cell_type": "markdown",
   "source": [
    " ## 母分散の推定"
   ],
   "metadata": {}
  },
  {
   "cell_type": "markdown",
   "source": [
    " ### 分析の準備"
   ],
   "metadata": {}
  },
  {
   "cell_type": "markdown",
   "source": [
    " ### 母分散の用意"
   ],
   "metadata": {}
  },
  {
   "cell_type": "markdown",
   "source": [
    " ### 母分散の推定量としての標本分散・不偏分散"
   ],
   "metadata": {}
  },
  {
   "cell_type": "markdown",
   "source": [
    " ### 標本分散と不偏分散を計算する"
   ],
   "metadata": {}
  },
  {
   "cell_type": "markdown",
   "source": [
    " ### 標本分散の平均値"
   ],
   "metadata": {}
  },
  {
   "cell_type": "markdown",
   "source": [
    " ### 不偏分散の平均値"
   ],
   "metadata": {}
  },
  {
   "cell_type": "markdown",
   "source": [
    " ### 母分散の不偏推定量としての不偏分散"
   ],
   "metadata": {}
  },
  {
   "cell_type": "markdown",
   "source": [
    " ### サンプルサイズを大きくしたときの不偏分散"
   ],
   "metadata": {}
  },
  {
   "cell_type": "markdown",
   "source": [
    " ## 正規母集団から派生した確率分布"
   ],
   "metadata": {}
  },
  {
   "cell_type": "markdown",
   "source": [
    " ### 分析の準備"
   ],
   "metadata": {}
  },
  {
   "cell_type": "markdown",
   "source": [
    " ### 標本分布"
   ],
   "metadata": {}
  },
  {
   "cell_type": "markdown",
   "source": [
    " ### 正規分布の活用"
   ],
   "metadata": {}
  },
  {
   "cell_type": "markdown",
   "source": [
    " ### χ２分布"
   ],
   "metadata": {}
  },
  {
   "cell_type": "markdown",
   "source": [
    " ### シミュレーションの準備"
   ],
   "metadata": {}
  },
  {
   "cell_type": "markdown",
   "source": [
    " ### χ２分布"
   ],
   "metadata": {}
  },
  {
   "cell_type": "markdown",
   "source": [
    " ### 標本平均が従う確率分布"
   ],
   "metadata": {}
  },
  {
   "cell_type": "markdown",
   "source": [
    " ### 標本平均の標準化"
   ],
   "metadata": {}
  },
  {
   "cell_type": "markdown",
   "source": [
    " ### t分布"
   ],
   "metadata": {}
  },
  {
   "cell_type": "markdown",
   "source": [
    " ### t分布"
   ],
   "metadata": {}
  },
  {
   "cell_type": "markdown",
   "source": [
    " ### F分布"
   ],
   "metadata": {}
  },
  {
   "cell_type": "markdown",
   "source": [
    " ### F分布"
   ],
   "metadata": {}
  },
  {
   "cell_type": "markdown",
   "source": [
    " ## 区間推定"
   ],
   "metadata": {}
  },
  {
   "cell_type": "markdown",
   "source": [
    " ### 分析の準備"
   ],
   "metadata": {}
  },
  {
   "cell_type": "markdown",
   "source": [
    " ### 点推定・区間推定"
   ],
   "metadata": {}
  },
  {
   "cell_type": "markdown",
   "source": [
    " ### 点推定"
   ],
   "metadata": {}
  },
  {
   "cell_type": "markdown",
   "source": [
    " ### 信頼係数・信頼区間"
   ],
   "metadata": {}
  },
  {
   "cell_type": "markdown",
   "source": [
    " ### 信頼限界"
   ],
   "metadata": {}
  },
  {
   "cell_type": "markdown",
   "source": [
    " ### 母平均の区間推定"
   ],
   "metadata": {}
  },
  {
   "cell_type": "markdown",
   "source": [
    " ### 母分散の区間推定"
   ],
   "metadata": {}
  },
  {
   "cell_type": "markdown",
   "source": [
    " ### 信頼区間の幅を決める要素"
   ],
   "metadata": {}
  },
  {
   "cell_type": "markdown",
   "source": [
    " ### 区間推定の結果の解釈"
   ],
   "metadata": {}
  },
  {
   "cell_type": "markdown",
   "source": [
    " ### 母分散の区間推定"
   ],
   "metadata": {}
  },
  {
   "cell_type": "markdown",
   "source": [
    " ### 母平均の区間推定"
   ],
   "metadata": {}
  }
 ],
 "nbformat": 4,
 "nbformat_minor": 2,
 "metadata": {
  "language_info": {
   "codemirror_mode": {
    "name": "ipython",
    "version": 3
   },
   "file_extension": ".py",
   "mimetype": "text/x-python",
   "name": "python",
   "nbconvert_exporter": "python",
   "pygments_lexer": "ipython3",
   "version": 3
  },
  "orig_nbformat": 4
 }
}