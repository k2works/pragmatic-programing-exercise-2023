{
 "cells": [
  {
   "cell_type": "markdown",
   "source": [
    " # 木構造と2分検索木"
   ],
   "metadata": {}
  },
  {
   "cell_type": "code",
   "execution_count": 1,
   "source": [
    "from __future__ import annotations\n",
    "from typing import Any, MutableSequence, Sequence\n",
    "import unittest\n",
    "import doctest"
   ],
   "outputs": [],
   "metadata": {}
  },
  {
   "cell_type": "markdown",
   "source": [
    " ## 木構造"
   ],
   "metadata": {}
  },
  {
   "cell_type": "markdown",
   "source": [
    " ### 木とは"
   ],
   "metadata": {}
  },
  {
   "cell_type": "markdown",
   "source": [
    " ### 順序木と無順序木"
   ],
   "metadata": {}
  },
  {
   "cell_type": "markdown",
   "source": [
    " ### 順序木の探索"
   ],
   "metadata": {}
  },
  {
   "cell_type": "markdown",
   "source": [
    " ## ２分木と２分探索木"
   ],
   "metadata": {}
  },
  {
   "cell_type": "markdown",
   "source": [
    " ### ２分木"
   ],
   "metadata": {}
  },
  {
   "cell_type": "markdown",
   "source": [
    " ### ２分探索木"
   ],
   "metadata": {}
  },
  {
   "cell_type": "markdown",
   "source": [
    " ### ２分探索の実現"
   ],
   "metadata": {}
  },
  {
   "cell_type": "markdown",
   "source": [
    " ### ２分探索木を利用するプログラム\n",
    " %"
   ],
   "metadata": {}
  },
  {
   "cell_type": "code",
   "execution_count": 2,
   "source": [
    "class TestBst(unittest.TestCase):\n",
    "    def test_２分探索木を生成(self):\n",
    "        bst = BinarySearchTree()\n",
    "        self.assertIsNone(bst.root)\n",
    "\n",
    "    def test_挿入(self):\n",
    "        bst = BinarySearchTree()\n",
    "        self.assertTrue(bst.add(1, 'one'))\n",
    "        self.assertTrue(bst.add(3, 'three'))\n",
    "        self.assertTrue(bst.add(2, 'two'))\n",
    "        self.assertTrue(bst.add(2, 'two'))\n",
    "\n",
    "    def test_削除(self):\n",
    "        bst = BinarySearchTree()\n",
    "        self.assertTrue(bst.add(1, 'one'))\n",
    "        self.assertTrue(bst.add(3, 'three'))\n",
    "        self.assertTrue(bst.add(2, 'two'))\n",
    "        self.assertTrue(bst.add(2, 'two'))\n",
    "        self.assertTrue(bst.remove(2))\n",
    "        self.assertFalse(bst.remove(2))\n",
    "\n",
    "    def test_探索(self):\n",
    "        bst = BinarySearchTree()\n",
    "        self.assertTrue(bst.add(1, 'one'))\n",
    "        self.assertTrue(bst.add(3, 'three'))\n",
    "        self.assertTrue(bst.add(2, 'two'))\n",
    "        self.assertTrue(bst.add(2, 'two'))\n",
    "        self.assertEqual(bst.search(2), 'two')\n",
    "        self.assertIsNone(bst.search(4))\n",
    "\n",
    "    def test_ダンプ(self):\n",
    "        bst = BinarySearchTree()\n",
    "        self.assertTrue(bst.add(1, 'one'))\n",
    "        self.assertTrue(bst.add(3, 'three'))\n",
    "        self.assertTrue(bst.add(2, 'two'))\n",
    "        self.assertTrue(bst.add(2, 'two'))\n",
    "        bst.dump()\n",
    "\n",
    "\n",
    "class Node:\n",
    "    \"\"\"２分探索木のノード\"\"\"\n",
    "\n",
    "    def __init__(self, key: Any, value: Any, left: Node = None, right: Node = None):\n",
    "        \"\"\"コンストラクタ\"\"\"\n",
    "        self.key = key     # キー\n",
    "        self.value = value  # 値\n",
    "        self.left = left   # 左ポインタ（左の子への参照）\n",
    "        self.right = right  # 右ポインタ（右の子への参照）\n",
    "\n",
    "\n",
    "class BinarySearchTree:\n",
    "    \"\"\"２分探索木\"\"\"\n",
    "\n",
    "    def __init__(self):\n",
    "        \"\"\"初期化\"\"\"\n",
    "        self.root = None  # 根\n",
    "\n",
    "    def search(self, key: Any) -> Any:\n",
    "        \"\"\"キーkeyをもつノードを探索\"\"\"\n",
    "        p = self.root    # 根に着目\n",
    "        while True:\n",
    "            if p is None:       # これ以上進めないので失敗\n",
    "                return None     # 探索失敗\n",
    "            if key == p.key:    # keyとノードpのキーが一致すれば\n",
    "                return p.value  # 探索成功\n",
    "            elif key < p.key:   # keyのほうが小さければ\n",
    "                p = p.left      # 左の子に進む\n",
    "            else:               # keyのほうが大きければ\n",
    "                p = p.right     # 右の子に進む\n",
    "\n",
    "    def add(self, key: Any, value: Any) -> bool:\n",
    "        \"\"\"キーがkeyで値がvalueのノードを挿入\"\"\"\n",
    "\n",
    "        def add_node(node: Node, key: Any, value: Any) -> None:\n",
    "            \"\"\"nodeを根とする部分木にキーがkeyで値がvalueのノードを挿入\"\"\"\n",
    "            if key == node.key:\n",
    "                return False  # keyは既に存在するので挿入失敗\n",
    "            elif key < node.key:\n",
    "                if node.left is None:\n",
    "                    node.left = Node(key, value, None, None)\n",
    "                else:\n",
    "                    add_node(node.left, key, value)\n",
    "            else:\n",
    "                if node.right is None:\n",
    "                    node.right = Node(key, value, None, None)\n",
    "                else:\n",
    "                    add_node(node.right, key, value)\n",
    "            return True\n",
    "\n",
    "        if self.root is None:\n",
    "            self.root = Node(key, value, None, None)\n",
    "            return True\n",
    "        else:\n",
    "            return add_node(self.root, key, value)\n",
    "\n",
    "    def remove(self, key: Any) -> bool:\n",
    "        \"\"\"キーがkeyのノードを削除\"\"\"\n",
    "        p = self.root  # 走査中のノード\n",
    "        parent = None  # 走査中のノードの親ノード\n",
    "        is_left_child = True  # pはparentの左子ノードか？\n",
    "\n",
    "        while True:\n",
    "            if p is None:     # これ以上進めないので削除失敗\n",
    "                return False  # 削除失敗\n",
    "\n",
    "            if key == p.key:  # keyとノードpのキーが一致すれば\n",
    "                break         # 探索成功\n",
    "            else:\n",
    "                parent = p      # 枝をくだる前に親を設定\n",
    "                if key < p.key:  # keyのほうが小さければ\n",
    "                    is_left_child = True  # 左の子に進む\n",
    "                    p = p.left    # 左の子に進む\n",
    "                else:             # keyのほうが大きければ\n",
    "                    is_left_child = False  # 右の子に進む\n",
    "                    p = p.right   # 右の子に進む\n",
    "\n",
    "        if p.left is None:  # pには左の子がいないか、左の子が葉ノード\n",
    "            if p is self.root:\n",
    "                self.root = p.right\n",
    "            elif is_left_child:\n",
    "                parent.left = p.right\n",
    "            else:\n",
    "                parent.right = p.right\n",
    "        elif p.right is None:  # pには右の子がいないか、右の子が葉ノード\n",
    "            if p is self.root:\n",
    "                self.root = p.left\n",
    "            elif is_left_child:\n",
    "                parent.left = p.left  # 親の左ポインタが左の子を指すように\n",
    "            else:\n",
    "                parent.right = p.left  # 親の右ポインタが左の子を指すように\n",
    "        else:\n",
    "            parent = p\n",
    "            left = p.left             # 部分木の中の最大ノード\n",
    "            is_left_child = True\n",
    "            while left.right is not None:  # 最大ノードleftを探索\n",
    "                parent = left\n",
    "                left = left.right\n",
    "                is_left_child = False\n",
    "\n",
    "            p.key = left.key        # leftのキーをpに移動\n",
    "            p.value = left.value    # leftの値をpに移動\n",
    "            if is_left_child:\n",
    "                parent.left = left.left  # leftを削除\n",
    "            else:\n",
    "                parent.right = left.left  # leftを削除\n",
    "        return True\n",
    "\n",
    "    def dump(self) -> None:\n",
    "        \"\"\"ダンプ（全ノードをキーの昇順に表示）\"\"\"\n",
    "\n",
    "        def print_subtree(node: Node):\n",
    "            \"\"\"nodeを根とする部分木のノードをキーの昇順に表示\"\"\"\n",
    "            if node is not None:\n",
    "                print_subtree(node.left)    # 左部分木をキーの昇順に表示\n",
    "                print(f'{node.key}  {node.value}')  # nodeを表示\n",
    "                print_subtree(node.right)   # 右部分木をキーの昇順に表示\n",
    "\n",
    "        print_subtree(self.root)\n",
    "\n",
    "    def min_key(self) -> Any:\n",
    "        \"\"\"最小のキー\"\"\"\n",
    "        if self.root is None:\n",
    "            return None\n",
    "        p = self.root\n",
    "        while p.left is not None:\n",
    "            p = p.left\n",
    "        return p.key\n",
    "\n",
    "    def max_key(self) -> Any:\n",
    "        \"\"\"最大のキー\"\"\"\n",
    "        if self.root is None:\n",
    "            return None\n",
    "        p = self.root\n",
    "        while p.right is not None:\n",
    "            p = p.right\n",
    "        return p.key"
   ],
   "outputs": [],
   "metadata": {}
  },
  {
   "cell_type": "code",
   "execution_count": 3,
   "source": [
    "unittest.main(argv=[''], verbosity=2, exit=False)\n",
    "doctest.testmod(verbose=True)"
   ],
   "outputs": [
    {
     "output_type": "stream",
     "name": "stderr",
     "text": [
      "test_2分探索木を生成 (__main__.TestBst) ... ok\n",
      "test_ダンプ (__main__.TestBst) ... ok\n",
      "test_削除 (__main__.TestBst) ... ok\n",
      "test_挿入 (__main__.TestBst) ... ok\n",
      "test_探索 (__main__.TestBst) ... "
     ]
    },
    {
     "output_type": "stream",
     "name": "stdout",
     "text": [
      "1  one\n",
      "2  two\n",
      "3  three\n",
      "19 items had no tests:\n",
      "    __main__\n",
      "    __main__.BinarySearchTree\n",
      "    __main__.BinarySearchTree.__init__\n",
      "    __main__.BinarySearchTree.add\n",
      "    __main__.BinarySearchTree.dump\n",
      "    __main__.BinarySearchTree.max_key\n",
      "    __main__.BinarySearchTree.min_key\n",
      "    __main__.BinarySearchTree.remove\n",
      "    __main__.BinarySearchTree.search\n",
      "    __main__.Node\n",
      "    __main__.Node.__init__\n",
      "    __main__.TestBst\n",
      "    __main__.TestBst.test_2分探索木を生成\n",
      "    __main__.TestBst.test_ダンプ\n",
      "    __main__.TestBst.test_削除\n",
      "    __main__.TestBst.test_挿入\n",
      "    __main__.TestBst.test_探索\n",
      "    __main__.__VSCODE_compute_hash\n",
      "    __main__.__VSCODE_wrap_run_cell\n",
      "0 tests in 19 items.\n",
      "0 passed and 0 failed.\n",
      "Test passed.\n"
     ]
    },
    {
     "output_type": "stream",
     "name": "stderr",
     "text": [
      "ok\n",
      "\n",
      "----------------------------------------------------------------------\n",
      "Ran 5 tests in 0.004s\n",
      "\n",
      "OK\n"
     ]
    },
    {
     "output_type": "execute_result",
     "data": {
      "text/plain": [
       "TestResults(failed=0, attempted=0)"
      ]
     },
     "metadata": {},
     "execution_count": 3
    }
   ],
   "metadata": {}
  }
 ],
 "nbformat": 4,
 "nbformat_minor": 2,
 "metadata": {
  "language_info": {
   "codemirror_mode": {
    "name": "ipython",
    "version": 3
   },
   "file_extension": ".py",
   "mimetype": "text/x-python",
   "name": "python",
   "nbconvert_exporter": "python",
   "pygments_lexer": "ipython3",
   "version": 3
  },
  "orig_nbformat": 4
 }
}